{
 "cells": [
  {
   "cell_type": "code",
   "execution_count": 56,
   "id": "ead7f861-bddc-4c90-aa82-fddb5584ddc3",
   "metadata": {
    "tags": []
   },
   "outputs": [],
   "source": [
    "import sqlalchemy as db\n",
    "from sqlalchemy import create_engine, inspect, MetaData\n",
    "import pandas as pd"
   ]
  },
  {
   "cell_type": "code",
   "execution_count": 1,
   "id": "376f2183-67a7-4066-b38d-f053afe0f204",
   "metadata": {},
   "outputs": [
    {
     "data": {
      "text/plain": [
       "'C:\\\\Users\\\\peter\\\\Coding\\\\Jupyter'"
      ]
     },
     "execution_count": 1,
     "metadata": {},
     "output_type": "execute_result"
    }
   ],
   "source": [
    "import os\n",
    "os.getcwd()"
   ]
  },
  {
   "cell_type": "code",
   "execution_count": null,
   "id": "717f5026-1a4e-4bce-a274-53a00ec93df9",
   "metadata": {},
   "outputs": [],
   "source": []
  },
  {
   "cell_type": "code",
   "execution_count": 58,
   "id": "b1190fdd-5dc7-4536-b583-388aac9fe46a",
   "metadata": {},
   "outputs": [],
   "source": [
    "engine = db.create_engine('sqlite:///C:\\\\Users\\\\peter\\\\Documents\\\\Projekte\\\\Zähler\\\\tc_all_new.db', echo = False)"
   ]
  },
  {
   "cell_type": "code",
   "execution_count": 59,
   "id": "60855231-2f59-4155-86a5-99edbfa735f6",
   "metadata": {},
   "outputs": [],
   "source": [
    "conn = engine.connect()"
   ]
  },
  {
   "cell_type": "markdown",
   "id": "14576580-9659-49ee-8736-7e8871b93834",
   "metadata": {
    "tags": []
   },
   "source": [
    "#### So komme ich an die Tabellen in der DB!"
   ]
  },
  {
   "cell_type": "code",
   "execution_count": 60,
   "id": "43f3c65a-af7e-4c54-b5d1-955fc392532a",
   "metadata": {},
   "outputs": [],
   "source": [
    "inspector = inspect(engine)"
   ]
  },
  {
   "cell_type": "code",
   "execution_count": 61,
   "id": "bd4bf2e5-c1ee-4ddb-819a-6b5d60ebc7a0",
   "metadata": {},
   "outputs": [],
   "source": [
    "tab = inspector.get_table_names()\n",
    "tab = tab[:-1]"
   ]
  },
  {
   "cell_type": "markdown",
   "id": "55905aff-8071-43e7-af18-15e06b3dce01",
   "metadata": {
    "tags": []
   },
   "source": [
    "#### Und so die Spaltennamen und Typen in einer Tabelle!"
   ]
  },
  {
   "cell_type": "code",
   "execution_count": 62,
   "id": "ae626ae5-1c0d-4fa6-98bf-70e84bf1b362",
   "metadata": {},
   "outputs": [
    {
     "name": "stdout",
     "output_type": "stream",
     "text": [
      "time TEXT\n",
      "vfr11 REAL\n",
      "s12 REAL\n",
      "vfr21 REAL\n",
      "s22 REAL\n",
      "vfr1 REAL\n",
      "s2 REAL\n"
     ]
    }
   ],
   "source": [
    "columns_table = inspector.get_columns('tcdata_CH_0084_01') \n",
    "\n",
    "\n",
    "for c in columns_table :\n",
    "    print(c['name'], c['type'])"
   ]
  },
  {
   "cell_type": "markdown",
   "id": "cfa1a927-cb28-4604-9d1b-eced0d6774f1",
   "metadata": {},
   "source": [
    "#### Es ist gar nicht so einfach, in SQLalchemy auf Tabellen einer bestehenden DB zuzugreifen. Bei Verwendung von des ORM kann \"automate\" zur Anwendung kommen. Ohne ORM geht es wie folgt:"
   ]
  },
  {
   "cell_type": "code",
   "execution_count": 63,
   "id": "349763ed-7692-4149-982b-3c4b4e8b570b",
   "metadata": {
    "tags": []
   },
   "outputs": [],
   "source": [
    "metadata = db.MetaData(bind=engine)"
   ]
  },
  {
   "cell_type": "code",
   "execution_count": 64,
   "id": "c0241a1d-9882-4246-93b5-db710cd241b5",
   "metadata": {},
   "outputs": [],
   "source": [
    "table = db.Table('tcdata_CH_0084_01', metadata, autoload = True)"
   ]
  },
  {
   "cell_type": "markdown",
   "id": "97f892b4-29cb-4540-adf1-d480c69cf30b",
   "metadata": {},
   "source": [
    "#### Voila, mit der so definierten Tabelle kann ich die Abfragen starten!"
   ]
  },
  {
   "cell_type": "code",
   "execution_count": 65,
   "id": "0532d715-defd-4596-a04e-f5b231878406",
   "metadata": {},
   "outputs": [
    {
     "data": {
      "text/plain": [
       "[('2021-07-27 19:53:00+02:00', 900.0, 68.9000015, 0.0, 0.0, 0.0, 0.0),\n",
       " ('2021-07-27 19:58:00+02:00', 840.0, 65.5, 60.0, 73.0, 0.0, 0.0),\n",
       " ('2021-07-27 20:03:00+02:00', 840.0, 67.8000031, 60.0, 72.0, 0.0, 0.0),\n",
       " ('2021-07-27 20:08:00+02:00', 600.0, 79.3000031, 0.0, 0.0, 0.0, 0.0),\n",
       " ('2021-07-27 20:13:00+02:00', 720.0, 72.3000031, 0.0, 0.0, 0.0, 0.0),\n",
       " ('2021-07-27 20:18:00+02:00', 780.0, 73.9000015, 0.0, 0.0, 0.0, 0.0)]"
      ]
     },
     "execution_count": 65,
     "metadata": {},
     "output_type": "execute_result"
    }
   ],
   "source": [
    "q = db.select(table)\n",
    "result = conn.execute(q)\n",
    "row = result.fetchmany(6)\n",
    "row"
   ]
  },
  {
   "cell_type": "markdown",
   "id": "b4528868-df77-4e8b-9982-99a1fd7f3bab",
   "metadata": {},
   "source": [
    "#### Wichtige Importe"
   ]
  },
  {
   "cell_type": "code",
   "execution_count": 66,
   "id": "28015fb8-5108-4da4-a542-3d4883120fb8",
   "metadata": {},
   "outputs": [],
   "source": [
    "from sqlalchemy.sql import func, and_, desc, alias, text"
   ]
  },
  {
   "cell_type": "markdown",
   "id": "ec1ad9ce-6323-47dc-b6ae-6ba2ec6b70be",
   "metadata": {},
   "source": [
    "#### Ab hier mit group_by"
   ]
  },
  {
   "cell_type": "code",
   "execution_count": 67,
   "id": "f1062c9f-714f-4e4e-a217-718830a20a34",
   "metadata": {},
   "outputs": [
    {
     "data": {
      "text/plain": [
       "[('2021-11-07 04:53:00+01:00', 120.0, 67.0, 0.0, 0.0, 0.0, 0.0),\n",
       " ('2021-11-01 01:03:00+01:00', 180.0, 73.6999969, 0.0, 0.0, 0.0, 0.0),\n",
       " ('2021-11-02 01:03:00+01:00', 0.0, 0.0, 0.0, 0.0, 0.0, 0.0),\n",
       " ('2021-11-03 01:03:00+01:00', 180.0, 64.6999969, 0.0, 0.0, 0.0, 0.0),\n",
       " ('2021-11-04 01:03:00+01:00', 60.0, 93.0, 0.0, 0.0, 0.0, 0.0),\n",
       " ('2021-11-05 01:03:00+01:00', 60.0, 71.0, 60.0, 75.0, 0.0, 0.0),\n",
       " ('2021-11-06 01:03:00+01:00', 360.0, 71.0, 0.0, 0.0, 0.0, 0.0)]"
      ]
     },
     "execution_count": 67,
     "metadata": {},
     "output_type": "execute_result"
    }
   ],
   "source": [
    "q = db.select(table).where(and_(func.strftime('%m', table.c.time) == '11')).group_by(func.strftime('%w', table.c.time))\n",
    "result = conn.execute(q)\n",
    "row = result.fetchmany(25)\n",
    "row"
   ]
  },
  {
   "cell_type": "markdown",
   "id": "e0552fad-3688-4142-908d-a72551ddb191",
   "metadata": {},
   "source": [
    "#### order_by"
   ]
  },
  {
   "cell_type": "code",
   "execution_count": 68,
   "id": "c3af4c09-cc6d-4527-a4a6-5e2701955d63",
   "metadata": {},
   "outputs": [
    {
     "data": {
      "text/plain": [
       "[('5', 97.0),\n",
       " ('2', 102.0),\n",
       " ('0', 105.0),\n",
       " ('3', 105.0),\n",
       " ('4', 108.0),\n",
       " ('1', 112.0),\n",
       " ('6', 131.0)]"
      ]
     },
     "execution_count": 68,
     "metadata": {},
     "output_type": "execute_result"
    }
   ],
   "source": [
    "q = db.select(func.strftime('%w', table.c.time), func.max(table.c.s12)).where(and_(func.strftime('%m', table.c.time) == '11')). \\\n",
    "group_by(func.strftime('%w', table.c.time)).order_by(table.c.s12)\n",
    "result = conn.execute(q)\n",
    "row = result.fetchmany(25)\n",
    "row"
   ]
  },
  {
   "cell_type": "markdown",
   "id": "9a027c3f-c108-4786-9c85-cd07095e9652",
   "metadata": {},
   "source": [
    "#### Intro eines Alias für table (WICHTIG: *Alias* gilt nur für Tabellen. Spalten kann man mit *Labels* umbenennen..."
   ]
  },
  {
   "cell_type": "code",
   "execution_count": 69,
   "id": "c146b5c5-6fc7-401f-8139-3063f75dec04",
   "metadata": {},
   "outputs": [],
   "source": [
    "t = table.alias()"
   ]
  },
  {
   "cell_type": "code",
   "execution_count": 70,
   "id": "90452a4b-f5e4-48e2-9aad-2f32bcdc24ee",
   "metadata": {},
   "outputs": [
    {
     "data": {
      "text/plain": [
       "[('2021-07-27 19:53:00+02:00', 900.0, 68.9000015, 0.0, 0.0, 0.0, 0.0, '07'),\n",
       " ('2021-07-27 19:58:00+02:00', 840.0, 65.5, 60.0, 73.0, 0.0, 0.0, '07'),\n",
       " ('2021-07-27 20:03:00+02:00', 840.0, 67.8000031, 60.0, 72.0, 0.0, 0.0, '07'),\n",
       " ('2021-07-27 20:08:00+02:00', 600.0, 79.3000031, 0.0, 0.0, 0.0, 0.0, '07'),\n",
       " ('2021-07-27 20:13:00+02:00', 720.0, 72.3000031, 0.0, 0.0, 0.0, 0.0, '07'),\n",
       " ('2021-07-27 20:18:00+02:00', 780.0, 73.9000015, 0.0, 0.0, 0.0, 0.0, '07')]"
      ]
     },
     "execution_count": 70,
     "metadata": {},
     "output_type": "execute_result"
    }
   ],
   "source": [
    "q = db.select(t, func.strftime('%m', t.c.time).label('Monat'))\n",
    "result = conn.execute(q)\n",
    "row = result.fetchmany(6)\n",
    "row"
   ]
  },
  {
   "cell_type": "markdown",
   "id": "4f7ac66d-a8a0-4f3b-a40e-dfacf3d982e0",
   "metadata": {},
   "source": [
    "#### Ab hier gucken, was noch gebraucht wird"
   ]
  },
  {
   "cell_type": "code",
   "execution_count": 71,
   "id": "e188c7e3-3cf6-41a2-97cc-b5e3dee8113a",
   "metadata": {},
   "outputs": [
    {
     "data": {
      "text/plain": [
       "[('2022-01-01 01:03:00+01:00', 540.0, 60.4000015, 0.0, 0.0, 0.0, 0.0, '01', 17500),\n",
       " ('2022-02-01 01:03:00+01:00', 180.0, 45.0, 0.0, 0.0, 0.0, 0.0, '02', 15837),\n",
       " ('2022-03-01 04:53:00+01:00', 0.0, 0.0, 0.0, 0.0, 0.0, 0.0, '03', 17660),\n",
       " ('2022-04-01 02:03:00+02:00', 60.0, 62.0, 0.0, 0.0, 0.0, 0.0, '04', 17276),\n",
       " ('2022-05-01 02:03:00+02:00', 240.0, 63.2999992, 0.0, 0.0, 0.0, 0.0, '05', 13862),\n",
       " ('2021-07-27 19:53:00+02:00', 900.0, 68.9000015, 0.0, 0.0, 0.0, 0.0, '07', 3407),\n",
       " ('2021-08-01 20:09:00+02:00', 600.0, 71.5999985, 0.0, 0.0, 0.0, 0.0, '08', 17286),\n",
       " ('2021-09-01 02:03:00+02:00', 120.0, 66.5, 0.0, 0.0, 0.0, 0.0, '09', 16613),\n",
       " ('2021-10-01 02:03:00+02:00', 120.0, 70.0, 0.0, 0.0, 0.0, 0.0, '10', 17238),\n",
       " ('2021-11-01 01:03:00+01:00', 180.0, 73.6999969, 0.0, 0.0, 0.0, 0.0, '11', 16612),\n",
       " ('2021-12-01 01:03:00+01:00', 0.0, 0.0, 0.0, 0.0, 0.0, 0.0, '12', 17059)]"
      ]
     },
     "execution_count": 71,
     "metadata": {},
     "output_type": "execute_result"
    }
   ],
   "source": [
    "q = db.select(t, func.strftime('%m', t.c.time).label('Monat'), func.count(t.c.time)).group_by('Monat')\n",
    "result = conn.execute(q)\n",
    "row = result.fetchmany(14)\n",
    "row"
   ]
  },
  {
   "cell_type": "code",
   "execution_count": 72,
   "id": "f023d8ae-144e-4a7c-9f04-31308031f4fd",
   "metadata": {},
   "outputs": [
    {
     "data": {
      "text/plain": [
       "[('2021-09-01 02:03:00+02:00', '00', '01', 96),\n",
       " ('2021-08-02 02:00:00+02:00', '00', '02', 132),\n",
       " ('2021-09-03 02:03:00+02:00', '00', '03', 106),\n",
       " ('2021-08-04 02:03:00+02:00', '00', '04', 120),\n",
       " ('2021-08-05 02:03:00+02:00', '00', '05', 108),\n",
       " ('2021-08-06 02:03:00+02:00', '00', '06', 132),\n",
       " ('2021-08-07 02:03:00+02:00', '00', '07', 84),\n",
       " ('2021-08-08 02:04:00+02:00', '00', '08', 120),\n",
       " ('2021-08-09 02:03:00+02:00', '00', '09', 120),\n",
       " ('2021-08-10 02:03:00+02:00', '00', '10', 120),\n",
       " ('2021-08-11 02:03:00+02:00', '00', '11', 120),\n",
       " ('2021-08-12 02:03:00+02:00', '00', '12', 120),\n",
       " ('2021-08-13 02:03:00+02:00', '00', '13', 119),\n",
       " ('2021-08-14 02:03:00+02:00', '00', '14', 108)]"
      ]
     },
     "execution_count": 72,
     "metadata": {},
     "output_type": "execute_result"
    }
   ],
   "source": [
    "q = db.select(t.c.time, func.strftime('%H', t.c.time).label('Stunde'), func.strftime('%d', t.c.time).label('Tag'), func.count(t.c.time)). \\\n",
    "group_by('Stunde', 'Tag')\n",
    "result = conn.execute(q)\n",
    "row = result.fetchmany(14)\n",
    "row"
   ]
  },
  {
   "cell_type": "code",
   "execution_count": 73,
   "id": "64ec93f7-ebb9-462b-bb4f-5b9aa61b5221",
   "metadata": {},
   "outputs": [
    {
     "data": {
      "text/plain": [
       "[('2021-08-01 20:09:00+02:00', '18', '01', '0', 23336),\n",
       " ('2021-08-02 02:00:00+02:00', '00', '02', '1', 24313),\n",
       " ('2021-07-27 19:53:00+02:00', '17', '27', '2', 24001),\n",
       " ('2021-07-28 02:03:00+02:00', '00', '28', '3', 24658),\n",
       " ('2021-07-29 02:03:00+02:00', '00', '29', '4', 25082),\n",
       " ('2021-07-30 02:03:00+02:00', '00', '30', '5', 24370),\n",
       " ('2021-07-31 02:03:00+02:00', '00', '31', '6', 24590)]"
      ]
     },
     "execution_count": 73,
     "metadata": {},
     "output_type": "execute_result"
    }
   ],
   "source": [
    "q = db.select(t.c.time, func.strftime('%H', t.c.time).label('Stunde'), func.strftime('%d', t.c.time).label('Tag'), func.strftime('%w', t.c.time), func.count(t.c.time)). \\\n",
    "group_by(func.strftime('%w', t.c.time))\n",
    "result = conn.execute(q)\n",
    "row = result.fetchmany(14)\n",
    "row"
   ]
  },
  {
   "cell_type": "markdown",
   "id": "c06ccf47-3639-48b7-ad5b-8aee5e56bc83",
   "metadata": {},
   "source": [
    "#### Abfragen mit Zeiträumen als Kriterium"
   ]
  },
  {
   "cell_type": "code",
   "execution_count": 74,
   "id": "da1e1e24-feaf-433a-a7d5-e0d280054b19",
   "metadata": {},
   "outputs": [
    {
     "data": {
      "text/plain": [
       "[('2021-11-07 04:53:00+01:00', '03', '07', '0', 15566),\n",
       " ('2021-11-01 20:13:00+01:00', '19', '01', '1', 16612),\n",
       " ('2021-11-02 01:03:00+01:00', '00', '02', '2', 16966),\n",
       " ('2021-11-03 01:03:00+01:00', '00', '03', '3', 16394),\n",
       " ('2021-11-04 01:03:00+01:00', '00', '04', '4', 17014),\n",
       " ('2021-11-05 01:03:00+01:00', '00', '05', '5', 16364),\n",
       " ('2021-11-06 01:03:00+01:00', '00', '06', '6', 16374)]"
      ]
     },
     "execution_count": 74,
     "metadata": {},
     "output_type": "execute_result"
    }
   ],
   "source": [
    "q = db.select(t.c.time, func.strftime('%H', t.c.time).label('Stunde'), func.strftime('%d', t.c.time).label('Tag'), func.strftime('%w', t.c.time), func.count(t.c.time)). \\\n",
    "where(t.c.time >= '2021-11-01 20:09:00+02:00'). \\\n",
    "group_by(func.strftime('%w', t.c.time))\n",
    "result = conn.execute(q)\n",
    "row = result.fetchmany(14)\n",
    "row"
   ]
  },
  {
   "cell_type": "code",
   "execution_count": 75,
   "id": "7706ac3e-894a-45e6-9e0f-5c27e42dc081",
   "metadata": {},
   "outputs": [
    {
     "data": {
      "text/plain": [
       "[('2021-11-07 04:53:00+01:00', '03', '07', '0', 221),\n",
       " ('2021-11-01 20:13:00+01:00', '19', '01', '1', 624),\n",
       " ('2021-11-02 01:03:00+01:00', '00', '02', '2', 1090),\n",
       " ('2021-11-03 01:03:00+01:00', '00', '03', '3', 574),\n",
       " ('2021-11-04 01:03:00+01:00', '00', '04', '4', 573),\n",
       " ('2021-11-05 01:03:00+01:00', '00', '05', '5', 574),\n",
       " ('2021-11-06 01:03:00+01:00', '00', '06', '6', 334)]"
      ]
     },
     "execution_count": 75,
     "metadata": {},
     "output_type": "execute_result"
    }
   ],
   "source": [
    "q = db.select(t.c.time, func.strftime('%H', t.c.time).label('Stunde'), func.strftime('%d', t.c.time).label('Tag'), func.strftime('%w', t.c.time).label('Wochentag'), func.count(t.c.time)). \\\n",
    "where(and_(t.c.time >= '2021-11-01 20:09:00+02:00', t.c.time <= '2021-11-09 20:09:00+02:00')). \\\n",
    "group_by(func.strftime('%w', t.c.time))\n",
    "result = conn.execute(q)\n",
    "row = result.fetchmany(14)\n",
    "row"
   ]
  },
  {
   "cell_type": "code",
   "execution_count": 76,
   "id": "cc20095e-4a31-4df3-9682-dc91999c3f60",
   "metadata": {},
   "outputs": [
    {
     "data": {
      "text/plain": [
       "[('2021-11-14 01:03:00+01:00', '0', '00', 336, 293.39285714285717),\n",
       " ('2021-11-14 02:03:00+01:00', '0', '01', 336, 200.0),\n",
       " ('2021-11-14 03:03:00+01:00', '0', '02', 330, 163.8181818181818),\n",
       " ('2021-11-07 04:53:00+01:00', '0', '03', 444, 164.59459459459458),\n",
       " ('2021-11-07 05:00:00+01:00', '0', '04', 1571, 218.87969446212603),\n",
       " ('2021-11-14 06:00:00+01:00', '0', '05', 1546, 367.7619663648124),\n",
       " ('2021-11-07 07:53:00+01:00', '0', '06', 1463, 522.241968557758),\n",
       " ('2021-11-07 08:04:00+01:00', '0', '07', 330, 685.2727272727273),\n",
       " ('2021-11-07 09:04:00+01:00', '0', '08', 336, 943.9285714285714),\n",
       " ('2021-11-07 10:04:00+01:00', '0', '09', 336, 1176.607142857143)]"
      ]
     },
     "execution_count": 76,
     "metadata": {},
     "output_type": "execute_result"
    }
   ],
   "source": [
    "q = db.select(t.c.time, func.strftime('%w', t.c.time).label('Wochentag'), func.strftime('%H', t.c.time).label('Stunde'), func.count(t.c.time).label('Anzahl'), func.avg(t.c.vfr11).label('AVG')). \\\n",
    "where(t.c.time >= '2021-11-01 20:09:00+02:00'). \\\n",
    "group_by(func.strftime('%w', t.c.time), func.strftime('%H', t.c.time))\n",
    "result = conn.execute(q)\n",
    "row = result.fetchmany(10)\n",
    "row"
   ]
  },
  {
   "cell_type": "markdown",
   "id": "d791561a-fbe9-4494-8cad-5b65a5d7817d",
   "metadata": {},
   "source": [
    "#### 1. Eine Abfrage, die nach Wochentag und Stunde gruppiert"
   ]
  },
  {
   "cell_type": "code",
   "execution_count": 77,
   "id": "083c868b-38cb-4a7f-8396-daabd67ce58f",
   "metadata": {
    "tags": []
   },
   "outputs": [
    {
     "data": {
      "text/plain": [
       "[('2021-08-08 02:04:00+02:00', '0', '00', 478, 263.34728033472805, 64.77154843242684),\n",
       " ('2021-08-08 03:04:00+02:00', '0', '01', 491, 188.79837067209775, 63.85682304052957),\n",
       " ('2021-08-08 04:04:00+02:00', '0', '02', 484, 163.38842975206612, 62.46322318161159),\n",
       " ('2021-08-08 05:04:00+02:00', '0', '03', 660, 175.27272727272728, 61.54727290393932),\n",
       " ('2021-08-08 06:00:00+02:00', '0', '04', 2337, 267.75353016688064, 64.2570818250321),\n",
       " ('2021-08-08 07:00:00+02:00', '0', '05', 2322, 374.21188630490957, 65.19422928062006),\n",
       " ('2021-08-08 08:00:00+02:00', '0', '06', 2179, 557.4575493345571, 66.46392860123903),\n",
       " ('2021-08-08 09:03:00+02:00', '0', '07', 484, 802.4380165289256, 67.96756213367769),\n",
       " ('2021-08-08 10:03:00+02:00', '0', '08', 491, 1063.0142566191446, 67.27739303014255),\n",
       " ('2021-08-08 11:03:00+02:00', '0', '09', 490, 1271.7551020408164, 66.52448972510203)]"
      ]
     },
     "execution_count": 77,
     "metadata": {},
     "output_type": "execute_result"
    }
   ],
   "source": [
    "q = db.select(t.c.time, func.strftime('%w', t.c.time).label('Wochentag'), func.strftime('%H', t.c.time).label('Stunde'), \\\n",
    "              func.count(t.c.time).label('Anzahl'), func.avg(t.c.vfr11).label('AVG_flow'), func.avg(t.c.s12).label('AVG_speed')). \\\n",
    "where(t.c.time >= '2021-01-01 20:09:00+02:00'). \\\n",
    "group_by(func.strftime('%w', t.c.time), func.strftime('%H', t.c.time))\n",
    "result = conn.execute(q)\n",
    "row = result.fetchmany(10)\n",
    "row"
   ]
  },
  {
   "cell_type": "code",
   "execution_count": 78,
   "id": "e0b09093-d5a4-4cd6-a1c1-1d0e64149cc7",
   "metadata": {},
   "outputs": [],
   "source": [
    "df = pd.read_sql_query(q, conn)"
   ]
  },
  {
   "cell_type": "code",
   "execution_count": 79,
   "id": "5e532390-7e11-41b5-9dc4-88d07726f3a5",
   "metadata": {
    "tags": []
   },
   "outputs": [
    {
     "data": {
      "text/html": [
       "<div>\n",
       "<style scoped>\n",
       "    .dataframe tbody tr th:only-of-type {\n",
       "        vertical-align: middle;\n",
       "    }\n",
       "\n",
       "    .dataframe tbody tr th {\n",
       "        vertical-align: top;\n",
       "    }\n",
       "\n",
       "    .dataframe thead th {\n",
       "        text-align: right;\n",
       "    }\n",
       "</style>\n",
       "<table border=\"1\" class=\"dataframe\">\n",
       "  <thead>\n",
       "    <tr style=\"text-align: right;\">\n",
       "      <th></th>\n",
       "      <th>time</th>\n",
       "      <th>Wochentag</th>\n",
       "      <th>Stunde</th>\n",
       "      <th>Anzahl</th>\n",
       "      <th>AVG_flow</th>\n",
       "      <th>AVG_speed</th>\n",
       "    </tr>\n",
       "  </thead>\n",
       "  <tbody>\n",
       "    <tr>\n",
       "      <th>0</th>\n",
       "      <td>2021-08-08 02:04:00+02:00</td>\n",
       "      <td>0</td>\n",
       "      <td>00</td>\n",
       "      <td>478</td>\n",
       "      <td>263.347280</td>\n",
       "      <td>64.771548</td>\n",
       "    </tr>\n",
       "    <tr>\n",
       "      <th>1</th>\n",
       "      <td>2021-08-08 03:04:00+02:00</td>\n",
       "      <td>0</td>\n",
       "      <td>01</td>\n",
       "      <td>491</td>\n",
       "      <td>188.798371</td>\n",
       "      <td>63.856823</td>\n",
       "    </tr>\n",
       "    <tr>\n",
       "      <th>2</th>\n",
       "      <td>2021-08-08 04:04:00+02:00</td>\n",
       "      <td>0</td>\n",
       "      <td>02</td>\n",
       "      <td>484</td>\n",
       "      <td>163.388430</td>\n",
       "      <td>62.463223</td>\n",
       "    </tr>\n",
       "    <tr>\n",
       "      <th>3</th>\n",
       "      <td>2021-08-08 05:04:00+02:00</td>\n",
       "      <td>0</td>\n",
       "      <td>03</td>\n",
       "      <td>660</td>\n",
       "      <td>175.272727</td>\n",
       "      <td>61.547273</td>\n",
       "    </tr>\n",
       "    <tr>\n",
       "      <th>4</th>\n",
       "      <td>2021-08-08 06:00:00+02:00</td>\n",
       "      <td>0</td>\n",
       "      <td>04</td>\n",
       "      <td>2337</td>\n",
       "      <td>267.753530</td>\n",
       "      <td>64.257082</td>\n",
       "    </tr>\n",
       "    <tr>\n",
       "      <th>5</th>\n",
       "      <td>2021-08-08 07:00:00+02:00</td>\n",
       "      <td>0</td>\n",
       "      <td>05</td>\n",
       "      <td>2322</td>\n",
       "      <td>374.211886</td>\n",
       "      <td>65.194229</td>\n",
       "    </tr>\n",
       "    <tr>\n",
       "      <th>6</th>\n",
       "      <td>2021-08-08 08:00:00+02:00</td>\n",
       "      <td>0</td>\n",
       "      <td>06</td>\n",
       "      <td>2179</td>\n",
       "      <td>557.457549</td>\n",
       "      <td>66.463929</td>\n",
       "    </tr>\n",
       "    <tr>\n",
       "      <th>7</th>\n",
       "      <td>2021-08-08 09:03:00+02:00</td>\n",
       "      <td>0</td>\n",
       "      <td>07</td>\n",
       "      <td>484</td>\n",
       "      <td>802.438017</td>\n",
       "      <td>67.967562</td>\n",
       "    </tr>\n",
       "    <tr>\n",
       "      <th>8</th>\n",
       "      <td>2021-08-08 10:03:00+02:00</td>\n",
       "      <td>0</td>\n",
       "      <td>08</td>\n",
       "      <td>491</td>\n",
       "      <td>1063.014257</td>\n",
       "      <td>67.277393</td>\n",
       "    </tr>\n",
       "    <tr>\n",
       "      <th>9</th>\n",
       "      <td>2021-08-08 11:03:00+02:00</td>\n",
       "      <td>0</td>\n",
       "      <td>09</td>\n",
       "      <td>490</td>\n",
       "      <td>1271.755102</td>\n",
       "      <td>66.524490</td>\n",
       "    </tr>\n",
       "    <tr>\n",
       "      <th>10</th>\n",
       "      <td>2021-08-08 12:03:00+02:00</td>\n",
       "      <td>0</td>\n",
       "      <td>10</td>\n",
       "      <td>492</td>\n",
       "      <td>1397.073171</td>\n",
       "      <td>66.094309</td>\n",
       "    </tr>\n",
       "    <tr>\n",
       "      <th>11</th>\n",
       "      <td>2021-08-08 13:03:00+02:00</td>\n",
       "      <td>0</td>\n",
       "      <td>11</td>\n",
       "      <td>492</td>\n",
       "      <td>1430.000000</td>\n",
       "      <td>65.849594</td>\n",
       "    </tr>\n",
       "    <tr>\n",
       "      <th>12</th>\n",
       "      <td>2021-08-08 14:03:00+02:00</td>\n",
       "      <td>0</td>\n",
       "      <td>12</td>\n",
       "      <td>492</td>\n",
       "      <td>1454.756098</td>\n",
       "      <td>66.032114</td>\n",
       "    </tr>\n",
       "    <tr>\n",
       "      <th>13</th>\n",
       "      <td>2021-08-08 15:03:00+02:00</td>\n",
       "      <td>0</td>\n",
       "      <td>13</td>\n",
       "      <td>686</td>\n",
       "      <td>1423.556851</td>\n",
       "      <td>66.040962</td>\n",
       "    </tr>\n",
       "    <tr>\n",
       "      <th>14</th>\n",
       "      <td>2021-08-08 16:00:00+02:00</td>\n",
       "      <td>0</td>\n",
       "      <td>14</td>\n",
       "      <td>2390</td>\n",
       "      <td>1452.527197</td>\n",
       "      <td>65.739289</td>\n",
       "    </tr>\n",
       "    <tr>\n",
       "      <th>15</th>\n",
       "      <td>2021-08-08 17:00:00+02:00</td>\n",
       "      <td>0</td>\n",
       "      <td>15</td>\n",
       "      <td>2380</td>\n",
       "      <td>1464.000000</td>\n",
       "      <td>63.778235</td>\n",
       "    </tr>\n",
       "    <tr>\n",
       "      <th>16</th>\n",
       "      <td>2021-08-08 18:00:00+02:00</td>\n",
       "      <td>0</td>\n",
       "      <td>16</td>\n",
       "      <td>2207</td>\n",
       "      <td>1345.881287</td>\n",
       "      <td>64.227866</td>\n",
       "    </tr>\n",
       "    <tr>\n",
       "      <th>17</th>\n",
       "      <td>2021-08-08 19:03:00+02:00</td>\n",
       "      <td>0</td>\n",
       "      <td>17</td>\n",
       "      <td>488</td>\n",
       "      <td>1159.180328</td>\n",
       "      <td>65.556967</td>\n",
       "    </tr>\n",
       "    <tr>\n",
       "      <th>18</th>\n",
       "      <td>2021-08-01 20:09:00+02:00</td>\n",
       "      <td>0</td>\n",
       "      <td>18</td>\n",
       "      <td>540</td>\n",
       "      <td>930.222222</td>\n",
       "      <td>66.240185</td>\n",
       "    </tr>\n",
       "    <tr>\n",
       "      <th>19</th>\n",
       "      <td>2021-08-01 21:00:00+02:00</td>\n",
       "      <td>0</td>\n",
       "      <td>19</td>\n",
       "      <td>551</td>\n",
       "      <td>698.983666</td>\n",
       "      <td>61.986207</td>\n",
       "    </tr>\n",
       "    <tr>\n",
       "      <th>20</th>\n",
       "      <td>2021-08-01 22:00:00+02:00</td>\n",
       "      <td>0</td>\n",
       "      <td>20</td>\n",
       "      <td>551</td>\n",
       "      <td>464.537205</td>\n",
       "      <td>52.963884</td>\n",
       "    </tr>\n",
       "    <tr>\n",
       "      <th>21</th>\n",
       "      <td>2021-08-01 23:00:00+02:00</td>\n",
       "      <td>0</td>\n",
       "      <td>21</td>\n",
       "      <td>552</td>\n",
       "      <td>225.434783</td>\n",
       "      <td>39.285145</td>\n",
       "    </tr>\n",
       "    <tr>\n",
       "      <th>22</th>\n",
       "      <td>2021-08-02 00:00:00+02:00</td>\n",
       "      <td>0</td>\n",
       "      <td>22</td>\n",
       "      <td>552</td>\n",
       "      <td>136.739130</td>\n",
       "      <td>36.748913</td>\n",
       "    </tr>\n",
       "    <tr>\n",
       "      <th>23</th>\n",
       "      <td>2021-08-02 01:00:00+02:00</td>\n",
       "      <td>0</td>\n",
       "      <td>23</td>\n",
       "      <td>547</td>\n",
       "      <td>67.678245</td>\n",
       "      <td>32.385009</td>\n",
       "    </tr>\n",
       "    <tr>\n",
       "      <th>24</th>\n",
       "      <td>2021-08-02 02:00:00+02:00</td>\n",
       "      <td>1</td>\n",
       "      <td>00</td>\n",
       "      <td>551</td>\n",
       "      <td>42.209945</td>\n",
       "      <td>26.518048</td>\n",
       "    </tr>\n",
       "    <tr>\n",
       "      <th>25</th>\n",
       "      <td>2021-08-02 03:00:00+02:00</td>\n",
       "      <td>1</td>\n",
       "      <td>01</td>\n",
       "      <td>550</td>\n",
       "      <td>38.921933</td>\n",
       "      <td>26.360595</td>\n",
       "    </tr>\n",
       "    <tr>\n",
       "      <th>26</th>\n",
       "      <td>2021-08-02 04:00:00+02:00</td>\n",
       "      <td>1</td>\n",
       "      <td>02</td>\n",
       "      <td>551</td>\n",
       "      <td>86.373626</td>\n",
       "      <td>33.287546</td>\n",
       "    </tr>\n",
       "    <tr>\n",
       "      <th>27</th>\n",
       "      <td>2021-08-02 05:00:00+02:00</td>\n",
       "      <td>1</td>\n",
       "      <td>03</td>\n",
       "      <td>745</td>\n",
       "      <td>413.718121</td>\n",
       "      <td>54.488054</td>\n",
       "    </tr>\n",
       "    <tr>\n",
       "      <th>28</th>\n",
       "      <td>2021-08-02 06:00:00+02:00</td>\n",
       "      <td>1</td>\n",
       "      <td>04</td>\n",
       "      <td>2521</td>\n",
       "      <td>1075.335184</td>\n",
       "      <td>64.259580</td>\n",
       "    </tr>\n",
       "    <tr>\n",
       "      <th>29</th>\n",
       "      <td>2021-08-02 07:00:00+02:00</td>\n",
       "      <td>1</td>\n",
       "      <td>05</td>\n",
       "      <td>2551</td>\n",
       "      <td>1636.252450</td>\n",
       "      <td>60.627519</td>\n",
       "    </tr>\n",
       "  </tbody>\n",
       "</table>\n",
       "</div>"
      ],
      "text/plain": [
       "                         time Wochentag Stunde  Anzahl     AVG_flow  AVG_speed\n",
       "0   2021-08-08 02:04:00+02:00         0     00     478   263.347280  64.771548\n",
       "1   2021-08-08 03:04:00+02:00         0     01     491   188.798371  63.856823\n",
       "2   2021-08-08 04:04:00+02:00         0     02     484   163.388430  62.463223\n",
       "3   2021-08-08 05:04:00+02:00         0     03     660   175.272727  61.547273\n",
       "4   2021-08-08 06:00:00+02:00         0     04    2337   267.753530  64.257082\n",
       "5   2021-08-08 07:00:00+02:00         0     05    2322   374.211886  65.194229\n",
       "6   2021-08-08 08:00:00+02:00         0     06    2179   557.457549  66.463929\n",
       "7   2021-08-08 09:03:00+02:00         0     07     484   802.438017  67.967562\n",
       "8   2021-08-08 10:03:00+02:00         0     08     491  1063.014257  67.277393\n",
       "9   2021-08-08 11:03:00+02:00         0     09     490  1271.755102  66.524490\n",
       "10  2021-08-08 12:03:00+02:00         0     10     492  1397.073171  66.094309\n",
       "11  2021-08-08 13:03:00+02:00         0     11     492  1430.000000  65.849594\n",
       "12  2021-08-08 14:03:00+02:00         0     12     492  1454.756098  66.032114\n",
       "13  2021-08-08 15:03:00+02:00         0     13     686  1423.556851  66.040962\n",
       "14  2021-08-08 16:00:00+02:00         0     14    2390  1452.527197  65.739289\n",
       "15  2021-08-08 17:00:00+02:00         0     15    2380  1464.000000  63.778235\n",
       "16  2021-08-08 18:00:00+02:00         0     16    2207  1345.881287  64.227866\n",
       "17  2021-08-08 19:03:00+02:00         0     17     488  1159.180328  65.556967\n",
       "18  2021-08-01 20:09:00+02:00         0     18     540   930.222222  66.240185\n",
       "19  2021-08-01 21:00:00+02:00         0     19     551   698.983666  61.986207\n",
       "20  2021-08-01 22:00:00+02:00         0     20     551   464.537205  52.963884\n",
       "21  2021-08-01 23:00:00+02:00         0     21     552   225.434783  39.285145\n",
       "22  2021-08-02 00:00:00+02:00         0     22     552   136.739130  36.748913\n",
       "23  2021-08-02 01:00:00+02:00         0     23     547    67.678245  32.385009\n",
       "24  2021-08-02 02:00:00+02:00         1     00     551    42.209945  26.518048\n",
       "25  2021-08-02 03:00:00+02:00         1     01     550    38.921933  26.360595\n",
       "26  2021-08-02 04:00:00+02:00         1     02     551    86.373626  33.287546\n",
       "27  2021-08-02 05:00:00+02:00         1     03     745   413.718121  54.488054\n",
       "28  2021-08-02 06:00:00+02:00         1     04    2521  1075.335184  64.259580\n",
       "29  2021-08-02 07:00:00+02:00         1     05    2551  1636.252450  60.627519"
      ]
     },
     "execution_count": 79,
     "metadata": {},
     "output_type": "execute_result"
    }
   ],
   "source": [
    "df.head(30)"
   ]
  },
  {
   "cell_type": "code",
   "execution_count": 80,
   "id": "84d2a2b5-8a6f-4754-87fd-8cef35087650",
   "metadata": {},
   "outputs": [],
   "source": [
    "df.to_csv('0084_01')"
   ]
  },
  {
   "cell_type": "markdown",
   "id": "ae26b059-502e-43c6-b91b-050035802c56",
   "metadata": {
    "tags": []
   },
   "source": [
    "#### Bemerkung: Es wäre natürlich einfacher mit -- df.to_csv('file_name.csv',index=False) -- den Index überhaupt nicht abzuspeichern!"
   ]
  },
  {
   "cell_type": "code",
   "execution_count": null,
   "id": "8111750e-c03b-4faa-a453-e579e6db3de0",
   "metadata": {},
   "outputs": [],
   "source": []
  },
  {
   "cell_type": "markdown",
   "id": "6db3cfbd-534a-457b-8da4-eb7b831f034f",
   "metadata": {},
   "source": [
    "#### 2. die gleiche Abfrage, zusätzlich nach Monat und Tag gruppiert"
   ]
  },
  {
   "cell_type": "code",
   "execution_count": 81,
   "id": "8878d124-a857-4659-985f-88341e9d38df",
   "metadata": {
    "tags": []
   },
   "outputs": [
    {
     "data": {
      "text/plain": [
       "[('2022-01-02 01:03:00+01:00', '0', '01', '02', '00', 12, 140.0, 71.48333359166666),\n",
       " ('2022-01-02 02:03:00+01:00', '0', '01', '02', '01', 12, 125.0, 52.05000051666667),\n",
       " ('2022-01-02 03:03:00+01:00', '0', '01', '02', '02', 12, 105.0, 62.14999993333333),\n",
       " ('2022-01-02 04:03:00+01:00', '0', '01', '02', '03', 17, 70.58823529411765, 49.964705970588234),\n",
       " ('2022-01-02 05:00:00+01:00', '0', '01', '02', '04', 60, 134.0, 63.10166663833334),\n",
       " ('2022-01-02 06:00:00+01:00', '0', '01', '02', '05', 57, 402.10526315789474, 69.3245614017544),\n",
       " ('2022-01-02 07:00:00+01:00', '0', '01', '02', '06', 57, 464.2105263157895, 68.54912320000001),\n",
       " ('2022-01-02 08:03:00+01:00', '0', '01', '02', '07', 12, 460.0, 70.30833308333332),\n",
       " ('2022-01-02 09:03:00+01:00', '0', '01', '02', '08', 12, 600.0, 67.08333365833333),\n",
       " ('2022-01-02 10:03:00+01:00', '0', '01', '02', '09', 12, 1015.0, 68.50833383333334)]"
      ]
     },
     "execution_count": 81,
     "metadata": {},
     "output_type": "execute_result"
    }
   ],
   "source": [
    "q = db.select(t.c.time, func.strftime('%w', t.c.time).label('Wochentag'), func.strftime('%m', t.c.time).label('Monat'), \\\n",
    "              func.strftime('%d', t.c.time).label('Tag'), func.strftime('%H', t.c.time).label('Stunde'), \\\n",
    "              func.count(t.c.time).label('Anzahl'), func.avg(t.c.vfr11).label('AVG_flow'), func.avg(t.c.s12).label('AVG_speed')). \\\n",
    "where(t.c.time >= '2021-01-01 20:09:00+02:00'). \\\n",
    "group_by(func.strftime('%w', t.c.time), func.strftime('%m', t.c.time), func.strftime('%d', t.c.time), func.strftime('%H', t.c.time))\n",
    "result = conn.execute(q)\n",
    "row = result.fetchmany(10)\n",
    "row"
   ]
  },
  {
   "cell_type": "code",
   "execution_count": 82,
   "id": "c63bef7e-0e42-438d-badd-36cb53316084",
   "metadata": {},
   "outputs": [
    {
     "data": {
      "text/html": [
       "<div>\n",
       "<style scoped>\n",
       "    .dataframe tbody tr th:only-of-type {\n",
       "        vertical-align: middle;\n",
       "    }\n",
       "\n",
       "    .dataframe tbody tr th {\n",
       "        vertical-align: top;\n",
       "    }\n",
       "\n",
       "    .dataframe thead th {\n",
       "        text-align: right;\n",
       "    }\n",
       "</style>\n",
       "<table border=\"1\" class=\"dataframe\">\n",
       "  <thead>\n",
       "    <tr style=\"text-align: right;\">\n",
       "      <th></th>\n",
       "      <th>time</th>\n",
       "      <th>Wochentag</th>\n",
       "      <th>Monat</th>\n",
       "      <th>Tag</th>\n",
       "      <th>Stunde</th>\n",
       "      <th>Anzahl</th>\n",
       "      <th>AVG_flow</th>\n",
       "      <th>AVG_speed</th>\n",
       "    </tr>\n",
       "  </thead>\n",
       "  <tbody>\n",
       "    <tr>\n",
       "      <th>0</th>\n",
       "      <td>2022-01-02 01:03:00+01:00</td>\n",
       "      <td>0</td>\n",
       "      <td>01</td>\n",
       "      <td>02</td>\n",
       "      <td>00</td>\n",
       "      <td>12</td>\n",
       "      <td>140.000000</td>\n",
       "      <td>71.483334</td>\n",
       "    </tr>\n",
       "    <tr>\n",
       "      <th>1</th>\n",
       "      <td>2022-01-02 02:03:00+01:00</td>\n",
       "      <td>0</td>\n",
       "      <td>01</td>\n",
       "      <td>02</td>\n",
       "      <td>01</td>\n",
       "      <td>12</td>\n",
       "      <td>125.000000</td>\n",
       "      <td>52.050001</td>\n",
       "    </tr>\n",
       "    <tr>\n",
       "      <th>2</th>\n",
       "      <td>2022-01-02 03:03:00+01:00</td>\n",
       "      <td>0</td>\n",
       "      <td>01</td>\n",
       "      <td>02</td>\n",
       "      <td>02</td>\n",
       "      <td>12</td>\n",
       "      <td>105.000000</td>\n",
       "      <td>62.150000</td>\n",
       "    </tr>\n",
       "    <tr>\n",
       "      <th>3</th>\n",
       "      <td>2022-01-02 04:03:00+01:00</td>\n",
       "      <td>0</td>\n",
       "      <td>01</td>\n",
       "      <td>02</td>\n",
       "      <td>03</td>\n",
       "      <td>17</td>\n",
       "      <td>70.588235</td>\n",
       "      <td>49.964706</td>\n",
       "    </tr>\n",
       "    <tr>\n",
       "      <th>4</th>\n",
       "      <td>2022-01-02 05:00:00+01:00</td>\n",
       "      <td>0</td>\n",
       "      <td>01</td>\n",
       "      <td>02</td>\n",
       "      <td>04</td>\n",
       "      <td>60</td>\n",
       "      <td>134.000000</td>\n",
       "      <td>63.101667</td>\n",
       "    </tr>\n",
       "    <tr>\n",
       "      <th>5</th>\n",
       "      <td>2022-01-02 06:00:00+01:00</td>\n",
       "      <td>0</td>\n",
       "      <td>01</td>\n",
       "      <td>02</td>\n",
       "      <td>05</td>\n",
       "      <td>57</td>\n",
       "      <td>402.105263</td>\n",
       "      <td>69.324561</td>\n",
       "    </tr>\n",
       "    <tr>\n",
       "      <th>6</th>\n",
       "      <td>2022-01-02 07:00:00+01:00</td>\n",
       "      <td>0</td>\n",
       "      <td>01</td>\n",
       "      <td>02</td>\n",
       "      <td>06</td>\n",
       "      <td>57</td>\n",
       "      <td>464.210526</td>\n",
       "      <td>68.549123</td>\n",
       "    </tr>\n",
       "    <tr>\n",
       "      <th>7</th>\n",
       "      <td>2022-01-02 08:03:00+01:00</td>\n",
       "      <td>0</td>\n",
       "      <td>01</td>\n",
       "      <td>02</td>\n",
       "      <td>07</td>\n",
       "      <td>12</td>\n",
       "      <td>460.000000</td>\n",
       "      <td>70.308333</td>\n",
       "    </tr>\n",
       "    <tr>\n",
       "      <th>8</th>\n",
       "      <td>2022-01-02 09:03:00+01:00</td>\n",
       "      <td>0</td>\n",
       "      <td>01</td>\n",
       "      <td>02</td>\n",
       "      <td>08</td>\n",
       "      <td>12</td>\n",
       "      <td>600.000000</td>\n",
       "      <td>67.083334</td>\n",
       "    </tr>\n",
       "    <tr>\n",
       "      <th>9</th>\n",
       "      <td>2022-01-02 10:03:00+01:00</td>\n",
       "      <td>0</td>\n",
       "      <td>01</td>\n",
       "      <td>02</td>\n",
       "      <td>09</td>\n",
       "      <td>12</td>\n",
       "      <td>1015.000000</td>\n",
       "      <td>68.508334</td>\n",
       "    </tr>\n",
       "    <tr>\n",
       "      <th>10</th>\n",
       "      <td>2022-01-02 11:03:00+01:00</td>\n",
       "      <td>0</td>\n",
       "      <td>01</td>\n",
       "      <td>02</td>\n",
       "      <td>10</td>\n",
       "      <td>12</td>\n",
       "      <td>1035.000000</td>\n",
       "      <td>68.558333</td>\n",
       "    </tr>\n",
       "    <tr>\n",
       "      <th>11</th>\n",
       "      <td>2022-01-02 12:03:00+01:00</td>\n",
       "      <td>0</td>\n",
       "      <td>01</td>\n",
       "      <td>02</td>\n",
       "      <td>11</td>\n",
       "      <td>12</td>\n",
       "      <td>1230.000000</td>\n",
       "      <td>67.983334</td>\n",
       "    </tr>\n",
       "    <tr>\n",
       "      <th>12</th>\n",
       "      <td>2022-01-02 13:03:00+01:00</td>\n",
       "      <td>0</td>\n",
       "      <td>01</td>\n",
       "      <td>02</td>\n",
       "      <td>12</td>\n",
       "      <td>12</td>\n",
       "      <td>1230.000000</td>\n",
       "      <td>67.891666</td>\n",
       "    </tr>\n",
       "    <tr>\n",
       "      <th>13</th>\n",
       "      <td>2022-01-02 14:03:00+01:00</td>\n",
       "      <td>0</td>\n",
       "      <td>01</td>\n",
       "      <td>02</td>\n",
       "      <td>13</td>\n",
       "      <td>17</td>\n",
       "      <td>1422.352941</td>\n",
       "      <td>67.482353</td>\n",
       "    </tr>\n",
       "    <tr>\n",
       "      <th>14</th>\n",
       "      <td>2022-01-02 15:00:00+01:00</td>\n",
       "      <td>0</td>\n",
       "      <td>01</td>\n",
       "      <td>02</td>\n",
       "      <td>14</td>\n",
       "      <td>60</td>\n",
       "      <td>1424.000000</td>\n",
       "      <td>67.331667</td>\n",
       "    </tr>\n",
       "    <tr>\n",
       "      <th>15</th>\n",
       "      <td>2022-01-02 16:00:00+01:00</td>\n",
       "      <td>0</td>\n",
       "      <td>01</td>\n",
       "      <td>02</td>\n",
       "      <td>15</td>\n",
       "      <td>60</td>\n",
       "      <td>1328.000000</td>\n",
       "      <td>66.800000</td>\n",
       "    </tr>\n",
       "    <tr>\n",
       "      <th>16</th>\n",
       "      <td>2022-01-02 17:00:00+01:00</td>\n",
       "      <td>0</td>\n",
       "      <td>01</td>\n",
       "      <td>02</td>\n",
       "      <td>16</td>\n",
       "      <td>54</td>\n",
       "      <td>1302.222222</td>\n",
       "      <td>66.951852</td>\n",
       "    </tr>\n",
       "    <tr>\n",
       "      <th>17</th>\n",
       "      <td>2022-01-02 18:03:00+01:00</td>\n",
       "      <td>0</td>\n",
       "      <td>01</td>\n",
       "      <td>02</td>\n",
       "      <td>17</td>\n",
       "      <td>12</td>\n",
       "      <td>945.000000</td>\n",
       "      <td>68.941667</td>\n",
       "    </tr>\n",
       "    <tr>\n",
       "      <th>18</th>\n",
       "      <td>2022-01-02 19:03:00+01:00</td>\n",
       "      <td>0</td>\n",
       "      <td>01</td>\n",
       "      <td>02</td>\n",
       "      <td>18</td>\n",
       "      <td>12</td>\n",
       "      <td>925.000000</td>\n",
       "      <td>68.741667</td>\n",
       "    </tr>\n",
       "    <tr>\n",
       "      <th>19</th>\n",
       "      <td>2022-01-02 20:03:00+01:00</td>\n",
       "      <td>0</td>\n",
       "      <td>01</td>\n",
       "      <td>02</td>\n",
       "      <td>19</td>\n",
       "      <td>12</td>\n",
       "      <td>785.000000</td>\n",
       "      <td>68.599999</td>\n",
       "    </tr>\n",
       "    <tr>\n",
       "      <th>20</th>\n",
       "      <td>2022-01-02 21:03:00+01:00</td>\n",
       "      <td>0</td>\n",
       "      <td>01</td>\n",
       "      <td>02</td>\n",
       "      <td>20</td>\n",
       "      <td>12</td>\n",
       "      <td>560.000000</td>\n",
       "      <td>69.083333</td>\n",
       "    </tr>\n",
       "    <tr>\n",
       "      <th>21</th>\n",
       "      <td>2022-01-02 22:03:00+01:00</td>\n",
       "      <td>0</td>\n",
       "      <td>01</td>\n",
       "      <td>02</td>\n",
       "      <td>21</td>\n",
       "      <td>12</td>\n",
       "      <td>380.000000</td>\n",
       "      <td>69.191668</td>\n",
       "    </tr>\n",
       "    <tr>\n",
       "      <th>22</th>\n",
       "      <td>2022-01-02 23:03:00+01:00</td>\n",
       "      <td>0</td>\n",
       "      <td>01</td>\n",
       "      <td>02</td>\n",
       "      <td>22</td>\n",
       "      <td>12</td>\n",
       "      <td>275.000000</td>\n",
       "      <td>64.933333</td>\n",
       "    </tr>\n",
       "    <tr>\n",
       "      <th>23</th>\n",
       "      <td>2022-01-03 00:03:00+01:00</td>\n",
       "      <td>0</td>\n",
       "      <td>01</td>\n",
       "      <td>02</td>\n",
       "      <td>23</td>\n",
       "      <td>12</td>\n",
       "      <td>130.000000</td>\n",
       "      <td>58.633334</td>\n",
       "    </tr>\n",
       "    <tr>\n",
       "      <th>24</th>\n",
       "      <td>2022-01-09 01:03:00+01:00</td>\n",
       "      <td>0</td>\n",
       "      <td>01</td>\n",
       "      <td>09</td>\n",
       "      <td>00</td>\n",
       "      <td>12</td>\n",
       "      <td>275.000000</td>\n",
       "      <td>62.208333</td>\n",
       "    </tr>\n",
       "    <tr>\n",
       "      <th>25</th>\n",
       "      <td>2022-01-09 02:03:00+01:00</td>\n",
       "      <td>0</td>\n",
       "      <td>01</td>\n",
       "      <td>09</td>\n",
       "      <td>01</td>\n",
       "      <td>12</td>\n",
       "      <td>200.000000</td>\n",
       "      <td>68.766667</td>\n",
       "    </tr>\n",
       "    <tr>\n",
       "      <th>26</th>\n",
       "      <td>2022-01-09 03:03:00+01:00</td>\n",
       "      <td>0</td>\n",
       "      <td>01</td>\n",
       "      <td>09</td>\n",
       "      <td>02</td>\n",
       "      <td>12</td>\n",
       "      <td>145.000000</td>\n",
       "      <td>54.400000</td>\n",
       "    </tr>\n",
       "    <tr>\n",
       "      <th>27</th>\n",
       "      <td>2022-01-09 04:03:00+01:00</td>\n",
       "      <td>0</td>\n",
       "      <td>01</td>\n",
       "      <td>09</td>\n",
       "      <td>03</td>\n",
       "      <td>16</td>\n",
       "      <td>101.250000</td>\n",
       "      <td>50.868750</td>\n",
       "    </tr>\n",
       "    <tr>\n",
       "      <th>28</th>\n",
       "      <td>2022-01-09 05:00:00+01:00</td>\n",
       "      <td>0</td>\n",
       "      <td>01</td>\n",
       "      <td>09</td>\n",
       "      <td>04</td>\n",
       "      <td>59</td>\n",
       "      <td>126.101695</td>\n",
       "      <td>57.906780</td>\n",
       "    </tr>\n",
       "    <tr>\n",
       "      <th>29</th>\n",
       "      <td>2022-01-09 06:00:00+01:00</td>\n",
       "      <td>0</td>\n",
       "      <td>01</td>\n",
       "      <td>09</td>\n",
       "      <td>05</td>\n",
       "      <td>60</td>\n",
       "      <td>301.000000</td>\n",
       "      <td>69.486667</td>\n",
       "    </tr>\n",
       "  </tbody>\n",
       "</table>\n",
       "</div>"
      ],
      "text/plain": [
       "                         time Wochentag Monat Tag Stunde  Anzahl     AVG_flow  \\\n",
       "0   2022-01-02 01:03:00+01:00         0    01  02     00      12   140.000000   \n",
       "1   2022-01-02 02:03:00+01:00         0    01  02     01      12   125.000000   \n",
       "2   2022-01-02 03:03:00+01:00         0    01  02     02      12   105.000000   \n",
       "3   2022-01-02 04:03:00+01:00         0    01  02     03      17    70.588235   \n",
       "4   2022-01-02 05:00:00+01:00         0    01  02     04      60   134.000000   \n",
       "5   2022-01-02 06:00:00+01:00         0    01  02     05      57   402.105263   \n",
       "6   2022-01-02 07:00:00+01:00         0    01  02     06      57   464.210526   \n",
       "7   2022-01-02 08:03:00+01:00         0    01  02     07      12   460.000000   \n",
       "8   2022-01-02 09:03:00+01:00         0    01  02     08      12   600.000000   \n",
       "9   2022-01-02 10:03:00+01:00         0    01  02     09      12  1015.000000   \n",
       "10  2022-01-02 11:03:00+01:00         0    01  02     10      12  1035.000000   \n",
       "11  2022-01-02 12:03:00+01:00         0    01  02     11      12  1230.000000   \n",
       "12  2022-01-02 13:03:00+01:00         0    01  02     12      12  1230.000000   \n",
       "13  2022-01-02 14:03:00+01:00         0    01  02     13      17  1422.352941   \n",
       "14  2022-01-02 15:00:00+01:00         0    01  02     14      60  1424.000000   \n",
       "15  2022-01-02 16:00:00+01:00         0    01  02     15      60  1328.000000   \n",
       "16  2022-01-02 17:00:00+01:00         0    01  02     16      54  1302.222222   \n",
       "17  2022-01-02 18:03:00+01:00         0    01  02     17      12   945.000000   \n",
       "18  2022-01-02 19:03:00+01:00         0    01  02     18      12   925.000000   \n",
       "19  2022-01-02 20:03:00+01:00         0    01  02     19      12   785.000000   \n",
       "20  2022-01-02 21:03:00+01:00         0    01  02     20      12   560.000000   \n",
       "21  2022-01-02 22:03:00+01:00         0    01  02     21      12   380.000000   \n",
       "22  2022-01-02 23:03:00+01:00         0    01  02     22      12   275.000000   \n",
       "23  2022-01-03 00:03:00+01:00         0    01  02     23      12   130.000000   \n",
       "24  2022-01-09 01:03:00+01:00         0    01  09     00      12   275.000000   \n",
       "25  2022-01-09 02:03:00+01:00         0    01  09     01      12   200.000000   \n",
       "26  2022-01-09 03:03:00+01:00         0    01  09     02      12   145.000000   \n",
       "27  2022-01-09 04:03:00+01:00         0    01  09     03      16   101.250000   \n",
       "28  2022-01-09 05:00:00+01:00         0    01  09     04      59   126.101695   \n",
       "29  2022-01-09 06:00:00+01:00         0    01  09     05      60   301.000000   \n",
       "\n",
       "    AVG_speed  \n",
       "0   71.483334  \n",
       "1   52.050001  \n",
       "2   62.150000  \n",
       "3   49.964706  \n",
       "4   63.101667  \n",
       "5   69.324561  \n",
       "6   68.549123  \n",
       "7   70.308333  \n",
       "8   67.083334  \n",
       "9   68.508334  \n",
       "10  68.558333  \n",
       "11  67.983334  \n",
       "12  67.891666  \n",
       "13  67.482353  \n",
       "14  67.331667  \n",
       "15  66.800000  \n",
       "16  66.951852  \n",
       "17  68.941667  \n",
       "18  68.741667  \n",
       "19  68.599999  \n",
       "20  69.083333  \n",
       "21  69.191668  \n",
       "22  64.933333  \n",
       "23  58.633334  \n",
       "24  62.208333  \n",
       "25  68.766667  \n",
       "26  54.400000  \n",
       "27  50.868750  \n",
       "28  57.906780  \n",
       "29  69.486667  "
      ]
     },
     "execution_count": 82,
     "metadata": {},
     "output_type": "execute_result"
    }
   ],
   "source": [
    "df = pd.read_sql_query(q, conn)\n",
    "df.head(30)"
   ]
  },
  {
   "cell_type": "code",
   "execution_count": 83,
   "id": "cd1848c0-11c3-442a-bfd5-b0bae8602227",
   "metadata": {
    "tags": []
   },
   "outputs": [],
   "source": [
    "df.to_csv('0084_01_det', index = False)"
   ]
  },
  {
   "cell_type": "markdown",
   "id": "56df8c9c-b13f-40a7-a47e-77abb3386ac9",
   "metadata": {},
   "source": [
    "#### Example with join"
   ]
  },
  {
   "cell_type": "code",
   "execution_count": null,
   "id": "f9dec814-dfab-4d79-85dc-9933c25805a6",
   "metadata": {},
   "outputs": [],
   "source": []
  },
  {
   "cell_type": "code",
   "execution_count": 85,
   "id": "69fcd6b2-8433-4ab5-b1de-aa3d17a7b591",
   "metadata": {},
   "outputs": [],
   "source": [
    "table2 = db.Table('tcdata_CH_0084_02', metadata, autoload = True)"
   ]
  },
  {
   "cell_type": "code",
   "execution_count": 86,
   "id": "facba6a7-f37a-4ef5-bb57-b35213e8f646",
   "metadata": {},
   "outputs": [],
   "source": [
    "from sqlalchemy import join\n"
   ]
  },
  {
   "cell_type": "code",
   "execution_count": 87,
   "id": "08acbca5-c8f7-4e97-b692-d9400c61c08f",
   "metadata": {},
   "outputs": [
    {
     "data": {
      "text/plain": [
       "[('2021-07-27 19:53:00+02:00', 180.0, 81.6999969, 0.0, 0.0, 0.0, 0.0),\n",
       " ('2021-07-27 19:58:00+02:00', 420.0, 85.6999969, 0.0, 0.0, 0.0, 0.0),\n",
       " ('2021-07-27 20:03:00+02:00', 120.0, 82.0, 0.0, 0.0, 0.0, 0.0),\n",
       " ('2021-07-27 20:08:00+02:00', 240.0, 80.3000031, 0.0, 0.0, 0.0, 0.0),\n",
       " ('2021-07-27 20:13:00+02:00', 60.0, 75.0, 0.0, 0.0, 0.0, 0.0),\n",
       " ('2021-07-27 20:18:00+02:00', 60.0, 84.0, 0.0, 0.0, 0.0, 0.0)]"
      ]
     },
     "execution_count": 87,
     "metadata": {},
     "output_type": "execute_result"
    }
   ],
   "source": [
    "q = db.select(table2)\n",
    "result = conn.execute(q)\n",
    "row = result.fetchmany(6)\n",
    "row"
   ]
  },
  {
   "cell_type": "markdown",
   "id": "cd0eb15a-02e2-47d3-b079-07596cc47349",
   "metadata": {},
   "source": [
    "from sqlalchemy.sql import select"
   ]
  },
  {
   "cell_type": "code",
   "execution_count": 88,
   "id": "3fba746c-7154-4125-b25d-79f79965a578",
   "metadata": {},
   "outputs": [
    {
     "data": {
      "text/plain": [
       "[('2021-07-27 19:53:00+02:00', 900.0, 68.9000015, 0.0, 0.0, 0.0, 0.0),\n",
       " ('2021-07-27 19:58:00+02:00', 840.0, 65.5, 60.0, 73.0, 0.0, 0.0),\n",
       " ('2021-07-27 20:03:00+02:00', 840.0, 67.8000031, 60.0, 72.0, 0.0, 0.0),\n",
       " ('2021-07-27 20:08:00+02:00', 600.0, 79.3000031, 0.0, 0.0, 0.0, 0.0),\n",
       " ('2021-07-27 20:13:00+02:00', 720.0, 72.3000031, 0.0, 0.0, 0.0, 0.0),\n",
       " ('2021-07-27 20:18:00+02:00', 780.0, 73.9000015, 0.0, 0.0, 0.0, 0.0)]"
      ]
     },
     "execution_count": 88,
     "metadata": {},
     "output_type": "execute_result"
    }
   ],
   "source": [
    "q = db.select(t)\n",
    "result = conn.execute(q)\n",
    "row = result.fetchmany(6)\n",
    "row"
   ]
  },
  {
   "cell_type": "code",
   "execution_count": 89,
   "id": "b9aa3c96-a216-4a93-ba5b-97525c23625d",
   "metadata": {},
   "outputs": [],
   "source": [
    "j = table.join(table2, table.c.time == table2.c.time)"
   ]
  },
  {
   "cell_type": "code",
   "execution_count": 90,
   "id": "d6e2e514-6df8-4472-8c0f-f519e6f7c234",
   "metadata": {
    "tags": []
   },
   "outputs": [
    {
     "data": {
      "text/plain": [
       "<sqlalchemy.sql.selectable.Join at 0x1c939157130; Join object on tcdata_CH_0084_01(1963756002992) and tcdata_CH_0084_02(1963754746112)>"
      ]
     },
     "execution_count": 90,
     "metadata": {},
     "output_type": "execute_result"
    }
   ],
   "source": [
    "j"
   ]
  },
  {
   "cell_type": "code",
   "execution_count": 91,
   "id": "68a60fc8-8052-411f-9b4d-bfbaeacb1eb6",
   "metadata": {},
   "outputs": [
    {
     "data": {
      "text/plain": [
       "[('2021-07-27 19:53:00+02:00', 900.0, 68.9000015, 0.0, 0.0, 0.0, 0.0, '2021-07-27 19:53:00+02:00', 180.0, 81.6999969, 0.0, 0.0, 0.0, 0.0),\n",
       " ('2021-07-27 19:58:00+02:00', 840.0, 65.5, 60.0, 73.0, 0.0, 0.0, '2021-07-27 19:58:00+02:00', 420.0, 85.6999969, 0.0, 0.0, 0.0, 0.0),\n",
       " ('2021-07-27 20:03:00+02:00', 840.0, 67.8000031, 60.0, 72.0, 0.0, 0.0, '2021-07-27 20:03:00+02:00', 120.0, 82.0, 0.0, 0.0, 0.0, 0.0),\n",
       " ('2021-07-27 20:08:00+02:00', 600.0, 79.3000031, 0.0, 0.0, 0.0, 0.0, '2021-07-27 20:08:00+02:00', 240.0, 80.3000031, 0.0, 0.0, 0.0, 0.0),\n",
       " ('2021-07-27 20:13:00+02:00', 720.0, 72.3000031, 0.0, 0.0, 0.0, 0.0, '2021-07-27 20:13:00+02:00', 60.0, 75.0, 0.0, 0.0, 0.0, 0.0),\n",
       " ('2021-07-27 20:18:00+02:00', 780.0, 73.9000015, 0.0, 0.0, 0.0, 0.0, '2021-07-27 20:18:00+02:00', 60.0, 84.0, 0.0, 0.0, 0.0, 0.0)]"
      ]
     },
     "execution_count": 91,
     "metadata": {},
     "output_type": "execute_result"
    }
   ],
   "source": [
    "q = db.select(j)\n",
    "result = conn.execute(q)\n",
    "row = result.fetchmany(6)\n",
    "row"
   ]
  },
  {
   "cell_type": "code",
   "execution_count": 92,
   "id": "c010e776-6024-48d9-abfe-3540317f02f2",
   "metadata": {},
   "outputs": [
    {
     "name": "stdout",
     "output_type": "stream",
     "text": [
      "RMKeyView(['time', 'vfr11', 's12', 'vfr21', 's22', 'vfr1', 's2', 'time', 'vfr11', 's12', 'vfr21', 's22', 'vfr1', 's2'])\n"
     ]
    }
   ],
   "source": [
    "result = conn.execute(f\"SELECT * FROM {j}\")\n",
    "  \n",
    "print(result.keys())"
   ]
  },
  {
   "cell_type": "markdown",
   "id": "7a5177dc-baa2-4e47-ab3a-bcd775dbfef5",
   "metadata": {},
   "source": [
    "#### Ok, wir sehen also oben das Problem der identischen Spaltennamen!"
   ]
  },
  {
   "cell_type": "markdown",
   "id": "445b2ffe-3978-4a87-a0c3-9db2d414e051",
   "metadata": {},
   "source": [
    "#### In der nächsten Abfrage sieht man, wie man die Spalte bei der Abfrage neu labeln kann!"
   ]
  },
  {
   "cell_type": "code",
   "execution_count": 93,
   "id": "20ffb061-24d5-4fb1-b6f4-f682a7162ef7",
   "metadata": {},
   "outputs": [
    {
     "data": {
      "text/plain": [
       "[(900.0, '2021-07-27 19:53:00+02:00'),\n",
       " (840.0, '2021-07-27 19:58:00+02:00'),\n",
       " (840.0, '2021-07-27 20:03:00+02:00'),\n",
       " (600.0, '2021-07-27 20:08:00+02:00'),\n",
       " (720.0, '2021-07-27 20:13:00+02:00'),\n",
       " (780.0, '2021-07-27 20:18:00+02:00')]"
      ]
     },
     "execution_count": 93,
     "metadata": {},
     "output_type": "execute_result"
    }
   ],
   "source": [
    "q = db.select(t.c.vfr11.label('huhu'), table2.c.time).select_from(\n",
    "    t.join(table2, \n",
    "            t.c.time == table2.c.time)\n",
    ")\n",
    "result = conn.execute(q)\n",
    "row = result.fetchmany(6)\n",
    "row"
   ]
  },
  {
   "cell_type": "code",
   "execution_count": 94,
   "id": "d62d1e21-f59f-4cb5-ad15-30d18089ba94",
   "metadata": {},
   "outputs": [
    {
     "data": {
      "text/html": [
       "<div>\n",
       "<style scoped>\n",
       "    .dataframe tbody tr th:only-of-type {\n",
       "        vertical-align: middle;\n",
       "    }\n",
       "\n",
       "    .dataframe tbody tr th {\n",
       "        vertical-align: top;\n",
       "    }\n",
       "\n",
       "    .dataframe thead th {\n",
       "        text-align: right;\n",
       "    }\n",
       "</style>\n",
       "<table border=\"1\" class=\"dataframe\">\n",
       "  <thead>\n",
       "    <tr style=\"text-align: right;\">\n",
       "      <th></th>\n",
       "      <th>huhu</th>\n",
       "      <th>time</th>\n",
       "    </tr>\n",
       "  </thead>\n",
       "  <tbody>\n",
       "    <tr>\n",
       "      <th>0</th>\n",
       "      <td>900.0</td>\n",
       "      <td>2021-07-27 19:53:00+02:00</td>\n",
       "    </tr>\n",
       "    <tr>\n",
       "      <th>1</th>\n",
       "      <td>840.0</td>\n",
       "      <td>2021-07-27 19:58:00+02:00</td>\n",
       "    </tr>\n",
       "    <tr>\n",
       "      <th>2</th>\n",
       "      <td>840.0</td>\n",
       "      <td>2021-07-27 20:03:00+02:00</td>\n",
       "    </tr>\n",
       "    <tr>\n",
       "      <th>3</th>\n",
       "      <td>600.0</td>\n",
       "      <td>2021-07-27 20:08:00+02:00</td>\n",
       "    </tr>\n",
       "    <tr>\n",
       "      <th>4</th>\n",
       "      <td>720.0</td>\n",
       "      <td>2021-07-27 20:13:00+02:00</td>\n",
       "    </tr>\n",
       "  </tbody>\n",
       "</table>\n",
       "</div>"
      ],
      "text/plain": [
       "    huhu                       time\n",
       "0  900.0  2021-07-27 19:53:00+02:00\n",
       "1  840.0  2021-07-27 19:58:00+02:00\n",
       "2  840.0  2021-07-27 20:03:00+02:00\n",
       "3  600.0  2021-07-27 20:08:00+02:00\n",
       "4  720.0  2021-07-27 20:13:00+02:00"
      ]
     },
     "execution_count": 94,
     "metadata": {},
     "output_type": "execute_result"
    }
   ],
   "source": [
    "dfjoin = pd.read_sql_query(q, conn)\n",
    "dfjoin.head()"
   ]
  },
  {
   "cell_type": "markdown",
   "id": "435d5648-284b-434c-8203-d95d95dcf4d9",
   "metadata": {},
   "source": [
    "### Hier mal probieren wie das mit dem Neulabeling der Spalten von Spur 1 und Spur 2 funktioniert"
   ]
  },
  {
   "cell_type": "code",
   "execution_count": 108,
   "id": "e2b7baf7-a28e-4ad1-91de-0eb326dac313",
   "metadata": {},
   "outputs": [
    {
     "data": {
      "text/plain": [
       "[('2021-07-27 19:53:00+02:00', '2', 900.0, 180.0, '2021-07-27 19:53:00+02:00'),\n",
       " ('2021-07-27 19:58:00+02:00', '2', 840.0, 420.0, '2021-07-27 19:58:00+02:00'),\n",
       " ('2021-07-27 20:03:00+02:00', '2', 840.0, 120.0, '2021-07-27 20:03:00+02:00'),\n",
       " ('2021-07-27 20:08:00+02:00', '2', 600.0, 240.0, '2021-07-27 20:08:00+02:00'),\n",
       " ('2021-07-27 20:13:00+02:00', '2', 720.0, 60.0, '2021-07-27 20:13:00+02:00'),\n",
       " ('2021-07-27 20:18:00+02:00', '2', 780.0, 60.0, '2021-07-27 20:18:00+02:00')]"
      ]
     },
     "execution_count": 108,
     "metadata": {},
     "output_type": "execute_result"
    }
   ],
   "source": [
    "q = db.select(t.c.time, func.strftime('%w', t.c.time).label('Wochentag'),  t.c.vfr11.label('f84_1'), table2.c.vfr11.label('f84_2'), table2.c.time).select_from(\n",
    "    t.join(table2, \n",
    "            t.c.time == table2.c.time)\n",
    ")\n",
    "result = conn.execute(q)\n",
    "row = result.fetchmany(6)\n",
    "row"
   ]
  },
  {
   "cell_type": "code",
   "execution_count": 109,
   "id": "112a0551-92ab-4136-99bd-821487231297",
   "metadata": {},
   "outputs": [
    {
     "data": {
      "text/html": [
       "<div>\n",
       "<style scoped>\n",
       "    .dataframe tbody tr th:only-of-type {\n",
       "        vertical-align: middle;\n",
       "    }\n",
       "\n",
       "    .dataframe tbody tr th {\n",
       "        vertical-align: top;\n",
       "    }\n",
       "\n",
       "    .dataframe thead th {\n",
       "        text-align: right;\n",
       "    }\n",
       "</style>\n",
       "<table border=\"1\" class=\"dataframe\">\n",
       "  <thead>\n",
       "    <tr style=\"text-align: right;\">\n",
       "      <th></th>\n",
       "      <th>time</th>\n",
       "      <th>Wochentag</th>\n",
       "      <th>f84_1</th>\n",
       "      <th>f84_2</th>\n",
       "      <th>time_1</th>\n",
       "    </tr>\n",
       "  </thead>\n",
       "  <tbody>\n",
       "    <tr>\n",
       "      <th>0</th>\n",
       "      <td>2021-07-27 19:53:00+02:00</td>\n",
       "      <td>2</td>\n",
       "      <td>900.0</td>\n",
       "      <td>180.0</td>\n",
       "      <td>2021-07-27 19:53:00+02:00</td>\n",
       "    </tr>\n",
       "    <tr>\n",
       "      <th>1</th>\n",
       "      <td>2021-07-27 19:58:00+02:00</td>\n",
       "      <td>2</td>\n",
       "      <td>840.0</td>\n",
       "      <td>420.0</td>\n",
       "      <td>2021-07-27 19:58:00+02:00</td>\n",
       "    </tr>\n",
       "    <tr>\n",
       "      <th>2</th>\n",
       "      <td>2021-07-27 20:03:00+02:00</td>\n",
       "      <td>2</td>\n",
       "      <td>840.0</td>\n",
       "      <td>120.0</td>\n",
       "      <td>2021-07-27 20:03:00+02:00</td>\n",
       "    </tr>\n",
       "    <tr>\n",
       "      <th>3</th>\n",
       "      <td>2021-07-27 20:08:00+02:00</td>\n",
       "      <td>2</td>\n",
       "      <td>600.0</td>\n",
       "      <td>240.0</td>\n",
       "      <td>2021-07-27 20:08:00+02:00</td>\n",
       "    </tr>\n",
       "    <tr>\n",
       "      <th>4</th>\n",
       "      <td>2021-07-27 20:13:00+02:00</td>\n",
       "      <td>2</td>\n",
       "      <td>720.0</td>\n",
       "      <td>60.0</td>\n",
       "      <td>2021-07-27 20:13:00+02:00</td>\n",
       "    </tr>\n",
       "  </tbody>\n",
       "</table>\n",
       "</div>"
      ],
      "text/plain": [
       "                        time Wochentag  f84_1  f84_2  \\\n",
       "0  2021-07-27 19:53:00+02:00         2  900.0  180.0   \n",
       "1  2021-07-27 19:58:00+02:00         2  840.0  420.0   \n",
       "2  2021-07-27 20:03:00+02:00         2  840.0  120.0   \n",
       "3  2021-07-27 20:08:00+02:00         2  600.0  240.0   \n",
       "4  2021-07-27 20:13:00+02:00         2  720.0   60.0   \n",
       "\n",
       "                      time_1  \n",
       "0  2021-07-27 19:53:00+02:00  \n",
       "1  2021-07-27 19:58:00+02:00  \n",
       "2  2021-07-27 20:03:00+02:00  \n",
       "3  2021-07-27 20:08:00+02:00  \n",
       "4  2021-07-27 20:13:00+02:00  "
      ]
     },
     "execution_count": 109,
     "metadata": {},
     "output_type": "execute_result"
    }
   ],
   "source": [
    "dfjoin = pd.read_sql_query(q, conn)\n",
    "dfjoin.head()"
   ]
  },
  {
   "cell_type": "code",
   "execution_count": null,
   "id": "1b7219b7-ca2e-404e-8e70-c311d476d011",
   "metadata": {},
   "outputs": [],
   "source": []
  },
  {
   "cell_type": "markdown",
   "id": "d46116b8-5112-4105-90be-2a521bf6e63b",
   "metadata": {},
   "source": [
    "#### Die column names, wenn ich nicht neu label"
   ]
  },
  {
   "cell_type": "code",
   "execution_count": 98,
   "id": "7352747d-2f3e-4966-b144-f15ceb2ce4be",
   "metadata": {},
   "outputs": [
    {
     "data": {
      "text/plain": [
       "[('2021-07-27 19:53:00+02:00', 900.0, 68.9000015, 0.0, 0.0, 0.0, 0.0, '2021-07-27 19:53:00+02:00', 180.0, 81.6999969, 0.0, 0.0, 0.0, 0.0),\n",
       " ('2021-07-27 19:58:00+02:00', 840.0, 65.5, 60.0, 73.0, 0.0, 0.0, '2021-07-27 19:58:00+02:00', 420.0, 85.6999969, 0.0, 0.0, 0.0, 0.0),\n",
       " ('2021-07-27 20:03:00+02:00', 840.0, 67.8000031, 60.0, 72.0, 0.0, 0.0, '2021-07-27 20:03:00+02:00', 120.0, 82.0, 0.0, 0.0, 0.0, 0.0),\n",
       " ('2021-07-27 20:08:00+02:00', 600.0, 79.3000031, 0.0, 0.0, 0.0, 0.0, '2021-07-27 20:08:00+02:00', 240.0, 80.3000031, 0.0, 0.0, 0.0, 0.0),\n",
       " ('2021-07-27 20:13:00+02:00', 720.0, 72.3000031, 0.0, 0.0, 0.0, 0.0, '2021-07-27 20:13:00+02:00', 60.0, 75.0, 0.0, 0.0, 0.0, 0.0),\n",
       " ('2021-07-27 20:18:00+02:00', 780.0, 73.9000015, 0.0, 0.0, 0.0, 0.0, '2021-07-27 20:18:00+02:00', 60.0, 84.0, 0.0, 0.0, 0.0, 0.0)]"
      ]
     },
     "execution_count": 98,
     "metadata": {},
     "output_type": "execute_result"
    }
   ],
   "source": [
    "q = db.select(j)\n",
    "result = conn.execute(q)\n",
    "row = result.fetchmany(6)\n",
    "row"
   ]
  },
  {
   "cell_type": "code",
   "execution_count": 99,
   "id": "20c6eba1-98c5-4e95-934f-c2c86801fc37",
   "metadata": {},
   "outputs": [
    {
     "data": {
      "text/html": [
       "<div>\n",
       "<style scoped>\n",
       "    .dataframe tbody tr th:only-of-type {\n",
       "        vertical-align: middle;\n",
       "    }\n",
       "\n",
       "    .dataframe tbody tr th {\n",
       "        vertical-align: top;\n",
       "    }\n",
       "\n",
       "    .dataframe thead th {\n",
       "        text-align: right;\n",
       "    }\n",
       "</style>\n",
       "<table border=\"1\" class=\"dataframe\">\n",
       "  <thead>\n",
       "    <tr style=\"text-align: right;\">\n",
       "      <th></th>\n",
       "      <th>time</th>\n",
       "      <th>vfr11</th>\n",
       "      <th>s12</th>\n",
       "      <th>vfr21</th>\n",
       "      <th>s22</th>\n",
       "      <th>vfr1</th>\n",
       "      <th>s2</th>\n",
       "      <th>time_1</th>\n",
       "      <th>vfr11_1</th>\n",
       "      <th>s12_1</th>\n",
       "      <th>vfr21_1</th>\n",
       "      <th>s22_1</th>\n",
       "      <th>vfr1_1</th>\n",
       "      <th>s2_1</th>\n",
       "    </tr>\n",
       "  </thead>\n",
       "  <tbody>\n",
       "    <tr>\n",
       "      <th>0</th>\n",
       "      <td>2021-07-27 19:53:00+02:00</td>\n",
       "      <td>900.0</td>\n",
       "      <td>68.900002</td>\n",
       "      <td>0.0</td>\n",
       "      <td>0.0</td>\n",
       "      <td>0.0</td>\n",
       "      <td>0.0</td>\n",
       "      <td>2021-07-27 19:53:00+02:00</td>\n",
       "      <td>180.0</td>\n",
       "      <td>81.699997</td>\n",
       "      <td>0.0</td>\n",
       "      <td>0.0</td>\n",
       "      <td>0.0</td>\n",
       "      <td>0.0</td>\n",
       "    </tr>\n",
       "    <tr>\n",
       "      <th>1</th>\n",
       "      <td>2021-07-27 19:58:00+02:00</td>\n",
       "      <td>840.0</td>\n",
       "      <td>65.500000</td>\n",
       "      <td>60.0</td>\n",
       "      <td>73.0</td>\n",
       "      <td>0.0</td>\n",
       "      <td>0.0</td>\n",
       "      <td>2021-07-27 19:58:00+02:00</td>\n",
       "      <td>420.0</td>\n",
       "      <td>85.699997</td>\n",
       "      <td>0.0</td>\n",
       "      <td>0.0</td>\n",
       "      <td>0.0</td>\n",
       "      <td>0.0</td>\n",
       "    </tr>\n",
       "    <tr>\n",
       "      <th>2</th>\n",
       "      <td>2021-07-27 20:03:00+02:00</td>\n",
       "      <td>840.0</td>\n",
       "      <td>67.800003</td>\n",
       "      <td>60.0</td>\n",
       "      <td>72.0</td>\n",
       "      <td>0.0</td>\n",
       "      <td>0.0</td>\n",
       "      <td>2021-07-27 20:03:00+02:00</td>\n",
       "      <td>120.0</td>\n",
       "      <td>82.000000</td>\n",
       "      <td>0.0</td>\n",
       "      <td>0.0</td>\n",
       "      <td>0.0</td>\n",
       "      <td>0.0</td>\n",
       "    </tr>\n",
       "    <tr>\n",
       "      <th>3</th>\n",
       "      <td>2021-07-27 20:08:00+02:00</td>\n",
       "      <td>600.0</td>\n",
       "      <td>79.300003</td>\n",
       "      <td>0.0</td>\n",
       "      <td>0.0</td>\n",
       "      <td>0.0</td>\n",
       "      <td>0.0</td>\n",
       "      <td>2021-07-27 20:08:00+02:00</td>\n",
       "      <td>240.0</td>\n",
       "      <td>80.300003</td>\n",
       "      <td>0.0</td>\n",
       "      <td>0.0</td>\n",
       "      <td>0.0</td>\n",
       "      <td>0.0</td>\n",
       "    </tr>\n",
       "    <tr>\n",
       "      <th>4</th>\n",
       "      <td>2021-07-27 20:13:00+02:00</td>\n",
       "      <td>720.0</td>\n",
       "      <td>72.300003</td>\n",
       "      <td>0.0</td>\n",
       "      <td>0.0</td>\n",
       "      <td>0.0</td>\n",
       "      <td>0.0</td>\n",
       "      <td>2021-07-27 20:13:00+02:00</td>\n",
       "      <td>60.0</td>\n",
       "      <td>75.000000</td>\n",
       "      <td>0.0</td>\n",
       "      <td>0.0</td>\n",
       "      <td>0.0</td>\n",
       "      <td>0.0</td>\n",
       "    </tr>\n",
       "  </tbody>\n",
       "</table>\n",
       "</div>"
      ],
      "text/plain": [
       "                        time  vfr11        s12  vfr21   s22  vfr1   s2  \\\n",
       "0  2021-07-27 19:53:00+02:00  900.0  68.900002    0.0   0.0   0.0  0.0   \n",
       "1  2021-07-27 19:58:00+02:00  840.0  65.500000   60.0  73.0   0.0  0.0   \n",
       "2  2021-07-27 20:03:00+02:00  840.0  67.800003   60.0  72.0   0.0  0.0   \n",
       "3  2021-07-27 20:08:00+02:00  600.0  79.300003    0.0   0.0   0.0  0.0   \n",
       "4  2021-07-27 20:13:00+02:00  720.0  72.300003    0.0   0.0   0.0  0.0   \n",
       "\n",
       "                      time_1  vfr11_1      s12_1  vfr21_1  s22_1  vfr1_1  s2_1  \n",
       "0  2021-07-27 19:53:00+02:00    180.0  81.699997      0.0    0.0     0.0   0.0  \n",
       "1  2021-07-27 19:58:00+02:00    420.0  85.699997      0.0    0.0     0.0   0.0  \n",
       "2  2021-07-27 20:03:00+02:00    120.0  82.000000      0.0    0.0     0.0   0.0  \n",
       "3  2021-07-27 20:08:00+02:00    240.0  80.300003      0.0    0.0     0.0   0.0  \n",
       "4  2021-07-27 20:13:00+02:00     60.0  75.000000      0.0    0.0     0.0   0.0  "
      ]
     },
     "execution_count": 99,
     "metadata": {},
     "output_type": "execute_result"
    }
   ],
   "source": [
    "dfjoin = pd.read_sql_query(q, conn)\n",
    "dfjoin.head()"
   ]
  },
  {
   "cell_type": "code",
   "execution_count": 100,
   "id": "6f4471ad-2cae-409b-81aa-96bac801a201",
   "metadata": {},
   "outputs": [
    {
     "data": {
      "text/plain": [
       "Index(['time', 'vfr11', 's12', 'vfr21', 's22', 'vfr1', 's2', 'time_1',\n",
       "       'vfr11_1', 's12_1', 'vfr21_1', 's22_1', 'vfr1_1', 's2_1'],\n",
       "      dtype='object')"
      ]
     },
     "execution_count": 100,
     "metadata": {},
     "output_type": "execute_result"
    }
   ],
   "source": [
    "dfjoin.columns"
   ]
  },
  {
   "cell_type": "markdown",
   "id": "fae48213-f2be-42c3-8b69-d7b9b8da7e9e",
   "metadata": {},
   "source": [
    "#### Jetzt eine Abfrage zur Identifikation von Staus"
   ]
  },
  {
   "cell_type": "code",
   "execution_count": 112,
   "id": "69551b7b-2298-405b-8d25-b743a49a154c",
   "metadata": {
    "tags": []
   },
   "outputs": [
    {
     "data": {
      "text/plain": [
       "[('2022-01-02 01:03:00+01:00', '0', '01', '02', '00', 12, 140.0, 71.48333359166666),\n",
       " ('2022-01-02 02:03:00+01:00', '0', '01', '02', '01', 12, 125.0, 52.05000051666667),\n",
       " ('2022-01-02 03:03:00+01:00', '0', '01', '02', '02', 12, 105.0, 62.14999993333333),\n",
       " ('2022-01-02 04:03:00+01:00', '0', '01', '02', '03', 17, 70.58823529411765, 49.964705970588234),\n",
       " ('2022-01-02 05:00:00+01:00', '0', '01', '02', '04', 60, 134.0, 63.10166663833334),\n",
       " ('2022-01-02 06:00:00+01:00', '0', '01', '02', '05', 57, 402.10526315789474, 69.3245614017544),\n",
       " ('2022-01-02 07:00:00+01:00', '0', '01', '02', '06', 57, 464.2105263157895, 68.54912320000001),\n",
       " ('2022-01-02 08:03:00+01:00', '0', '01', '02', '07', 12, 460.0, 70.30833308333332),\n",
       " ('2022-01-02 09:03:00+01:00', '0', '01', '02', '08', 12, 600.0, 67.08333365833333),\n",
       " ('2022-01-02 10:03:00+01:00', '0', '01', '02', '09', 12, 1015.0, 68.50833383333334)]"
      ]
     },
     "execution_count": 112,
     "metadata": {},
     "output_type": "execute_result"
    }
   ],
   "source": [
    "q = db.select(t.c.time, func.strftime('%w', t.c.time).label('Wochentag'), func.strftime('%m', t.c.time).label('Monat'), \\\n",
    "              func.strftime('%d', t.c.time).label('Tag'), func.strftime('%H', t.c.time).label('Stunde'), \\\n",
    "              func.count(t.c.time).label('Anzahl'), func.avg(t.c.vfr11).label('AVG_flow'), func.avg(t.c.s12).label('AVG_speed')). \\\n",
    "where(t.c.time >= '2021-01-01 20:09:00+02:00').\\\n",
    "group_by(func.strftime('%w', t.c.time), func.strftime('%m', t.c.time), func.strftime('%d', t.c.time), func.strftime('%H', t.c.time))\n",
    "result = conn.execute(q)\n",
    "row = result.fetchmany(10)\n",
    "row"
   ]
  },
  {
   "cell_type": "code",
   "execution_count": 105,
   "id": "e2f8e8fd-9d50-4138-bb31-989f0f280447",
   "metadata": {},
   "outputs": [
    {
     "data": {
      "text/plain": [
       "[('2021-12-01 17:00:00+01:00', '2021', '12', '01', '16', 55, 1156.3636363636363, 18.894545495272723),\n",
       " ('2021-12-02 16:02:00+01:00', '2021', '12', '02', '15', 56, 1320.0, 26.607142805),\n",
       " ('2021-12-02 17:01:00+01:00', '2021', '12', '02', '16', 54, 1374.4444444444443, 23.35555557185185),\n",
       " ('2021-12-03 17:00:00+01:00', '2021', '12', '03', '16', 47, 1972.340425531915, 34.49148940851064),\n",
       " ('2021-12-08 16:00:00+01:00', '2021', '12', '08', '15', 54, 1472.2222222222222, 30.675926038888882),\n",
       " ('2021-12-08 17:00:00+01:00', '2021', '12', '08', '16', 55, 1244.7272727272727, 22.232727330727275),\n",
       " ('2021-12-17 16:10:00+01:00', '2021', '12', '17', '15', 41, 1813.1707317073171, 31.387804587804883),\n",
       " ('2021-11-02 17:02:00+01:00', '2021', '11', '02', '16', 48, 1941.25, 31.937500014583332),\n",
       " ('2021-11-03 17:01:00+01:00', '2021', '11', '03', '16', 50, 1959.6, 31.990000040000005),\n",
       " ('2021-11-04 17:00:00+01:00', '2021', '11', '04', '16', 46, 1820.8695652173913, 30.752174039130434)]"
      ]
     },
     "execution_count": 105,
     "metadata": {},
     "output_type": "execute_result"
    }
   ],
   "source": [
    "q = db.select(t.c.time, func.strftime('%Y', t.c.time).label('Jahr'), func.strftime('%m', t.c.time).label('Monat'), \\\n",
    "              func.strftime('%d', t.c.time).label('Tag'), func.strftime('%H', t.c.time).label('Stunde'), \\\n",
    "              func.count(t.c.time).label('Anzahl'), func.avg(t.c.vfr11).label('AVG_flow'), func.avg(t.c.s12).label('AVG_speed')). \\\n",
    "where(and_(t.c.s12 >=0, t.c.s12 <40 )) .\\\n",
    "group_by(func.strftime('%w', t.c.time), func.strftime('%m', t.c.time), func.strftime('%d', t.c.time), func.strftime('%H', t.c.time)). \\\n",
    "having(func.count(t.c.time) > 40). \\\n",
    "order_by(func.strftime('%m', t.c.time).desc(), func.strftime('%d', t.c.time))\n",
    "result = conn.execute(q)\n",
    "row = result.fetchmany(10)\n",
    "row"
   ]
  },
  {
   "cell_type": "markdown",
   "id": "65157177-012d-4826-9ab1-e819e15de1f1",
   "metadata": {},
   "source": [
    "#### Und nun die gleiche Query unter Verwendung der Label bei HAVING und ORDER_BY und Rundung der Averages"
   ]
  },
  {
   "cell_type": "code",
   "execution_count": 106,
   "id": "0fc482a4-6bbe-4038-874d-d711ebf25338",
   "metadata": {},
   "outputs": [
    {
     "data": {
      "text/plain": [
       "[('2021-12-01 17:00:00+01:00', '2021', '12', '01', '16', 55, 1156.0, 18.9),\n",
       " ('2021-12-02 16:02:00+01:00', '2021', '12', '02', '15', 56, 1320.0, 26.6),\n",
       " ('2021-12-02 17:01:00+01:00', '2021', '12', '02', '16', 54, 1374.0, 23.4),\n",
       " ('2021-12-03 17:00:00+01:00', '2021', '12', '03', '16', 47, 1972.0, 34.5),\n",
       " ('2021-12-08 16:00:00+01:00', '2021', '12', '08', '15', 54, 1472.0, 30.7),\n",
       " ('2021-12-08 17:00:00+01:00', '2021', '12', '08', '16', 55, 1245.0, 22.2),\n",
       " ('2021-12-17 16:10:00+01:00', '2021', '12', '17', '15', 41, 1813.0, 31.4),\n",
       " ('2021-11-02 17:02:00+01:00', '2021', '11', '02', '16', 48, 1941.0, 31.9),\n",
       " ('2021-11-03 17:01:00+01:00', '2021', '11', '03', '16', 50, 1960.0, 32.0),\n",
       " ('2021-11-04 17:00:00+01:00', '2021', '11', '04', '16', 46, 1821.0, 30.8)]"
      ]
     },
     "execution_count": 106,
     "metadata": {},
     "output_type": "execute_result"
    }
   ],
   "source": [
    "q = db.select(t.c.time, func.strftime('%Y', t.c.time).label('Jahr'), func.strftime('%m', t.c.time).label('Monat'), \\\n",
    "              func.strftime('%d', t.c.time).label('Tag'), func.strftime('%H', t.c.time).label('Stunde'), \\\n",
    "              func.count(t.c.time).label('Anzahl'), func.round(func.avg(t.c.vfr11)).label('AVG_flow'), func.round(func.avg(t.c.s12).label('AVG_speed'),1)). \\\n",
    "where(and_(t.c.s12 >=0, t.c.s12 <40 )) .\\\n",
    "group_by(func.strftime('%w', t.c.time), func.strftime('%m', t.c.time), func.strftime('%d', t.c.time), func.strftime('%H', t.c.time)). \\\n",
    "having(text('Anzahl > 40')). \\\n",
    "order_by(desc('Monat'), 'Tag')\n",
    "result = conn.execute(q)\n",
    "row = result.fetchmany(10)\n",
    "row"
   ]
  },
  {
   "cell_type": "code",
   "execution_count": 107,
   "id": "d1be9ed1-f260-47e8-8f43-2b7aae7e9dcd",
   "metadata": {},
   "outputs": [
    {
     "data": {
      "text/html": [
       "<div>\n",
       "<style scoped>\n",
       "    .dataframe tbody tr th:only-of-type {\n",
       "        vertical-align: middle;\n",
       "    }\n",
       "\n",
       "    .dataframe tbody tr th {\n",
       "        vertical-align: top;\n",
       "    }\n",
       "\n",
       "    .dataframe thead th {\n",
       "        text-align: right;\n",
       "    }\n",
       "</style>\n",
       "<table border=\"1\" class=\"dataframe\">\n",
       "  <thead>\n",
       "    <tr style=\"text-align: right;\">\n",
       "      <th></th>\n",
       "      <th>time</th>\n",
       "      <th>Jahr</th>\n",
       "      <th>Monat</th>\n",
       "      <th>Tag</th>\n",
       "      <th>Stunde</th>\n",
       "      <th>Anzahl</th>\n",
       "      <th>AVG_flow</th>\n",
       "      <th>round_1</th>\n",
       "    </tr>\n",
       "  </thead>\n",
       "  <tbody>\n",
       "    <tr>\n",
       "      <th>0</th>\n",
       "      <td>2021-12-01 17:00:00+01:00</td>\n",
       "      <td>2021</td>\n",
       "      <td>12</td>\n",
       "      <td>01</td>\n",
       "      <td>16</td>\n",
       "      <td>55</td>\n",
       "      <td>1156.0</td>\n",
       "      <td>18.9</td>\n",
       "    </tr>\n",
       "    <tr>\n",
       "      <th>1</th>\n",
       "      <td>2021-12-02 16:02:00+01:00</td>\n",
       "      <td>2021</td>\n",
       "      <td>12</td>\n",
       "      <td>02</td>\n",
       "      <td>15</td>\n",
       "      <td>56</td>\n",
       "      <td>1320.0</td>\n",
       "      <td>26.6</td>\n",
       "    </tr>\n",
       "    <tr>\n",
       "      <th>2</th>\n",
       "      <td>2021-12-02 17:01:00+01:00</td>\n",
       "      <td>2021</td>\n",
       "      <td>12</td>\n",
       "      <td>02</td>\n",
       "      <td>16</td>\n",
       "      <td>54</td>\n",
       "      <td>1374.0</td>\n",
       "      <td>23.4</td>\n",
       "    </tr>\n",
       "    <tr>\n",
       "      <th>3</th>\n",
       "      <td>2021-12-03 17:00:00+01:00</td>\n",
       "      <td>2021</td>\n",
       "      <td>12</td>\n",
       "      <td>03</td>\n",
       "      <td>16</td>\n",
       "      <td>47</td>\n",
       "      <td>1972.0</td>\n",
       "      <td>34.5</td>\n",
       "    </tr>\n",
       "    <tr>\n",
       "      <th>4</th>\n",
       "      <td>2021-12-08 16:00:00+01:00</td>\n",
       "      <td>2021</td>\n",
       "      <td>12</td>\n",
       "      <td>08</td>\n",
       "      <td>15</td>\n",
       "      <td>54</td>\n",
       "      <td>1472.0</td>\n",
       "      <td>30.7</td>\n",
       "    </tr>\n",
       "  </tbody>\n",
       "</table>\n",
       "</div>"
      ],
      "text/plain": [
       "                        time  Jahr Monat Tag Stunde  Anzahl  AVG_flow  round_1\n",
       "0  2021-12-01 17:00:00+01:00  2021    12  01     16      55    1156.0     18.9\n",
       "1  2021-12-02 16:02:00+01:00  2021    12  02     15      56    1320.0     26.6\n",
       "2  2021-12-02 17:01:00+01:00  2021    12  02     16      54    1374.0     23.4\n",
       "3  2021-12-03 17:00:00+01:00  2021    12  03     16      47    1972.0     34.5\n",
       "4  2021-12-08 16:00:00+01:00  2021    12  08     15      54    1472.0     30.7"
      ]
     },
     "execution_count": 107,
     "metadata": {},
     "output_type": "execute_result"
    }
   ],
   "source": [
    "dfjam = pd.read_sql_query(q, conn)\n",
    "dfjam.head()"
   ]
  },
  {
   "cell_type": "markdown",
   "id": "e0b2f88e-bf2e-49d5-9478-46cac9bc061c",
   "metadata": {},
   "source": [
    "#### Man beachte den Effekt der Positionierung der Labels!!"
   ]
  },
  {
   "cell_type": "code",
   "execution_count": null,
   "id": "75121e2a-2b09-4035-a5a4-55fad95f6c7f",
   "metadata": {},
   "outputs": [],
   "source": []
  },
  {
   "cell_type": "code",
   "execution_count": null,
   "id": "db509881-fa98-4b05-ad82-50fb12cac30f",
   "metadata": {},
   "outputs": [],
   "source": []
  }
 ],
 "metadata": {
  "kernelspec": {
   "display_name": "Python 3 (ipykernel)",
   "language": "python",
   "name": "python3"
  },
  "language_info": {
   "codemirror_mode": {
    "name": "ipython",
    "version": 3
   },
   "file_extension": ".py",
   "mimetype": "text/x-python",
   "name": "python",
   "nbconvert_exporter": "python",
   "pygments_lexer": "ipython3",
   "version": "3.8.5"
  }
 },
 "nbformat": 4,
 "nbformat_minor": 5
}
