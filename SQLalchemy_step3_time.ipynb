{
 "cells": [
  {
   "cell_type": "code",
   "execution_count": 1,
   "id": "ead7f861-bddc-4c90-aa82-fddb5584ddc3",
   "metadata": {
    "tags": []
   },
   "outputs": [],
   "source": [
    "import sqlalchemy as db\n",
    "from sqlalchemy import create_engine, inspect, MetaData\n",
    "import pandas as pd"
   ]
  },
  {
   "cell_type": "code",
   "execution_count": 2,
   "id": "b1190fdd-5dc7-4536-b583-388aac9fe46a",
   "metadata": {},
   "outputs": [],
   "source": [
    "engine = db.create_engine('sqlite:///C:\\\\Users\\\\peter\\\\Documents\\\\Projekte\\\\Zähler\\\\tc_all_new.db', echo = False)"
   ]
  },
  {
   "cell_type": "code",
   "execution_count": 3,
   "id": "60855231-2f59-4155-86a5-99edbfa735f6",
   "metadata": {},
   "outputs": [],
   "source": [
    "conn = engine.connect()"
   ]
  },
  {
   "cell_type": "markdown",
   "id": "14576580-9659-49ee-8736-7e8871b93834",
   "metadata": {
    "tags": []
   },
   "source": [
    "#### So komme ich an die Tabellen in der DB!"
   ]
  },
  {
   "cell_type": "code",
   "execution_count": 4,
   "id": "43f3c65a-af7e-4c54-b5d1-955fc392532a",
   "metadata": {},
   "outputs": [],
   "source": [
    "inspector = inspect(engine)"
   ]
  },
  {
   "cell_type": "code",
   "execution_count": 5,
   "id": "bd4bf2e5-c1ee-4ddb-819a-6b5d60ebc7a0",
   "metadata": {},
   "outputs": [],
   "source": [
    "tab = inspector.get_table_names()\n",
    "tab = tab[:-1]"
   ]
  },
  {
   "cell_type": "markdown",
   "id": "55905aff-8071-43e7-af18-15e06b3dce01",
   "metadata": {
    "tags": []
   },
   "source": [
    "#### Und so die Spaltennamen und Typen in einer Tabelle!"
   ]
  },
  {
   "cell_type": "code",
   "execution_count": 6,
   "id": "ae626ae5-1c0d-4fa6-98bf-70e84bf1b362",
   "metadata": {},
   "outputs": [
    {
     "name": "stdout",
     "output_type": "stream",
     "text": [
      "time TEXT\n",
      "vfr11 REAL\n",
      "s12 REAL\n",
      "vfr21 REAL\n",
      "s22 REAL\n",
      "vfr1 REAL\n",
      "s2 REAL\n"
     ]
    }
   ],
   "source": [
    "columns_table = inspector.get_columns('tcdata_CH_0084_01') \n",
    "\n",
    "\n",
    "for c in columns_table :\n",
    "    print(c['name'], c['type'])"
   ]
  },
  {
   "cell_type": "markdown",
   "id": "cfa1a927-cb28-4604-9d1b-eced0d6774f1",
   "metadata": {},
   "source": [
    "#### Es ist gar nicht so einfach, in SQLalchemy auf Tabellen einer bestehenden DB zuzugreifen. Bei Verwendung von des ORM kann \"automate\" zur Anwendung kommen. Ohne ORM geht es wie folgt:"
   ]
  },
  {
   "cell_type": "code",
   "execution_count": 7,
   "id": "349763ed-7692-4149-982b-3c4b4e8b570b",
   "metadata": {},
   "outputs": [],
   "source": [
    "metadata = db.MetaData(bind=engine)"
   ]
  },
  {
   "cell_type": "code",
   "execution_count": 8,
   "id": "c0241a1d-9882-4246-93b5-db710cd241b5",
   "metadata": {},
   "outputs": [],
   "source": [
    "table = db.Table('tcdata_CH_0084_01', metadata, autoload = True)"
   ]
  },
  {
   "cell_type": "markdown",
   "id": "97f892b4-29cb-4540-adf1-d480c69cf30b",
   "metadata": {},
   "source": [
    "#### Voila, mit der so definierten Tabelle kann ich die Abfragen starten!"
   ]
  },
  {
   "cell_type": "code",
   "execution_count": 9,
   "id": "0532d715-defd-4596-a04e-f5b231878406",
   "metadata": {},
   "outputs": [
    {
     "data": {
      "text/plain": [
       "[('2021-07-27 19:53:00+02:00', 900.0, 68.9000015, 0.0, 0.0, 0.0, 0.0),\n",
       " ('2021-07-27 19:58:00+02:00', 840.0, 65.5, 60.0, 73.0, 0.0, 0.0),\n",
       " ('2021-07-27 20:03:00+02:00', 840.0, 67.8000031, 60.0, 72.0, 0.0, 0.0),\n",
       " ('2021-07-27 20:08:00+02:00', 600.0, 79.3000031, 0.0, 0.0, 0.0, 0.0),\n",
       " ('2021-07-27 20:13:00+02:00', 720.0, 72.3000031, 0.0, 0.0, 0.0, 0.0),\n",
       " ('2021-07-27 20:18:00+02:00', 780.0, 73.9000015, 0.0, 0.0, 0.0, 0.0)]"
      ]
     },
     "execution_count": 9,
     "metadata": {},
     "output_type": "execute_result"
    }
   ],
   "source": [
    "q = db.select(table)\n",
    "result = conn.execute(q)\n",
    "row = result.fetchmany(6)\n",
    "row"
   ]
  },
  {
   "cell_type": "code",
   "execution_count": 10,
   "id": "28015fb8-5108-4da4-a542-3d4883120fb8",
   "metadata": {},
   "outputs": [],
   "source": [
    "from sqlalchemy.sql import func, and_, desc, alias"
   ]
  },
  {
   "cell_type": "code",
   "execution_count": 15,
   "id": "6e550831-f88c-4a0e-9d5c-9dd1987eaed4",
   "metadata": {
    "tags": []
   },
   "outputs": [
    {
     "data": {
      "text/plain": [
       "[('2021-11-27 01:03:00+01:00', 480.0, 72.3000031, 0.0, 0.0, 0.0, 0.0),\n",
       " ('2021-11-27 02:03:00+01:00', 180.0, 77.0, 0.0, 0.0, 0.0, 0.0),\n",
       " ('2021-11-27 03:03:00+01:00', 120.0, 61.0, 0.0, 0.0, 0.0, 0.0),\n",
       " ('2021-11-27 04:03:00+01:00', 300.0, 64.8000031, 0.0, 0.0, 0.0, 0.0),\n",
       " ('2021-11-27 05:00:00+01:00', 120.0, 67.5, 60.0, 70.0, 0.0, 0.0),\n",
       " ('2021-11-27 06:00:00+01:00', 360.0, 68.6999969, 60.0, 68.0, 0.0, 0.0),\n",
       " ('2021-11-27 07:00:00+01:00', 540.0, 73.5999985, 0.0, 0.0, 0.0, 0.0),\n",
       " ('2021-11-27 08:03:00+01:00', 960.0, 68.3000031, 0.0, 0.0, 0.0, 0.0),\n",
       " ('2021-11-27 09:03:00+01:00', 1320.0, 66.9000015, 0.0, 0.0, 0.0, 0.0),\n",
       " ('2021-11-27 10:03:00+01:00', 1440.0, 65.5999985, 120.0, 61.5, 0.0, 0.0),\n",
       " ('2021-11-27 11:03:00+01:00', 1500.0, 64.8000031, 0.0, 0.0, 0.0, 0.0),\n",
       " ('2021-11-27 12:03:00+01:00', 2400.0, 58.5, 0.0, 0.0, 0.0, 0.0),\n",
       " ('2021-11-27 13:03:00+01:00', 1800.0, 65.5999985, 0.0, 0.0, 0.0, 0.0),\n",
       " ('2021-11-27 14:03:00+01:00', 1620.0, 68.6999969, 0.0, 0.0, 0.0, 0.0),\n",
       " ('2021-11-27 15:00:00+01:00', 1380.0, 59.5999985, 0.0, 0.0, 0.0, 0.0),\n",
       " ('2021-11-27 16:00:00+01:00', 2040.0, 58.0, 0.0, 0.0, 0.0, 0.0),\n",
       " ('2021-11-27 17:00:00+01:00', 1800.0, 59.5999985, 0.0, 0.0, 0.0, 0.0),\n",
       " ('2021-11-27 18:03:00+01:00', 1080.0, 66.4000015, 0.0, 0.0, 0.0, 0.0),\n",
       " ('2021-11-27 19:03:00+01:00', 0.0, 0.0, 0.0, 0.0, 0.0, 0.0),\n",
       " ('2021-11-27 20:03:00+01:00', 0.0, 0.0, 0.0, 0.0, 0.0, 0.0),\n",
       " ('2021-11-27 21:03:00+01:00', 720.0, 70.0999985, 0.0, 0.0, 0.0, 0.0),\n",
       " ('2021-11-27 22:03:00+01:00', 780.0, 73.3000031, 0.0, 0.0, 0.0, 0.0),\n",
       " ('2021-11-27 23:03:00+01:00', 660.0, 71.4000015, 0.0, 0.0, 0.0, 0.0),\n",
       " ('2021-11-28 00:03:00+01:00', 180.0, 74.0, 0.0, 0.0, 0.0, 0.0)]"
      ]
     },
     "execution_count": 15,
     "metadata": {},
     "output_type": "execute_result"
    }
   ],
   "source": [
    "q = db.select(table).where(and_(func.strftime('%m', table.c.time) == '11' , func.strftime('%d', table.c.time) == '27')).group_by(func.strftime('%H', table.c.time))\n",
    "result = conn.execute(q)\n",
    "row = result.fetchmany(25)\n",
    "row"
   ]
  },
  {
   "cell_type": "markdown",
   "id": "ad5280f7-8433-4199-97e0-1cf6674c492a",
   "metadata": {},
   "source": [
    "#### Abfrage über mehrer Zeilen"
   ]
  },
  {
   "cell_type": "code",
   "execution_count": 18,
   "id": "69e2733f-5eb3-4582-8c05-5ed8edba59f5",
   "metadata": {
    "tags": []
   },
   "outputs": [
    {
     "data": {
      "text/plain": [
       "[('0', 105.0),\n",
       " ('1', 112.0),\n",
       " ('2', 102.0),\n",
       " ('3', 105.0),\n",
       " ('4', 108.0),\n",
       " ('5', 97.0),\n",
       " ('6', 131.0)]"
      ]
     },
     "execution_count": 18,
     "metadata": {},
     "output_type": "execute_result"
    }
   ],
   "source": [
    "q = db.select(func.strftime('%w', table.c.time), func.max(table.c.s12)).where(and_(func.strftime('%m', table.c.time) == '11')). \\\n",
    "group_by(func.strftime('%w', table.c.time))\n",
    "result = conn.execute(q)\n",
    "row = result.fetchmany(25)\n",
    "row"
   ]
  },
  {
   "cell_type": "markdown",
   "id": "e0552fad-3688-4142-908d-a72551ddb191",
   "metadata": {},
   "source": [
    "#### order_by"
   ]
  },
  {
   "cell_type": "code",
   "execution_count": 19,
   "id": "c3af4c09-cc6d-4527-a4a6-5e2701955d63",
   "metadata": {},
   "outputs": [
    {
     "data": {
      "text/plain": [
       "[('5', 97.0),\n",
       " ('2', 102.0),\n",
       " ('0', 105.0),\n",
       " ('3', 105.0),\n",
       " ('4', 108.0),\n",
       " ('1', 112.0),\n",
       " ('6', 131.0)]"
      ]
     },
     "execution_count": 19,
     "metadata": {},
     "output_type": "execute_result"
    }
   ],
   "source": [
    "q = db.select(func.strftime('%w', table.c.time), func.max(table.c.s12)).where(and_(func.strftime('%m', table.c.time) == '11')). \\\n",
    "group_by(func.strftime('%w', table.c.time)).order_by(table.c.s12)\n",
    "result = conn.execute(q)\n",
    "row = result.fetchmany(25)\n",
    "row"
   ]
  },
  {
   "cell_type": "code",
   "execution_count": 20,
   "id": "43274086-2662-47c2-8796-3061e301a3ea",
   "metadata": {},
   "outputs": [
    {
     "data": {
      "text/plain": [
       "[('6', 131.0),\n",
       " ('1', 112.0),\n",
       " ('4', 108.0),\n",
       " ('3', 105.0),\n",
       " ('0', 105.0),\n",
       " ('2', 102.0),\n",
       " ('5', 97.0)]"
      ]
     },
     "execution_count": 20,
     "metadata": {},
     "output_type": "execute_result"
    }
   ],
   "source": [
    "q = db.select(func.strftime('%w', table.c.time), func.max(table.c.s12)).where(and_(func.strftime('%m', table.c.time) == '11')). \\\n",
    "group_by(func.strftime('%w', table.c.time)).order_by(desc(table.c.s12))\n",
    "result = conn.execute(q)\n",
    "row = result.fetchmany(25)\n",
    "row"
   ]
  },
  {
   "cell_type": "markdown",
   "id": "9a027c3f-c108-4786-9c85-cd07095e9652",
   "metadata": {},
   "source": [
    "#### Intro eines Alias für table"
   ]
  },
  {
   "cell_type": "code",
   "execution_count": 21,
   "id": "c146b5c5-6fc7-401f-8139-3063f75dec04",
   "metadata": {},
   "outputs": [],
   "source": [
    "t = table.alias(\"a\")"
   ]
  },
  {
   "cell_type": "code",
   "execution_count": 22,
   "id": "6f135171-3354-46b6-867d-834a11c04b4c",
   "metadata": {},
   "outputs": [
    {
     "data": {
      "text/plain": [
       "[('2021-07-27 19:53:00+02:00', 900.0, 68.9000015, 0.0, 0.0, 0.0, 0.0),\n",
       " ('2021-07-27 19:58:00+02:00', 840.0, 65.5, 60.0, 73.0, 0.0, 0.0),\n",
       " ('2021-07-27 20:03:00+02:00', 840.0, 67.8000031, 60.0, 72.0, 0.0, 0.0),\n",
       " ('2021-07-27 20:08:00+02:00', 600.0, 79.3000031, 0.0, 0.0, 0.0, 0.0),\n",
       " ('2021-07-27 20:13:00+02:00', 720.0, 72.3000031, 0.0, 0.0, 0.0, 0.0)]"
      ]
     },
     "execution_count": 22,
     "metadata": {},
     "output_type": "execute_result"
    }
   ],
   "source": [
    "q = db.select(t)\n",
    "result = conn.execute(q)\n",
    "row = result.fetchmany(5)\n",
    "row"
   ]
  },
  {
   "cell_type": "code",
   "execution_count": 23,
   "id": "90452a4b-f5e4-48e2-9aad-2f32bcdc24ee",
   "metadata": {},
   "outputs": [
    {
     "data": {
      "text/plain": [
       "[('2021-07-27 19:53:00+02:00', 900.0, 68.9000015, 0.0, 0.0, 0.0, 0.0, '07'),\n",
       " ('2021-07-27 19:58:00+02:00', 840.0, 65.5, 60.0, 73.0, 0.0, 0.0, '07'),\n",
       " ('2021-07-27 20:03:00+02:00', 840.0, 67.8000031, 60.0, 72.0, 0.0, 0.0, '07'),\n",
       " ('2021-07-27 20:08:00+02:00', 600.0, 79.3000031, 0.0, 0.0, 0.0, 0.0, '07'),\n",
       " ('2021-07-27 20:13:00+02:00', 720.0, 72.3000031, 0.0, 0.0, 0.0, 0.0, '07'),\n",
       " ('2021-07-27 20:18:00+02:00', 780.0, 73.9000015, 0.0, 0.0, 0.0, 0.0, '07')]"
      ]
     },
     "execution_count": 23,
     "metadata": {},
     "output_type": "execute_result"
    }
   ],
   "source": [
    "q = db.select(t, func.strftime('%m', t.c.time).label('Monat'))\n",
    "result = conn.execute(q)\n",
    "row = result.fetchmany(6)\n",
    "row"
   ]
  },
  {
   "cell_type": "code",
   "execution_count": 24,
   "id": "6d06fa5e-ee36-44cb-a965-284be7b615e6",
   "metadata": {},
   "outputs": [
    {
     "data": {
      "text/plain": [
       "[(540.0, '01'),\n",
       " (180.0, '02'),\n",
       " (0.0, '03'),\n",
       " (60.0, '04'),\n",
       " (240.0, '05'),\n",
       " (900.0, '07')]"
      ]
     },
     "execution_count": 24,
     "metadata": {},
     "output_type": "execute_result"
    }
   ],
   "source": [
    "q = db.select(t.c.vfr11, func.strftime('%m', t.c.time).label('Monat')).group_by('Monat')\n",
    "result = conn.execute(q)\n",
    "row = result.fetchmany(6)\n",
    "row"
   ]
  },
  {
   "cell_type": "code",
   "execution_count": 25,
   "id": "4616cda3-002a-4e71-b48a-707bfce8816b",
   "metadata": {},
   "outputs": [
    {
     "data": {
      "text/plain": [
       "[('2021-07-27 19:53:00+02:00', 900.0, 68.9000015, 0.0, 0.0, 0.0, 0.0, '07', 170350)]"
      ]
     },
     "execution_count": 25,
     "metadata": {},
     "output_type": "execute_result"
    }
   ],
   "source": [
    "q = db.select(t, func.strftime('%m', t.c.time).label('Monat'), func.count(t.c.time))\n",
    "result = conn.execute(q)\n",
    "row = result.fetchmany(6)\n",
    "row"
   ]
  },
  {
   "cell_type": "code",
   "execution_count": 26,
   "id": "e188c7e3-3cf6-41a2-97cc-b5e3dee8113a",
   "metadata": {},
   "outputs": [
    {
     "data": {
      "text/plain": [
       "[('2022-01-01 01:03:00+01:00', 540.0, 60.4000015, 0.0, 0.0, 0.0, 0.0, '01', 17500),\n",
       " ('2022-02-01 01:03:00+01:00', 180.0, 45.0, 0.0, 0.0, 0.0, 0.0, '02', 15837),\n",
       " ('2022-03-01 04:53:00+01:00', 0.0, 0.0, 0.0, 0.0, 0.0, 0.0, '03', 17660),\n",
       " ('2022-04-01 02:03:00+02:00', 60.0, 62.0, 0.0, 0.0, 0.0, 0.0, '04', 17276),\n",
       " ('2022-05-01 02:03:00+02:00', 240.0, 63.2999992, 0.0, 0.0, 0.0, 0.0, '05', 13862),\n",
       " ('2021-07-27 19:53:00+02:00', 900.0, 68.9000015, 0.0, 0.0, 0.0, 0.0, '07', 3407),\n",
       " ('2021-08-01 20:09:00+02:00', 600.0, 71.5999985, 0.0, 0.0, 0.0, 0.0, '08', 17286),\n",
       " ('2021-09-01 02:03:00+02:00', 120.0, 66.5, 0.0, 0.0, 0.0, 0.0, '09', 16613),\n",
       " ('2021-10-01 02:03:00+02:00', 120.0, 70.0, 0.0, 0.0, 0.0, 0.0, '10', 17238),\n",
       " ('2021-11-01 01:03:00+01:00', 180.0, 73.6999969, 0.0, 0.0, 0.0, 0.0, '11', 16612),\n",
       " ('2021-12-01 01:03:00+01:00', 0.0, 0.0, 0.0, 0.0, 0.0, 0.0, '12', 17059)]"
      ]
     },
     "execution_count": 26,
     "metadata": {},
     "output_type": "execute_result"
    }
   ],
   "source": [
    "q = db.select(t, func.strftime('%m', t.c.time).label('Monat'), func.count(t.c.time)).group_by('Monat')\n",
    "result = conn.execute(q)\n",
    "row = result.fetchmany(14)\n",
    "row"
   ]
  },
  {
   "cell_type": "code",
   "execution_count": 27,
   "id": "f023d8ae-144e-4a7c-9f04-31308031f4fd",
   "metadata": {},
   "outputs": [
    {
     "data": {
      "text/plain": [
       "[('2021-09-01 02:03:00+02:00', '00', '01', 96),\n",
       " ('2021-08-02 02:00:00+02:00', '00', '02', 132),\n",
       " ('2021-09-03 02:03:00+02:00', '00', '03', 106),\n",
       " ('2021-08-04 02:03:00+02:00', '00', '04', 120),\n",
       " ('2021-08-05 02:03:00+02:00', '00', '05', 108),\n",
       " ('2021-08-06 02:03:00+02:00', '00', '06', 132),\n",
       " ('2021-08-07 02:03:00+02:00', '00', '07', 84),\n",
       " ('2021-08-08 02:04:00+02:00', '00', '08', 120),\n",
       " ('2021-08-09 02:03:00+02:00', '00', '09', 120),\n",
       " ('2021-08-10 02:03:00+02:00', '00', '10', 120),\n",
       " ('2021-08-11 02:03:00+02:00', '00', '11', 120),\n",
       " ('2021-08-12 02:03:00+02:00', '00', '12', 120),\n",
       " ('2021-08-13 02:03:00+02:00', '00', '13', 119),\n",
       " ('2021-08-14 02:03:00+02:00', '00', '14', 108)]"
      ]
     },
     "execution_count": 27,
     "metadata": {},
     "output_type": "execute_result"
    }
   ],
   "source": [
    "q = db.select(t.c.time, func.strftime('%H', t.c.time).label('Stunde'), func.strftime('%d', t.c.time).label('Tag'), func.count(t.c.time)).group_by('Stunde', 'Tag')\n",
    "result = conn.execute(q)\n",
    "row = result.fetchmany(14)\n",
    "row"
   ]
  },
  {
   "cell_type": "code",
   "execution_count": 28,
   "id": "64ec93f7-ebb9-462b-bb4f-5b9aa61b5221",
   "metadata": {},
   "outputs": [
    {
     "data": {
      "text/plain": [
       "[('2021-08-01 20:09:00+02:00', '18', '01', '0', 23336),\n",
       " ('2021-08-02 02:00:00+02:00', '00', '02', '1', 24313),\n",
       " ('2021-07-27 19:53:00+02:00', '17', '27', '2', 24001),\n",
       " ('2021-07-28 02:03:00+02:00', '00', '28', '3', 24658),\n",
       " ('2021-07-29 02:03:00+02:00', '00', '29', '4', 25082),\n",
       " ('2021-07-30 02:03:00+02:00', '00', '30', '5', 24370),\n",
       " ('2021-07-31 02:03:00+02:00', '00', '31', '6', 24590)]"
      ]
     },
     "execution_count": 28,
     "metadata": {},
     "output_type": "execute_result"
    }
   ],
   "source": [
    "q = db.select(t.c.time, func.strftime('%H', t.c.time).label('Stunde'), func.strftime('%d', t.c.time).label('Tag'), func.strftime('%w', t.c.time), func.count(t.c.time)). \\\n",
    "group_by(func.strftime('%w', t.c.time))\n",
    "result = conn.execute(q)\n",
    "row = result.fetchmany(14)\n",
    "row"
   ]
  },
  {
   "cell_type": "markdown",
   "id": "c06ccf47-3639-48b7-ad5b-8aee5e56bc83",
   "metadata": {},
   "source": [
    "#### Abfragen mit Zeiträumen als Kriterium"
   ]
  },
  {
   "cell_type": "code",
   "execution_count": 29,
   "id": "da1e1e24-feaf-433a-a7d5-e0d280054b19",
   "metadata": {},
   "outputs": [
    {
     "data": {
      "text/plain": [
       "[('2021-11-07 04:53:00+01:00', '03', '07', '0', 15566),\n",
       " ('2021-11-01 20:13:00+01:00', '19', '01', '1', 16612),\n",
       " ('2021-11-02 01:03:00+01:00', '00', '02', '2', 16966),\n",
       " ('2021-11-03 01:03:00+01:00', '00', '03', '3', 16394),\n",
       " ('2021-11-04 01:03:00+01:00', '00', '04', '4', 17014),\n",
       " ('2021-11-05 01:03:00+01:00', '00', '05', '5', 16364),\n",
       " ('2021-11-06 01:03:00+01:00', '00', '06', '6', 16374)]"
      ]
     },
     "execution_count": 29,
     "metadata": {},
     "output_type": "execute_result"
    }
   ],
   "source": [
    "q = db.select(t.c.time, func.strftime('%H', t.c.time).label('Stunde'), func.strftime('%d', t.c.time).label('Tag'), func.strftime('%w', t.c.time), func.count(t.c.time)). \\\n",
    "where(t.c.time >= '2021-11-01 20:09:00+02:00'). \\\n",
    "group_by(func.strftime('%w', t.c.time))\n",
    "result = conn.execute(q)\n",
    "row = result.fetchmany(14)\n",
    "row"
   ]
  },
  {
   "cell_type": "code",
   "execution_count": 33,
   "id": "7706ac3e-894a-45e6-9e0f-5c27e42dc081",
   "metadata": {},
   "outputs": [
    {
     "data": {
      "text/plain": [
       "[('2021-11-07 04:53:00+01:00', '03', '07', '0', 221),\n",
       " ('2021-11-01 20:13:00+01:00', '19', '01', '1', 624),\n",
       " ('2021-11-02 01:03:00+01:00', '00', '02', '2', 1090),\n",
       " ('2021-11-03 01:03:00+01:00', '00', '03', '3', 574),\n",
       " ('2021-11-04 01:03:00+01:00', '00', '04', '4', 573),\n",
       " ('2021-11-05 01:03:00+01:00', '00', '05', '5', 574),\n",
       " ('2021-11-06 01:03:00+01:00', '00', '06', '6', 334)]"
      ]
     },
     "execution_count": 33,
     "metadata": {},
     "output_type": "execute_result"
    }
   ],
   "source": [
    "q = db.select(t.c.time, func.strftime('%H', t.c.time).label('Stunde'), func.strftime('%d', t.c.time).label('Tag'), func.strftime('%w', t.c.time).label('Wochentag'), func.count(t.c.time)). \\\n",
    "where(and_(t.c.time >= '2021-11-01 20:09:00+02:00', t.c.time <= '2021-11-09 20:09:00+02:00')). \\\n",
    "group_by(func.strftime('%w', t.c.time))\n",
    "result = conn.execute(q)\n",
    "row = result.fetchmany(14)\n",
    "row"
   ]
  },
  {
   "cell_type": "code",
   "execution_count": null,
   "id": "ccf3f3f8-b319-4cd5-a866-5ca8f7ac3af2",
   "metadata": {},
   "outputs": [],
   "source": []
  },
  {
   "cell_type": "code",
   "execution_count": 34,
   "id": "e0b09093-d5a4-4cd6-a1c1-1d0e64149cc7",
   "metadata": {},
   "outputs": [],
   "source": [
    "df = pd.read_sql_query(q, conn)"
   ]
  },
  {
   "cell_type": "code",
   "execution_count": 35,
   "id": "5e532390-7e11-41b5-9dc4-88d07726f3a5",
   "metadata": {
    "tags": []
   },
   "outputs": [
    {
     "data": {
      "text/html": [
       "<div>\n",
       "<style scoped>\n",
       "    .dataframe tbody tr th:only-of-type {\n",
       "        vertical-align: middle;\n",
       "    }\n",
       "\n",
       "    .dataframe tbody tr th {\n",
       "        vertical-align: top;\n",
       "    }\n",
       "\n",
       "    .dataframe thead th {\n",
       "        text-align: right;\n",
       "    }\n",
       "</style>\n",
       "<table border=\"1\" class=\"dataframe\">\n",
       "  <thead>\n",
       "    <tr style=\"text-align: right;\">\n",
       "      <th></th>\n",
       "      <th>time</th>\n",
       "      <th>Stunde</th>\n",
       "      <th>Tag</th>\n",
       "      <th>Wochentag</th>\n",
       "      <th>count_1</th>\n",
       "    </tr>\n",
       "  </thead>\n",
       "  <tbody>\n",
       "    <tr>\n",
       "      <th>0</th>\n",
       "      <td>2021-11-07 04:53:00+01:00</td>\n",
       "      <td>03</td>\n",
       "      <td>07</td>\n",
       "      <td>0</td>\n",
       "      <td>221</td>\n",
       "    </tr>\n",
       "    <tr>\n",
       "      <th>1</th>\n",
       "      <td>2021-11-01 20:13:00+01:00</td>\n",
       "      <td>19</td>\n",
       "      <td>01</td>\n",
       "      <td>1</td>\n",
       "      <td>624</td>\n",
       "    </tr>\n",
       "    <tr>\n",
       "      <th>2</th>\n",
       "      <td>2021-11-02 01:03:00+01:00</td>\n",
       "      <td>00</td>\n",
       "      <td>02</td>\n",
       "      <td>2</td>\n",
       "      <td>1090</td>\n",
       "    </tr>\n",
       "    <tr>\n",
       "      <th>3</th>\n",
       "      <td>2021-11-03 01:03:00+01:00</td>\n",
       "      <td>00</td>\n",
       "      <td>03</td>\n",
       "      <td>3</td>\n",
       "      <td>574</td>\n",
       "    </tr>\n",
       "    <tr>\n",
       "      <th>4</th>\n",
       "      <td>2021-11-04 01:03:00+01:00</td>\n",
       "      <td>00</td>\n",
       "      <td>04</td>\n",
       "      <td>4</td>\n",
       "      <td>573</td>\n",
       "    </tr>\n",
       "    <tr>\n",
       "      <th>5</th>\n",
       "      <td>2021-11-05 01:03:00+01:00</td>\n",
       "      <td>00</td>\n",
       "      <td>05</td>\n",
       "      <td>5</td>\n",
       "      <td>574</td>\n",
       "    </tr>\n",
       "    <tr>\n",
       "      <th>6</th>\n",
       "      <td>2021-11-06 01:03:00+01:00</td>\n",
       "      <td>00</td>\n",
       "      <td>06</td>\n",
       "      <td>6</td>\n",
       "      <td>334</td>\n",
       "    </tr>\n",
       "  </tbody>\n",
       "</table>\n",
       "</div>"
      ],
      "text/plain": [
       "                        time Stunde Tag Wochentag  count_1\n",
       "0  2021-11-07 04:53:00+01:00     03  07         0      221\n",
       "1  2021-11-01 20:13:00+01:00     19  01         1      624\n",
       "2  2021-11-02 01:03:00+01:00     00  02         2     1090\n",
       "3  2021-11-03 01:03:00+01:00     00  03         3      574\n",
       "4  2021-11-04 01:03:00+01:00     00  04         4      573\n",
       "5  2021-11-05 01:03:00+01:00     00  05         5      574\n",
       "6  2021-11-06 01:03:00+01:00     00  06         6      334"
      ]
     },
     "execution_count": 35,
     "metadata": {},
     "output_type": "execute_result"
    }
   ],
   "source": [
    "df.head(10)"
   ]
  },
  {
   "cell_type": "code",
   "execution_count": null,
   "id": "ab035124-b632-42ec-a5b6-e9d9072ccef7",
   "metadata": {},
   "outputs": [],
   "source": []
  }
 ],
 "metadata": {
  "kernelspec": {
   "display_name": "Python 3 (ipykernel)",
   "language": "python",
   "name": "python3"
  },
  "language_info": {
   "codemirror_mode": {
    "name": "ipython",
    "version": 3
   },
   "file_extension": ".py",
   "mimetype": "text/x-python",
   "name": "python",
   "nbconvert_exporter": "python",
   "pygments_lexer": "ipython3",
   "version": "3.8.5"
  }
 },
 "nbformat": 4,
 "nbformat_minor": 5
}
