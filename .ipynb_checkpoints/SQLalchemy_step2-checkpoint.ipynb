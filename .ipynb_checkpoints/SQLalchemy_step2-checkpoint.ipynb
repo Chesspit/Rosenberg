{
 "cells": [
  {
   "cell_type": "code",
   "execution_count": 1,
   "id": "0a6093e7-18eb-4506-b000-0819e4357192",
   "metadata": {},
   "outputs": [],
   "source": [
    "import sqlalchemy as db\n",
    "from sqlalchemy import create_engine, inspect, MetaData"
   ]
  },
  {
   "cell_type": "code",
   "execution_count": 2,
   "id": "32475230-60f9-46bf-a8c2-1f9f20d6cb14",
   "metadata": {},
   "outputs": [],
   "source": [
    "engine = db.create_engine('sqlite:///C:\\\\Users\\\\peter\\\\Documents\\\\Projekte\\\\Zähler\\\\tc_all_new.db', echo = False)"
   ]
  },
  {
   "cell_type": "code",
   "execution_count": 3,
   "id": "0c07e71f-af64-4694-9ef4-5126b77bce1a",
   "metadata": {},
   "outputs": [],
   "source": [
    "conn = engine.connect()"
   ]
  },
  {
   "cell_type": "markdown",
   "id": "a1d1d67e-cf3d-4736-8b37-ec4e68b7e2a8",
   "metadata": {},
   "source": [
    "#### So stelle ist fest, welcher Driver verwendet wird...\n"
   ]
  },
  {
   "cell_type": "code",
   "execution_count": 4,
   "id": "21aadaf7-7d7d-42be-be2b-2db333e0cbd4",
   "metadata": {},
   "outputs": [
    {
     "data": {
      "text/plain": [
       "'pysqlite'"
      ]
     },
     "execution_count": 4,
     "metadata": {},
     "output_type": "execute_result"
    }
   ],
   "source": [
    "engine.driver"
   ]
  },
  {
   "cell_type": "markdown",
   "id": "8f37e2ee-6720-41c1-b50d-7dc92b4e85e2",
   "metadata": {
    "tags": []
   },
   "source": [
    "#### ...und so komme ich an die Tabellen in der DB!"
   ]
  },
  {
   "cell_type": "code",
   "execution_count": 19,
   "id": "7871903b-04e4-4719-a634-9c4d6e3a97d9",
   "metadata": {},
   "outputs": [],
   "source": [
    "inspector = inspect(engine)"
   ]
  },
  {
   "cell_type": "code",
   "execution_count": 20,
   "id": "3457b9a8-1c5e-4564-9dbd-80e746ba262d",
   "metadata": {
    "tags": []
   },
   "outputs": [
    {
     "data": {
      "text/plain": [
       "['tcdata_CH_0020_01',\n",
       " 'tcdata_CH_0020_02',\n",
       " 'tcdata_CH_0020_03',\n",
       " 'tcdata_CH_0020_04',\n",
       " 'tcdata_CH_0020_05',\n",
       " 'tcdata_CH_0020_06',\n",
       " 'tcdata_CH_0020_07',\n",
       " 'tcdata_CH_0020_08',\n",
       " 'tcdata_CH_0084_01',\n",
       " 'tcdata_CH_0084_02',\n",
       " 'tcdata_CH_0084_03',\n",
       " 'tcdata_CH_0084_04',\n",
       " 'tcdata_CH_0150_01',\n",
       " 'tcdata_CH_0150_02',\n",
       " 'tcdata_CH_0240_01',\n",
       " 'tcdata_CH_0240_02',\n",
       " 'tcdata_CH_0240_03',\n",
       " 'tcdata_CH_0240_04',\n",
       " 'tcdata_CH_0240_05',\n",
       " 'tcdata_CH_0240_06',\n",
       " 'tcdata_CH_0240_07',\n",
       " 'tcdata_CH_0240_08',\n",
       " 'tcdata_CH_0243_01',\n",
       " 'tcdata_CH_0243_02',\n",
       " 'tcdata_CH_0243_03',\n",
       " 'tcdata_CH_0243_04',\n",
       " 'tcdata_CH_0274_01',\n",
       " 'tcdata_CH_0274_02',\n",
       " 'tcdata_CH_0274_03',\n",
       " 'tcdata_CH_0274_04',\n",
       " 'tcdata_CH_0274_05',\n",
       " 'tcdata_CH_0274_06',\n",
       " 'tcdata_CH_0282_01',\n",
       " 'tcdata_CH_0282_02',\n",
       " 'tcdata_CH_0282_03',\n",
       " 'tcdata_CH_0282_04',\n",
       " 'tcdata_CH_0282_05',\n",
       " 'tcdata_CH_0282_06',\n",
       " 'tcdata_CH_0286_01',\n",
       " 'tcdata_CH_0286_02',\n",
       " 'tcdata_CH_0286_03',\n",
       " 'tcdata_CH_0286_04',\n",
       " 'tcdata_CH_0286_05',\n",
       " 'tcdata_CH_0286_06',\n",
       " 'tcdata_CH_0286_07',\n",
       " 'tcdata_CH_0286_08',\n",
       " 'tcdata_CH_0287_01',\n",
       " 'tcdata_CH_0287_02',\n",
       " 'tcdata_CH_0287_03',\n",
       " 'tcdata_CH_0287_04',\n",
       " 'tcdata_CH_0528_01',\n",
       " 'tcdata_CH_0528_02',\n",
       " 'tcdata_CH_0528_03',\n",
       " 'tcdata_CH_0528_04',\n",
       " 'tcdata_CH_0529_01',\n",
       " 'tcdata_CH_0529_02',\n",
       " 'tcdata_CH_0529_03',\n",
       " 'tcdata_CH_0529_04',\n",
       " 'tcdata_CH_0529_05',\n",
       " 'tcdata_CH_0601_01',\n",
       " 'tcdata_CH_0601_02',\n",
       " 'tcdata_CH_0601_03',\n",
       " 'tcdata_CH_0601_04',\n",
       " 'tcdata_CH_0602_01',\n",
       " 'tcdata_CH_0602_02',\n",
       " 'tcdata_CH_0602_03',\n",
       " 'tcdata_CH_0602_04',\n",
       " 'tcdata_CH_0605_01',\n",
       " 'tcdata_CH_0605_02',\n",
       " 'tcdata_CH_0605_03',\n",
       " 'tcdata_CH_0605_04',\n",
       " 'tcdata_CH_0605_05',\n",
       " 'tcdata_CH_0605_06',\n",
       " 'tcdata_CH_0605_07',\n",
       " 'tcdata_CH_0605_08',\n",
       " 'tcsites']"
      ]
     },
     "execution_count": 20,
     "metadata": {},
     "output_type": "execute_result"
    }
   ],
   "source": [
    "inspector.get_table_names()"
   ]
  },
  {
   "cell_type": "code",
   "execution_count": 21,
   "id": "7645ebbe-44c7-495d-b1f4-cd25eac1d0e0",
   "metadata": {
    "tags": []
   },
   "outputs": [],
   "source": [
    "tab = inspector.get_table_names()\n",
    "tab = tab[:-1]"
   ]
  },
  {
   "cell_type": "markdown",
   "id": "26b18e13-7354-4b3f-800a-eef7584ebf0b",
   "metadata": {},
   "source": [
    "#### Und so die Spaltennamen und Typen in einer Tabelle!"
   ]
  },
  {
   "cell_type": "code",
   "execution_count": 22,
   "id": "98b69e86-4f16-44bd-9056-4d861b497b3f",
   "metadata": {},
   "outputs": [
    {
     "name": "stdout",
     "output_type": "stream",
     "text": [
      "time TEXT\n",
      "vfr11 REAL\n",
      "s12 REAL\n",
      "vfr21 REAL\n",
      "s22 REAL\n",
      "vfr1 REAL\n",
      "s2 REAL\n"
     ]
    }
   ],
   "source": [
    "columns_table = inspector.get_columns('tcdata_CH_0084_01') \n",
    "\n",
    "\n",
    "for c in columns_table :\n",
    "    print(c['name'], c['type'])"
   ]
  },
  {
   "cell_type": "markdown",
   "id": "db8d2ce2-fbef-41c4-a01f-645e4f75c4cb",
   "metadata": {},
   "source": [
    "#### Es ist garnicht so einfach, in SQLalchemy auf Tabellen einer bestehenden DB zuzugreifen. Bei Verwendung von des ORM kann \"automate\" zur Anwendung kommen. Ohne ORM geht es wie folgt:"
   ]
  },
  {
   "cell_type": "code",
   "execution_count": 23,
   "id": "8ecf80eb-2e9f-4183-875c-172049656006",
   "metadata": {},
   "outputs": [],
   "source": [
    "metadata = db.MetaData(bind=engine)"
   ]
  },
  {
   "cell_type": "code",
   "execution_count": 24,
   "id": "128cebfe-b0a0-4a88-bb28-5f278053c4b4",
   "metadata": {},
   "outputs": [],
   "source": [
    "table = db.Table('tcdata_CH_0084_01', metadata, autoload = True)"
   ]
  },
  {
   "cell_type": "markdown",
   "id": "6d75f387-4824-46c1-b625-7cfb8f1d4d67",
   "metadata": {},
   "source": [
    "#### Voila, mit der so definierten Tabelle kann ich die Abfragen starten!"
   ]
  },
  {
   "cell_type": "code",
   "execution_count": 25,
   "id": "bfb49bd3-2faa-4be6-bcf7-49d8fa7fd4cd",
   "metadata": {
    "tags": []
   },
   "outputs": [],
   "source": [
    "import pandas as pd"
   ]
  },
  {
   "cell_type": "code",
   "execution_count": 26,
   "id": "8065dfb8-6c4f-46c1-9d02-4a1d6f5a6bd4",
   "metadata": {},
   "outputs": [],
   "source": [
    "pd.options.display.max_rows=2000"
   ]
  },
  {
   "cell_type": "code",
   "execution_count": 27,
   "id": "60288407-ab20-44c5-bb2c-297e5b3546a9",
   "metadata": {},
   "outputs": [
    {
     "data": {
      "text/plain": [
       "20"
      ]
     },
     "execution_count": 27,
     "metadata": {},
     "output_type": "execute_result"
    }
   ],
   "source": [
    "pd.options.display.max_columns"
   ]
  },
  {
   "cell_type": "markdown",
   "id": "3488fe11-851d-4a84-975e-6278c1efaab4",
   "metadata": {
    "tags": []
   },
   "source": [
    "### Abfrage 1 - Basics + Anzahl Datenpunkte"
   ]
  },
  {
   "cell_type": "code",
   "execution_count": 28,
   "id": "b13bc89f-d4f7-4058-a7bf-d9c7434a31cc",
   "metadata": {},
   "outputs": [],
   "source": [
    "q = db.select(table)"
   ]
  },
  {
   "cell_type": "code",
   "execution_count": 29,
   "id": "19342faf-c36b-4729-84f9-f1ae18cd83b6",
   "metadata": {},
   "outputs": [],
   "source": [
    "result = conn.execute(q)"
   ]
  },
  {
   "cell_type": "code",
   "execution_count": 30,
   "id": "0b7cc914-56de-41b4-a9aa-163a2948bca5",
   "metadata": {},
   "outputs": [],
   "source": [
    "row = result.fetchmany(8)"
   ]
  },
  {
   "cell_type": "code",
   "execution_count": 31,
   "id": "d181a77c-7f09-451c-839b-e4b7b2f201ce",
   "metadata": {},
   "outputs": [
    {
     "data": {
      "text/plain": [
       "[('2021-07-27 19:53:00+02:00', 900.0, 68.9000015, 0.0, 0.0, 0.0, 0.0),\n",
       " ('2021-07-27 19:58:00+02:00', 840.0, 65.5, 60.0, 73.0, 0.0, 0.0),\n",
       " ('2021-07-27 20:03:00+02:00', 840.0, 67.8000031, 60.0, 72.0, 0.0, 0.0),\n",
       " ('2021-07-27 20:08:00+02:00', 600.0, 79.3000031, 0.0, 0.0, 0.0, 0.0),\n",
       " ('2021-07-27 20:13:00+02:00', 720.0, 72.3000031, 0.0, 0.0, 0.0, 0.0),\n",
       " ('2021-07-27 20:18:00+02:00', 780.0, 73.9000015, 0.0, 0.0, 0.0, 0.0),\n",
       " ('2021-07-27 20:23:00+02:00', 780.0, 72.1999969, 0.0, 0.0, 0.0, 0.0),\n",
       " ('2021-07-27 20:28:00+02:00', 900.0, 69.5999985, 0.0, 0.0, 0.0, 0.0)]"
      ]
     },
     "execution_count": 31,
     "metadata": {},
     "output_type": "execute_result"
    }
   ],
   "source": [
    "row"
   ]
  },
  {
   "cell_type": "code",
   "execution_count": 33,
   "id": "c883d176-783e-4134-afd3-f2127b4cd7ac",
   "metadata": {},
   "outputs": [],
   "source": [
    "from sqlalchemy.sql import func"
   ]
  },
  {
   "cell_type": "code",
   "execution_count": 34,
   "id": "28f560c1-45b8-49f5-b863-ef07bcb4621d",
   "metadata": {},
   "outputs": [],
   "source": [
    "q = db.select(func.count(table.c.time)).where(table.c.vfr11 == None)"
   ]
  },
  {
   "cell_type": "code",
   "execution_count": 35,
   "id": "3cf549d4-9c45-4b58-99e2-327d0379ce82",
   "metadata": {},
   "outputs": [
    {
     "data": {
      "text/plain": [
       "[(196,)]"
      ]
     },
     "execution_count": 35,
     "metadata": {},
     "output_type": "execute_result"
    }
   ],
   "source": [
    "result = conn.execute(q)\n",
    "row = result.fetchmany(8)\n",
    "row"
   ]
  },
  {
   "cell_type": "markdown",
   "id": "790cc130-0fbf-4a20-a0b7-2e0b6083d2d0",
   "metadata": {},
   "source": [
    "#### So greift man auf einzelne Spalten zu!"
   ]
  },
  {
   "cell_type": "code",
   "execution_count": 36,
   "id": "3b9f2a1a-214e-4fc2-b444-f02bbb2b9eb4",
   "metadata": {},
   "outputs": [],
   "source": [
    "q = db.select(table.c.time, table.c.vfr11)"
   ]
  },
  {
   "cell_type": "code",
   "execution_count": 37,
   "id": "587ad2ae-9d0f-4eec-8d22-92cbde8f2b36",
   "metadata": {},
   "outputs": [],
   "source": [
    "result = conn.execute(q)"
   ]
  },
  {
   "cell_type": "code",
   "execution_count": 38,
   "id": "5e74e89f-7632-476e-a2eb-4c52103465de",
   "metadata": {},
   "outputs": [],
   "source": [
    "row = result.fetchmany(8)"
   ]
  },
  {
   "cell_type": "code",
   "execution_count": 39,
   "id": "a81adbe4-9f69-40ed-b562-64c402658917",
   "metadata": {},
   "outputs": [
    {
     "data": {
      "text/plain": [
       "[('2021-07-27 19:53:00+02:00', 900.0),\n",
       " ('2021-07-27 19:58:00+02:00', 840.0),\n",
       " ('2021-07-27 20:03:00+02:00', 840.0),\n",
       " ('2021-07-27 20:08:00+02:00', 600.0),\n",
       " ('2021-07-27 20:13:00+02:00', 720.0),\n",
       " ('2021-07-27 20:18:00+02:00', 780.0),\n",
       " ('2021-07-27 20:23:00+02:00', 780.0),\n",
       " ('2021-07-27 20:28:00+02:00', 900.0)]"
      ]
     },
     "execution_count": 39,
     "metadata": {},
     "output_type": "execute_result"
    }
   ],
   "source": [
    "row"
   ]
  },
  {
   "cell_type": "markdown",
   "id": "7af953e6-90b1-4878-9ce2-1c5fa2384270",
   "metadata": {},
   "source": [
    "#### Funktionen"
   ]
  },
  {
   "cell_type": "code",
   "execution_count": 40,
   "id": "1ed1b013-6f2c-4113-abc2-a981d86ff972",
   "metadata": {},
   "outputs": [],
   "source": [
    "from sqlalchemy.sql import func"
   ]
  },
  {
   "cell_type": "code",
   "execution_count": 41,
   "id": "8b4fa1f5-b131-416b-a391-0f549e5e321c",
   "metadata": {},
   "outputs": [],
   "source": [
    "q = db.select(func.count(table.c.time))"
   ]
  },
  {
   "cell_type": "code",
   "execution_count": 42,
   "id": "f1b0ac8c-dbd3-4b9f-80ab-97b436c3b853",
   "metadata": {},
   "outputs": [
    {
     "data": {
      "text/plain": [
       "[(170350,)]"
      ]
     },
     "execution_count": 42,
     "metadata": {},
     "output_type": "execute_result"
    }
   ],
   "source": [
    "result = conn.execute(q)\n",
    "row = result.fetchmany(8)\n",
    "row"
   ]
  },
  {
   "cell_type": "code",
   "execution_count": 43,
   "id": "d1c36dd0-134f-43c3-a9e4-01b7ee062e12",
   "metadata": {},
   "outputs": [],
   "source": [
    "q = db.select(func.max(table.c.s12))"
   ]
  },
  {
   "cell_type": "code",
   "execution_count": 44,
   "id": "170beca7-6fab-44e6-998d-47795e1ae286",
   "metadata": {
    "tags": []
   },
   "outputs": [
    {
     "data": {
      "text/plain": [
       "[(144.0,)]"
      ]
     },
     "execution_count": 44,
     "metadata": {},
     "output_type": "execute_result"
    }
   ],
   "source": [
    "result = conn.execute(q)\n",
    "row = result.fetchmany(8)\n",
    "row"
   ]
  },
  {
   "cell_type": "code",
   "execution_count": 45,
   "id": "2fd9d3f6-d8d0-4a53-9374-ecf038131cc4",
   "metadata": {},
   "outputs": [],
   "source": [
    "q = db.select(func.now())"
   ]
  },
  {
   "cell_type": "code",
   "execution_count": 46,
   "id": "6837ba23-20cc-4730-9cb4-c9ff4330b5b1",
   "metadata": {},
   "outputs": [
    {
     "data": {
      "text/plain": [
       "[(datetime.datetime(2022, 7, 19, 8, 58, 10),)]"
      ]
     },
     "execution_count": 46,
     "metadata": {},
     "output_type": "execute_result"
    }
   ],
   "source": [
    "result = conn.execute(q)\n",
    "row = result.fetchmany(8)\n",
    "row"
   ]
  },
  {
   "cell_type": "markdown",
   "id": "87288c7e-0065-495d-af5a-8986424ace6e",
   "metadata": {},
   "source": [
    "#### Try a loop"
   ]
  },
  {
   "cell_type": "code",
   "execution_count": 47,
   "id": "5cbfff69-3e26-4f62-abac-c4fab2a9d074",
   "metadata": {
    "tags": []
   },
   "outputs": [],
   "source": [
    "CountNull = []"
   ]
  },
  {
   "cell_type": "code",
   "execution_count": 48,
   "id": "c093b415-ab93-4e5b-b9a1-4dbb264d269c",
   "metadata": {},
   "outputs": [],
   "source": [
    "for t in tab:\n",
    "    table = db.Table(t, metadata, autoload = True)\n",
    "    q = db.select(func.count(table.c.time))\n",
    "    result = conn.execute(q)\n",
    "    row = result.fetchmany(8)\n",
    "    CountNull.append(row) \n",
    "    q = db.select(func.count(table.c.time)).where(table.c.vfr11 == None)\n",
    "    result = conn.execute(q)\n",
    "    row = result.fetchmany(8)\n",
    "    CountNull.append(row)     \n",
    "    q = db.select(func.count(table.c.time)).where(table.c.s12 > 120)\n",
    "    result = conn.execute(q)\n",
    "    row = result.fetchmany(8)\n",
    "    CountNull.append(row)\n",
    "    q = db.select(func.count(table.c.time)).where(table.c.s22 > 120)\n",
    "    result = conn.execute(q)\n",
    "    row = result.fetchmany(8)\n",
    "    CountNull.append(row) \n",
    "    q = db.select(func.count(table.c.time)).where(table.c.s2 > 120)\n",
    "    result = conn.execute(q)\n",
    "    row = result.fetchmany(8)\n",
    "    CountNull.append(row) "
   ]
  },
  {
   "cell_type": "code",
   "execution_count": 49,
   "id": "367da0fa-f5da-41db-b4b4-bce7ec5b54a4",
   "metadata": {
    "jupyter": {
     "source_hidden": true
    },
    "tags": []
   },
   "outputs": [
    {
     "name": "stdout",
     "output_type": "stream",
     "text": [
      "[[(171367,)], [(20,)], [(4,)], [(0,)], [(0,)], [(171367,)], [(20,)], [(1509,)], [(9,)], [(0,)], [(171367,)], [(20,)], [(5549,)], [(55,)], [(0,)], [(171367,)], [(20,)], [(31600,)], [(24,)], [(0,)], [(171367,)], [(20,)], [(3881,)], [(0,)], [(0,)], [(171367,)], [(20,)], [(1340,)], [(0,)], [(0,)], [(171367,)], [(20,)], [(501,)], [(0,)], [(0,)], [(171367,)], [(20,)], [(13,)], [(0,)], [(0,)], [(170350,)], [(196,)], [(9,)], [(0,)], [(0,)], [(170350,)], [(196,)], [(62,)], [(0,)], [(0,)], [(170350,)], [(196,)], [(44,)], [(4,)], [(0,)], [(170350,)], [(196,)], [(11,)], [(5,)], [(0,)], [(170350,)], [(1304,)], [(5,)], [(10,)], [(0,)], [(170350,)], [(1315,)], [(3,)], [(3,)], [(0,)], [(170350,)], [(20,)], [(84,)], [(6,)], [(0,)], [(170350,)], [(20,)], [(330,)], [(0,)], [(0,)], [(170350,)], [(20,)], [(561,)], [(0,)], [(0,)], [(170350,)], [(20,)], [(1718,)], [(0,)], [(0,)], [(170350,)], [(20,)], [(662,)], [(0,)], [(0,)], [(170350,)], [(20,)], [(196,)], [(0,)], [(0,)], [(170350,)], [(20,)], [(144,)], [(0,)], [(0,)], [(170350,)], [(20,)], [(3,)], [(0,)], [(0,)], [(170350,)], [(109,)], [(50135,)], [(1735,)], [(0,)], [(170350,)], [(318,)], [(87567,)], [(2712,)], [(0,)], [(170350,)], [(185,)], [(2929,)], [(284,)], [(0,)], [(170350,)], [(145,)], [(295,)], [(73,)], [(0,)], [(171367,)], [(861,)], [(2146,)], [(173,)], [(0,)], [(171367,)], [(1036,)], [(9914,)], [(869,)], [(0,)], [(171367,)], [(894,)], [(47870,)], [(2224,)], [(0,)], [(171367,)], [(969,)], [(62078,)], [(2524,)], [(0,)], [(171367,)], [(1139,)], [(12830,)], [(1079,)], [(0,)], [(171367,)], [(1128,)], [(1576,)], [(146,)], [(0,)], [(171367,)], [(52,)], [(283,)], [(0,)], [(0,)], [(171367,)], [(52,)], [(74,)], [(0,)], [(0,)], [(171367,)], [(52,)], [(187,)], [(0,)], [(0,)], [(171367,)], [(52,)], [(352,)], [(3,)], [(0,)], [(171367,)], [(52,)], [(113,)], [(4,)], [(0,)], [(171367,)], [(52,)], [(178,)], [(16,)], [(0,)], [(16334,)], [(2,)], [(0,)], [(0,)], [(0,)], [(16334,)], [(2,)], [(17,)], [(0,)], [(0,)], [(16334,)], [(2,)], [(9,)], [(0,)], [(0,)], [(16334,)], [(2,)], [(80,)], [(0,)], [(0,)], [(16334,)], [(2,)], [(40,)], [(0,)], [(0,)], [(180,)], [(0,)], [(0,)], [(0,)], [(0,)], [(16334,)], [(2,)], [(8,)], [(0,)], [(0,)], [(16334,)], [(2,)], [(44,)], [(0,)], [(0,)], [(155033,)], [(155033,)], [(0,)], [(0,)], [(0,)], [(155033,)], [(155033,)], [(0,)], [(0,)], [(0,)], [(155033,)], [(155033,)], [(0,)], [(0,)], [(0,)], [(155033,)], [(155033,)], [(0,)], [(0,)], [(0,)], [(171367,)], [(540,)], [(3795,)], [(58,)], [(0,)], [(171367,)], [(590,)], [(21472,)], [(30,)], [(0,)], [(171367,)], [(10228,)], [(18188,)], [(114,)], [(0,)], [(171367,)], [(213,)], [(3935,)], [(175,)], [(0,)], [(170350,)], [(308,)], [(83,)], [(43,)], [(0,)], [(170350,)], [(54286,)], [(54,)], [(53,)], [(0,)], [(170350,)], [(893,)], [(197,)], [(6,)], [(0,)], [(170350,)], [(30547,)], [(2176,)], [(62,)], [(0,)], [(170350,)], [(383,)], [(519,)], [(58,)], [(0,)], [(170350,)], [(447,)], [(0,)], [(54,)], [(0,)], [(170350,)], [(455,)], [(6,)], [(64,)], [(0,)], [(170350,)], [(47,)], [(1,)], [(6,)], [(0,)], [(170350,)], [(509,)], [(1,)], [(48,)], [(0,)], [(171367,)], [(428,)], [(11,)], [(0,)], [(0,)], [(171367,)], [(428,)], [(107,)], [(0,)], [(0,)], [(171367,)], [(428,)], [(72,)], [(1,)], [(0,)], [(171367,)], [(428,)], [(9,)], [(13,)], [(0,)], [(171367,)], [(59,)], [(0,)], [(11,)], [(0,)], [(171367,)], [(361,)], [(1,)], [(31,)], [(0,)], [(171367,)], [(309,)], [(0,)], [(45,)], [(0,)], [(171367,)], [(18,)], [(0,)], [(2,)], [(0,)], [(171367,)], [(87,)], [(1,)], [(32,)], [(0,)], [(171367,)], [(25,)], [(0,)], [(14,)], [(0,)], [(171367,)], [(217,)], [(1,)], [(48,)], [(0,)], [(171367,)], [(431,)], [(4,)], [(36,)], [(0,)]]\n"
     ]
    }
   ],
   "source": [
    "print(CountNull)"
   ]
  },
  {
   "cell_type": "markdown",
   "id": "9b4786f6-19fc-4a09-bfb2-f08c5e85386a",
   "metadata": {},
   "source": [
    "#### Das folgende wäre eine Basis dafür, Reihen zu löschen"
   ]
  },
  {
   "cell_type": "code",
   "execution_count": null,
   "id": "53da2f6b-348c-4127-a8a4-8d6d6b7c8f4d",
   "metadata": {},
   "outputs": [],
   "source": [
    "conn.execute(users.delete().where(users.c.name > 'm'))"
   ]
  },
  {
   "cell_type": "markdown",
   "id": "1f51d9c8-21b3-4ea9-8878-285178699887",
   "metadata": {},
   "source": [
    "#### Konjunktionen + Sortierung"
   ]
  },
  {
   "cell_type": "code",
   "execution_count": 51,
   "id": "5d70b90b-fc3a-43eb-b2df-e003da4e0b62",
   "metadata": {},
   "outputs": [],
   "source": [
    "from sqlalchemy import and_ , asc"
   ]
  },
  {
   "cell_type": "code",
   "execution_count": 52,
   "id": "b8c056ef-fe8f-4f43-be07-ba1adf57720d",
   "metadata": {},
   "outputs": [],
   "source": [
    "q = db.select(table).where(and_(table.c.vfr11 == 1440, table.c.s12 > 75)).order_by(asc(table.c.s12))"
   ]
  },
  {
   "cell_type": "code",
   "execution_count": 53,
   "id": "fbc6eaec-ad84-4e9d-940c-c3ec458fc52f",
   "metadata": {},
   "outputs": [
    {
     "data": {
      "text/plain": [
       "[]"
      ]
     },
     "execution_count": 53,
     "metadata": {},
     "output_type": "execute_result"
    }
   ],
   "source": [
    "result = conn.execute(q)\n",
    "row = result.fetchmany(20)\n",
    "row"
   ]
  },
  {
   "cell_type": "markdown",
   "id": "9e15fdef-621e-43c8-bfdf-a598d0e4e6a1",
   "metadata": {},
   "source": [
    "#### Gruppierung"
   ]
  },
  {
   "cell_type": "code",
   "execution_count": 54,
   "id": "5d0d1b28-63ab-406c-962b-8016c523f6df",
   "metadata": {},
   "outputs": [],
   "source": [
    "q = db.select(table).where(and_(table.c.s12 >= 85)).group_by(table.c.vfr11)"
   ]
  },
  {
   "cell_type": "code",
   "execution_count": 55,
   "id": "7fdf0c00-4c31-4950-9bcd-f670fb851d3b",
   "metadata": {},
   "outputs": [
    {
     "data": {
      "text/plain": [
       "[('2021-07-28 02:28:00+02:00', 60.0, 88.0, 0.0, 0.0, 0.0, 0.0),\n",
       " ('2021-08-04 07:16:00+02:00', 120.0, 92.0, 0.0, 0.0, 0.0, 0.0),\n",
       " ('2021-09-02 18:48:00+02:00', 180.0, 85.0, 0.0, 0.0, 0.0, 0.0)]"
      ]
     },
     "execution_count": 55,
     "metadata": {},
     "output_type": "execute_result"
    }
   ],
   "source": [
    "result = conn.execute(q)\n",
    "row = result.fetchmany(30)\n",
    "row"
   ]
  },
  {
   "cell_type": "code",
   "execution_count": null,
   "id": "c8f70961-0803-4c06-ace0-4e2469b85fe3",
   "metadata": {},
   "outputs": [],
   "source": []
  },
  {
   "cell_type": "code",
   "execution_count": 56,
   "id": "54fc607b-7b09-46e7-b55c-01b64387b241",
   "metadata": {},
   "outputs": [],
   "source": [
    "df = pd.read_sql_query(q, conn)"
   ]
  },
  {
   "cell_type": "code",
   "execution_count": 57,
   "id": "3fe68c2a-bf58-4ca4-9343-fa8989fa91c2",
   "metadata": {},
   "outputs": [
    {
     "data": {
      "text/html": [
       "<div>\n",
       "<style scoped>\n",
       "    .dataframe tbody tr th:only-of-type {\n",
       "        vertical-align: middle;\n",
       "    }\n",
       "\n",
       "    .dataframe tbody tr th {\n",
       "        vertical-align: top;\n",
       "    }\n",
       "\n",
       "    .dataframe thead th {\n",
       "        text-align: right;\n",
       "    }\n",
       "</style>\n",
       "<table border=\"1\" class=\"dataframe\">\n",
       "  <thead>\n",
       "    <tr style=\"text-align: right;\">\n",
       "      <th></th>\n",
       "      <th>time</th>\n",
       "      <th>vfr11</th>\n",
       "      <th>s12</th>\n",
       "      <th>vfr21</th>\n",
       "      <th>s22</th>\n",
       "      <th>vfr1</th>\n",
       "      <th>s2</th>\n",
       "    </tr>\n",
       "  </thead>\n",
       "  <tbody>\n",
       "    <tr>\n",
       "      <th>0</th>\n",
       "      <td>2021-07-28 02:28:00+02:00</td>\n",
       "      <td>60.0</td>\n",
       "      <td>88.0</td>\n",
       "      <td>0.0</td>\n",
       "      <td>0.0</td>\n",
       "      <td>0.0</td>\n",
       "      <td>0.0</td>\n",
       "    </tr>\n",
       "    <tr>\n",
       "      <th>1</th>\n",
       "      <td>2021-08-04 07:16:00+02:00</td>\n",
       "      <td>120.0</td>\n",
       "      <td>92.0</td>\n",
       "      <td>0.0</td>\n",
       "      <td>0.0</td>\n",
       "      <td>0.0</td>\n",
       "      <td>0.0</td>\n",
       "    </tr>\n",
       "    <tr>\n",
       "      <th>2</th>\n",
       "      <td>2021-09-02 18:48:00+02:00</td>\n",
       "      <td>180.0</td>\n",
       "      <td>85.0</td>\n",
       "      <td>0.0</td>\n",
       "      <td>0.0</td>\n",
       "      <td>0.0</td>\n",
       "      <td>0.0</td>\n",
       "    </tr>\n",
       "  </tbody>\n",
       "</table>\n",
       "</div>"
      ],
      "text/plain": [
       "                        time  vfr11   s12  vfr21  s22  vfr1   s2\n",
       "0  2021-07-28 02:28:00+02:00   60.0  88.0    0.0  0.0   0.0  0.0\n",
       "1  2021-08-04 07:16:00+02:00  120.0  92.0    0.0  0.0   0.0  0.0\n",
       "2  2021-09-02 18:48:00+02:00  180.0  85.0    0.0  0.0   0.0  0.0"
      ]
     },
     "execution_count": 57,
     "metadata": {},
     "output_type": "execute_result"
    }
   ],
   "source": [
    "df.head(10)"
   ]
  },
  {
   "cell_type": "code",
   "execution_count": null,
   "id": "23421db2-354d-4449-b704-5d3bd7558bc5",
   "metadata": {},
   "outputs": [],
   "source": []
  },
  {
   "cell_type": "code",
   "execution_count": null,
   "id": "632f065f-5291-4095-b52b-82ede77bb9bf",
   "metadata": {},
   "outputs": [],
   "source": []
  },
  {
   "cell_type": "code",
   "execution_count": null,
   "id": "64a05436-5459-41bc-877d-d16f20537452",
   "metadata": {},
   "outputs": [],
   "source": []
  },
  {
   "cell_type": "code",
   "execution_count": null,
   "id": "b4e784b4-67ce-4190-bb3d-89653054a26b",
   "metadata": {},
   "outputs": [],
   "source": []
  },
  {
   "cell_type": "markdown",
   "id": "0921c813-5e25-4b10-bad4-d0dee93ad1c7",
   "metadata": {},
   "source": [
    "#### Ab hier folgen Abfragen in normalem SQL"
   ]
  },
  {
   "cell_type": "code",
   "execution_count": 58,
   "id": "cd47cda9-0d41-42a1-8b5c-c447d9cd18d4",
   "metadata": {
    "tags": []
   },
   "outputs": [],
   "source": [
    "query ='''\n",
    "SELECT  *, strftime('%Y', time, 'localtime') as Year, strftime('%m', time, 'localtime') as Month, strftime('%d', time, 'localtime') as Day, COUNT(time) as Anzahl\n",
    "FROM tcdata_CH_0084_01\n",
    "GROUP BY Year, Month\n",
    " '''"
   ]
  },
  {
   "cell_type": "code",
   "execution_count": null,
   "id": "6acec022-e54a-4819-b8be-ec62b717d188",
   "metadata": {},
   "outputs": [],
   "source": [
    "df = pd.read_sql_query(query, conn)"
   ]
  },
  {
   "cell_type": "code",
   "execution_count": null,
   "id": "2af67d57-bb47-48c3-bc43-fa993d5b724c",
   "metadata": {
    "tags": []
   },
   "outputs": [],
   "source": [
    "df.head(10)"
   ]
  },
  {
   "cell_type": "markdown",
   "id": "bcd4d6e5-53a1-4968-8f6c-3a27052d7ed2",
   "metadata": {
    "tags": []
   },
   "source": [
    "### Abfrage 2 - Anzahl Datenpunkte mit Verkehrfluss vfr11"
   ]
  },
  {
   "cell_type": "code",
   "execution_count": null,
   "id": "af7b8ffb-b2a6-4f1a-a28e-516372e8ff8a",
   "metadata": {
    "tags": []
   },
   "outputs": [],
   "source": [
    "query ='''\n",
    "SELECT  strftime('%Y', time, 'localtime') as Year, strftime('%m', time, 'localtime') as Month, strftime('%d', time, 'localtime') as Day, COUNT(time) as Anzahl\n",
    "FROM tcdata_CH_0084_01\n",
    "WHERE vfr11 > 0\n",
    "GROUP BY Year, Month\n",
    " '''"
   ]
  },
  {
   "cell_type": "code",
   "execution_count": null,
   "id": "669f3908-abbd-4bda-956c-112a9bf88adb",
   "metadata": {},
   "outputs": [],
   "source": [
    "df = pd.read_sql_query(query, conn)"
   ]
  },
  {
   "cell_type": "code",
   "execution_count": null,
   "id": "8ec899be-6eb4-4f56-9fc4-6e9e61e0ab30",
   "metadata": {
    "tags": []
   },
   "outputs": [],
   "source": [
    "df.head(10)"
   ]
  },
  {
   "cell_type": "code",
   "execution_count": null,
   "id": "8739fc9b-35de-4dda-833c-b0e76a394a27",
   "metadata": {
    "tags": []
   },
   "outputs": [],
   "source": [
    "query ='''\n",
    "SELECT  strftime('%Y', time, 'localtime') as Year, strftime('%m', time, 'localtime') as Month, strftime('%d', time, 'localtime') as Day, COUNT(time) as Anzahl\n",
    "FROM tcdata_CH_0084_01\n",
    "WHERE vfr11 IS NULL\n",
    "GROUP BY Year, Month\n",
    " '''"
   ]
  },
  {
   "cell_type": "code",
   "execution_count": null,
   "id": "0611eb7c-9f0a-41b6-810e-2c17a659cbb9",
   "metadata": {},
   "outputs": [],
   "source": [
    "df = pd.read_sql_query(query, conn)"
   ]
  },
  {
   "cell_type": "code",
   "execution_count": null,
   "id": "7a93a517-46b3-4643-8168-5b856585659f",
   "metadata": {
    "tags": []
   },
   "outputs": [],
   "source": [
    "df.head(10)"
   ]
  },
  {
   "cell_type": "code",
   "execution_count": null,
   "id": "cce8657f-f08d-4a35-ae35-70523e68d3e2",
   "metadata": {
    "tags": []
   },
   "outputs": [],
   "source": [
    "query ='''\n",
    "SELECT  strftime('%Y', time, 'localtime') as Year, strftime('%m', time, 'localtime') as Month, strftime('%d', time, 'localtime') as Day, COUNT(time) as Anzahl\n",
    "FROM tcdata_CH_0084_01\n",
    "WHERE vfr11 = 0\n",
    "GROUP BY Year, Month\n",
    " '''"
   ]
  },
  {
   "cell_type": "code",
   "execution_count": null,
   "id": "4f48e238-1530-4e5b-af50-5cd646d0d718",
   "metadata": {},
   "outputs": [],
   "source": [
    "df = pd.read_sql_query(query, conn)"
   ]
  },
  {
   "cell_type": "code",
   "execution_count": null,
   "id": "24ee50ae-d4cf-48d0-8adb-92fe0a73f6fe",
   "metadata": {},
   "outputs": [],
   "source": [
    "df.head(10)"
   ]
  },
  {
   "cell_type": "markdown",
   "id": "a365afd6-2bf2-4d14-b43e-cbefb2736888",
   "metadata": {
    "tags": []
   },
   "source": [
    "### Abfrage 3 - Anzahl Datenpunkte mit Verkehrfluss vfr21"
   ]
  },
  {
   "cell_type": "code",
   "execution_count": null,
   "id": "91dc1cf4-d65b-4194-8120-8b2295a014ea",
   "metadata": {
    "tags": []
   },
   "outputs": [],
   "source": [
    "query ='''\n",
    "SELECT  strftime('%Y', time, 'localtime') as Year, strftime('%m', time, 'localtime') as Month, strftime('%d', time, 'localtime') as Day, COUNT(time) as Anzahl\n",
    "FROM tcdata_CH_0084_01\n",
    "WHERE vfr21 > 0\n",
    "GROUP BY Year, Month\n",
    " '''"
   ]
  },
  {
   "cell_type": "code",
   "execution_count": null,
   "id": "a3fb8b61-669f-4658-a066-29e825fb1e69",
   "metadata": {},
   "outputs": [],
   "source": [
    "df = pd.read_sql_query(query, conn)"
   ]
  },
  {
   "cell_type": "code",
   "execution_count": null,
   "id": "84ace9c6-2361-4731-bc35-09533b3e7fe9",
   "metadata": {
    "tags": []
   },
   "outputs": [],
   "source": [
    "df.head(10)"
   ]
  },
  {
   "cell_type": "code",
   "execution_count": null,
   "id": "cc67b309-67fb-4bb5-9e23-52bc26b25900",
   "metadata": {
    "tags": []
   },
   "outputs": [],
   "source": [
    "query ='''\n",
    "SELECT  strftime('%Y', time, 'localtime') as Year, strftime('%m', time, 'localtime') as Month, strftime('%d', time, 'localtime') as Day, COUNT(time) as Anzahl\n",
    "FROM tcdata_CH_0084_01\n",
    "WHERE vfr21 IS NULL\n",
    "GROUP BY Year, Month\n",
    " '''"
   ]
  },
  {
   "cell_type": "code",
   "execution_count": null,
   "id": "844c5eaa-7a00-4db5-a0b6-cf9a6de13186",
   "metadata": {},
   "outputs": [],
   "source": [
    "df = pd.read_sql_query(query, conn)"
   ]
  },
  {
   "cell_type": "code",
   "execution_count": null,
   "id": "7ab6bd9c-73ce-47e2-b29a-8d84dce900fa",
   "metadata": {
    "tags": []
   },
   "outputs": [],
   "source": [
    "df.head(10)"
   ]
  },
  {
   "cell_type": "code",
   "execution_count": null,
   "id": "4379e288-5c51-4ac0-bc02-99ee7a9ca23b",
   "metadata": {
    "tags": []
   },
   "outputs": [],
   "source": [
    "query ='''\n",
    "SELECT  strftime('%Y', time, 'localtime') as Year, strftime('%m', time, 'localtime') as Month, strftime('%d', time, 'localtime') as Day, COUNT(time) as Anzahl\n",
    "FROM tcdata_CH_0084_01\n",
    "WHERE vfr21 = 0\n",
    "GROUP BY Year, Month\n",
    " '''"
   ]
  },
  {
   "cell_type": "code",
   "execution_count": null,
   "id": "90393d57-82d4-4d6b-ac86-467bd63e112d",
   "metadata": {},
   "outputs": [],
   "source": [
    "df = pd.read_sql_query(query, conn)"
   ]
  },
  {
   "cell_type": "code",
   "execution_count": null,
   "id": "8889eb1a-cdf4-45c6-80c4-c8b93ab5c2d4",
   "metadata": {},
   "outputs": [],
   "source": [
    "df.head(10)"
   ]
  },
  {
   "cell_type": "markdown",
   "id": "c35f89d3-4d7f-42e0-bf8d-120b45722d8f",
   "metadata": {
    "tags": []
   },
   "source": [
    "### Abfrage 4 - Anzahl Datenpunkte mit Verkehrfluss vfr1"
   ]
  },
  {
   "cell_type": "code",
   "execution_count": null,
   "id": "4f488397-3d1b-43c0-b5ab-94f4c04c9736",
   "metadata": {
    "tags": []
   },
   "outputs": [],
   "source": [
    "query ='''\n",
    "SELECT  strftime('%Y', time, 'localtime') as Year, strftime('%m', time, 'localtime') as Month, strftime('%d', time, 'localtime') as Day, COUNT(time) as Anzahl\n",
    "FROM tcdata_CH_0084_01\n",
    "WHERE vfr1 > 0\n",
    "GROUP BY Year, Month\n",
    " '''"
   ]
  },
  {
   "cell_type": "code",
   "execution_count": null,
   "id": "3d31148c-fd9e-4d74-84c9-3012614363b8",
   "metadata": {},
   "outputs": [],
   "source": [
    "df = pd.read_sql_query(query, conn)"
   ]
  },
  {
   "cell_type": "code",
   "execution_count": null,
   "id": "2c0e89ff-a95a-4835-b4d2-84e0f89a970e",
   "metadata": {
    "tags": []
   },
   "outputs": [],
   "source": [
    "df.head(10)"
   ]
  },
  {
   "cell_type": "code",
   "execution_count": null,
   "id": "b0bfcf00-304a-4fed-94bb-561fc18904e8",
   "metadata": {
    "tags": []
   },
   "outputs": [],
   "source": [
    "query ='''\n",
    "SELECT  strftime('%Y', time, 'localtime') as Year, strftime('%m', time, 'localtime') as Month, strftime('%d', time, 'localtime') as Day, COUNT(time) as Anzahl\n",
    "FROM tcdata_CH_0084_01\n",
    "WHERE vfr1 IS NULL\n",
    "GROUP BY Year, Month\n",
    " '''"
   ]
  },
  {
   "cell_type": "code",
   "execution_count": null,
   "id": "464591b4-5afd-4cbc-b6b4-da9a8c047083",
   "metadata": {},
   "outputs": [],
   "source": [
    "df = pd.read_sql_query(query, conn)"
   ]
  },
  {
   "cell_type": "code",
   "execution_count": null,
   "id": "bbe94e17-20c5-4402-a187-c304017b491e",
   "metadata": {
    "tags": []
   },
   "outputs": [],
   "source": [
    "df.head(10)"
   ]
  },
  {
   "cell_type": "code",
   "execution_count": null,
   "id": "986539d1-1dea-418c-9575-55a012bd5ccb",
   "metadata": {
    "tags": []
   },
   "outputs": [],
   "source": [
    "query ='''\n",
    "SELECT  strftime('%Y', time, 'localtime') as Year, strftime('%m', time, 'localtime') as Month, strftime('%d', time, 'localtime') as Day, COUNT(time) as Anzahl\n",
    "FROM tcdata_CH_0084_01\n",
    "WHERE vfr1 = 0\n",
    "GROUP BY Year, Month\n",
    " '''"
   ]
  },
  {
   "cell_type": "code",
   "execution_count": null,
   "id": "a87ccdcb-6fdf-45fc-ac81-c282636760b6",
   "metadata": {},
   "outputs": [],
   "source": [
    "df = pd.read_sql_query(query, conn)"
   ]
  },
  {
   "cell_type": "code",
   "execution_count": null,
   "id": "09e29638-77e6-4d77-b466-5d219c8e103c",
   "metadata": {},
   "outputs": [],
   "source": [
    "df.head(10)"
   ]
  },
  {
   "cell_type": "markdown",
   "id": "c7b35c99-3a5f-41d5-8b5f-dda1adb8fc56",
   "metadata": {},
   "source": [
    "### Dh es gibt für diesen Fahrzeugtyp keine Daten von \"anderen Fahrzeugen\""
   ]
  },
  {
   "cell_type": "code",
   "execution_count": null,
   "id": "7ff8f770-f2d2-4fc8-8f29-8a2ec2a163f8",
   "metadata": {},
   "outputs": [],
   "source": []
  },
  {
   "cell_type": "markdown",
   "id": "388ec156-f6b0-43d9-9144-6813db335cd0",
   "metadata": {},
   "source": [
    "### Nun zu statistischen Werten (zunächst mit 0 und NULL)"
   ]
  },
  {
   "cell_type": "code",
   "execution_count": null,
   "id": "e241d479-7736-406c-b581-5df480e13f43",
   "metadata": {
    "tags": []
   },
   "outputs": [],
   "source": [
    "query ='''\n",
    "SELECT  strftime('%Y', time, 'localtime') as Year, strftime('%m', time, 'localtime') as Month, strftime('%d', time, 'localtime') as Day, COUNT(time) as Anzahl,\n",
    "       ROUND(AVG(vfr11), 1) AS MEAN_Flow,\n",
    "       MAX(vfr11) AS MAX_FLOW,\n",
    "       MIN(vfr11) AS MIN_FLOW,\n",
    "       ROUND(AVG(s12), 1) AS MEAN_Speed,\n",
    "       MAX(s12) AS MAX_Speed,\n",
    "       MIN(s12) AS MIN_Speed   \n",
    "FROM tcdata_CH_0084_01\n",
    "GROUP BY Year, Month\n",
    " '''"
   ]
  },
  {
   "cell_type": "code",
   "execution_count": null,
   "id": "f9855d07-2471-42c7-a7f6-67f2f9286722",
   "metadata": {},
   "outputs": [],
   "source": [
    "df = pd.read_sql_query(query, conn)"
   ]
  },
  {
   "cell_type": "code",
   "execution_count": null,
   "id": "b6c0ec50-9408-4f8f-a5d4-cbfce228eef5",
   "metadata": {
    "tags": []
   },
   "outputs": [],
   "source": [
    "df.head(10)"
   ]
  },
  {
   "cell_type": "markdown",
   "id": "8b106c64-b7e0-48a2-a07c-93c95925f325",
   "metadata": {},
   "source": [
    "### ...dann bereinigt!"
   ]
  },
  {
   "cell_type": "code",
   "execution_count": null,
   "id": "ae02a1b9-ef3a-4b49-9d6c-5139e1060222",
   "metadata": {
    "tags": []
   },
   "outputs": [],
   "source": [
    "query ='''\n",
    "SELECT  strftime('%Y', time, 'localtime') as Year, strftime('%m', time, 'localtime') as Month, strftime('%d', time, 'localtime') as Day, COUNT(time) as Anzahl,\n",
    "       ROUND(AVG(vfr11), 1) AS MEAN_Flow,\n",
    "       MAX(vfr11) AS MAX_FLOW,\n",
    "       MIN(vfr11) AS MIN_FLOW,\n",
    "       ROUND(AVG(s12), 1) AS MEAN_Speed,\n",
    "       MAX(s12) AS MAX_Speed,\n",
    "       MIN(s12) AS MIN_Speed   \n",
    "FROM tcdata_CH_0084_01\n",
    "WHERE vfr11 > 0\n",
    "GROUP BY Year, Month\n",
    " '''"
   ]
  },
  {
   "cell_type": "code",
   "execution_count": null,
   "id": "fff61839-d840-4e3e-97ac-ae84207dcd32",
   "metadata": {},
   "outputs": [],
   "source": [
    "df = pd.read_sql_query(query, conn)"
   ]
  },
  {
   "cell_type": "code",
   "execution_count": null,
   "id": "d73d1d4d-079f-4608-826a-c76a04956636",
   "metadata": {
    "tags": []
   },
   "outputs": [],
   "source": [
    "df.head(10)"
   ]
  },
  {
   "cell_type": "markdown",
   "id": "05955952-0084-454c-a35b-cf47f4828369",
   "metadata": {},
   "source": [
    "### Weitere Detaillierung nach Tag"
   ]
  },
  {
   "cell_type": "code",
   "execution_count": null,
   "id": "b8736a6c-a0ba-4b5e-8e94-29fe3f197ca7",
   "metadata": {
    "tags": []
   },
   "outputs": [],
   "source": [
    "query ='''\n",
    "SELECT  strftime('%Y', time, 'localtime') as Year, strftime('%m', time, 'localtime') as Month, strftime('%d', time, 'localtime') as Day, COUNT(time) as Anzahl,\n",
    "       ROUND(AVG(vfr11), 1) AS MEAN_Flow,\n",
    "       MAX(vfr11) AS MAX_FLOW,\n",
    "       MIN(vfr11) AS MIN_FLOW,\n",
    "       ROUND(AVG(s12), 1) AS MEAN_Speed,\n",
    "       MAX(s12) AS MAX_Speed,\n",
    "       MIN(s12) AS MIN_Speed   \n",
    "FROM tcdata_CH_0084_01\n",
    "WHERE vfr11 > 0\n",
    "GROUP BY Year, Month, Day\n",
    " '''"
   ]
  },
  {
   "cell_type": "code",
   "execution_count": null,
   "id": "57fab148-1771-4ea8-b058-4c9480daed80",
   "metadata": {},
   "outputs": [],
   "source": [
    "df = pd.read_sql_query(query, conn)"
   ]
  },
  {
   "cell_type": "code",
   "execution_count": null,
   "id": "5ca4f91b-6bfc-4989-8dca-eb50088064f3",
   "metadata": {
    "tags": []
   },
   "outputs": [],
   "source": [
    "df.head(1000)"
   ]
  },
  {
   "cell_type": "markdown",
   "id": "a2bf2086-0ab6-4097-947e-e442a5940386",
   "metadata": {},
   "source": [
    "### Wechsel auf Analyse nach Wochentag"
   ]
  },
  {
   "cell_type": "code",
   "execution_count": null,
   "id": "c29fa540-0b34-4a7b-aa4d-4180652a2d0c",
   "metadata": {
    "tags": []
   },
   "outputs": [],
   "source": [
    "query ='''\n",
    "SELECT  strftime('%w', time, 'localtime') as Weekday, strftime('%Y', time, 'localtime') as Year, strftime('%m', time, 'localtime') as Month, strftime('%d', time, 'localtime') as Day, COUNT(time) as Anzahl,\n",
    "       ROUND(AVG(vfr11), 1) AS MEAN_Flow,\n",
    "       MAX(vfr11) AS MAX_FLOW,\n",
    "       MIN(vfr11) AS MIN_FLOW,\n",
    "       ROUND(AVG(s12), 1) AS MEAN_Speed,\n",
    "       MAX(s12) AS MAX_Speed,\n",
    "       MIN(s12) AS MIN_Speed   \n",
    "FROM tcdata_CH_0084_01\n",
    "WHERE vfr11 > 0\n",
    "GROUP BY strftime('%w', time, 'localtime') \n",
    " '''"
   ]
  },
  {
   "cell_type": "code",
   "execution_count": null,
   "id": "90841d37-26d6-4f5c-b5d3-5f5b4277eecd",
   "metadata": {},
   "outputs": [],
   "source": [
    "df = pd.read_sql_query(query, conn)"
   ]
  },
  {
   "cell_type": "code",
   "execution_count": null,
   "id": "a67465f4-ff72-48e2-8062-d8e536d77224",
   "metadata": {
    "tags": []
   },
   "outputs": [],
   "source": [
    "df.head(10)"
   ]
  },
  {
   "cell_type": "code",
   "execution_count": null,
   "id": "983dc946-ac96-4cd3-a721-728e829ba4de",
   "metadata": {},
   "outputs": [],
   "source": []
  },
  {
   "cell_type": "code",
   "execution_count": null,
   "id": "0deee849-4133-426d-84d0-463efc175bd7",
   "metadata": {
    "tags": []
   },
   "outputs": [],
   "source": [
    "query ='''\n",
    "SELECT  strftime('%H', time, 'localtime') as Hour, strftime('%Y', time, 'localtime') as Year, strftime('%m', time, 'localtime') as Month, strftime('%d', time, 'localtime') as Day, COUNT(time) as Anzahl,\n",
    "       ROUND(AVG(vfr11), 1) AS MEAN_Flow,\n",
    "       MAX(vfr11) AS MAX_FLOW,\n",
    "       MIN(vfr11) AS MIN_FLOW,\n",
    "       ROUND(AVG(s12), 1) AS MEAN_Speed,\n",
    "       MAX(s12) AS MAX_Speed,\n",
    "       MIN(s12) AS MIN_Speed   \n",
    "FROM tcdata_CH_0084_01\n",
    "WHERE vfr11 > 0\n",
    "GROUP BY strftime('%H', time, 'localtime') \n",
    " '''"
   ]
  },
  {
   "cell_type": "code",
   "execution_count": null,
   "id": "6bb628ca-20fb-46b0-aaab-7068223b58c4",
   "metadata": {},
   "outputs": [],
   "source": [
    "df = pd.read_sql_query(query, conn)"
   ]
  },
  {
   "cell_type": "code",
   "execution_count": null,
   "id": "2d10f907-74cb-4a65-a921-11b271523b08",
   "metadata": {
    "tags": []
   },
   "outputs": [],
   "source": [
    "df.head(24)"
   ]
  },
  {
   "cell_type": "code",
   "execution_count": null,
   "id": "0ce70dff-be22-4112-9202-95df933a3996",
   "metadata": {},
   "outputs": [],
   "source": [
    "df.to_excel('84_01_hours.xls')"
   ]
  },
  {
   "cell_type": "code",
   "execution_count": null,
   "id": "b101b7ed-dde0-415e-9747-9a03dd2a9386",
   "metadata": {},
   "outputs": [],
   "source": []
  }
 ],
 "metadata": {
  "kernelspec": {
   "display_name": "Python 3 (ipykernel)",
   "language": "python",
   "name": "python3"
  },
  "language_info": {
   "codemirror_mode": {
    "name": "ipython",
    "version": 3
   },
   "file_extension": ".py",
   "mimetype": "text/x-python",
   "name": "python",
   "nbconvert_exporter": "python",
   "pygments_lexer": "ipython3",
   "version": "3.8.5"
  }
 },
 "nbformat": 4,
 "nbformat_minor": 5
}
