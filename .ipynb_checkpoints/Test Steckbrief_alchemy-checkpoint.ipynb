{
 "cells": [
  {
   "cell_type": "markdown",
   "id": "78d98513",
   "metadata": {},
   "source": [
    "### Qualitätskontrolle \n",
    "<ul>\n",
    " <li>Dataframe über Monate, Wochen, Tage mit:</li>\n",
    " <li>Anzahl Messpunkte, Anzahl vfr=0, Aufteilung Fahrzeug, Durchschnitte, Verteilung vfr + sp nach Bereichen, </li>\n",
    " <li></li>\n",
    " <li></li>\n",
    " <li></li>\n",
    "</ul>"
   ]
  },
  {
   "cell_type": "markdown",
   "id": "56896fb7",
   "metadata": {},
   "source": [
    "\n",
    "### Fragen Steckbrief:\n",
    "\n",
    "<ol>\n",
    " <li>Wieviel Verkehr fliesst zu welcher Stunde?</li>\n",
    " <li>Wieviel Verkehr fliesst an welchem Tag?</li>\n",
    " <li>Was passiert an SA, SO oder Feiertagen?</li>\n",
    " <li>Zu jeder dieser Fragen noch die Geschwindigkeit mit hinzu nehmen!</li> \n",
    "</ol>\n",
    "<ul>\n",
    " <li>Bem.: Aufteilung nach Art des Fahrzeugs nur als Ergänzung</li>\n",
    " <li>Bem.: MIN nur interessant für Identifikation Stau!</li>\n",
    " <li>Bem.: MAX evtl. interessant als FunFact!</li>\n",
    " <li>Bem.: Entscheiden, wie Null-Werte in die Doku einfliessen</li>\n",
    " <li></li>\n",
    "</ul>"
   ]
  },
  {
   "cell_type": "markdown",
   "id": "2a69fc37",
   "metadata": {
    "jp-MarkdownHeadingCollapsed": true,
    "tags": []
   },
   "source": [
    "### Darstellung\n",
    "<ul>\n",
    " <li>Wann Tabelle, wann Grafik?</li>\n",
    " <li>Tabelle für Durchschnitte</li>\n",
    " <li>Violin-Charts, \"Uhrzeiger\" für Verteilung über den Tag</li>\n",
    " <li>Matrix (Wochentag, Stunde) mit Punkten</li>\n",
    " <li></li>\n",
    "</ul>"
   ]
  },
  {
   "cell_type": "markdown",
   "id": "0a57bff0",
   "metadata": {},
   "source": [
    "### Benötigte Auswertungen\n",
    "<ul>\n",
    " <li>Möglichkeit eine Zeitreihe mit einer bestimmten Frequenz abzufragen bzw. darzustellen...</li>\n",
    " <li>...zB exakter Wert der Minute oder Durchschnitt einer Stunde</li>\n",
    " <li>JOINS über mehrere Fahrspuren</li>\n",
    " <li>Ggf JOINS über mehrere Zähler</li>\n",
    " <li></li>\n",
    "</ul>"
   ]
  },
  {
   "cell_type": "code",
   "execution_count": null,
   "id": "7517e052",
   "metadata": {},
   "outputs": [],
   "source": []
  },
  {
   "cell_type": "markdown",
   "id": "b2fb6b48",
   "metadata": {},
   "source": [
    "!pip install sqlalchemy"
   ]
  },
  {
   "cell_type": "markdown",
   "id": "c47a6ae5",
   "metadata": {},
   "source": [
    "!pip install plotly"
   ]
  },
  {
   "cell_type": "code",
   "execution_count": 34,
   "id": "ee7bb7f1",
   "metadata": {
    "tags": []
   },
   "outputs": [],
   "source": [
    "import sqlalchemy as db\n",
    "from sqlalchemy import create_engine\n",
    "from sqlalchemy import func"
   ]
  },
  {
   "cell_type": "code",
   "execution_count": 4,
   "id": "78021bc4",
   "metadata": {},
   "outputs": [
    {
     "data": {
      "text/plain": [
       "'C:\\\\Users\\\\peter\\\\Coding\\\\Jupyter'"
      ]
     },
     "execution_count": 4,
     "metadata": {},
     "output_type": "execute_result"
    }
   ],
   "source": [
    "%pwd"
   ]
  },
  {
   "cell_type": "code",
   "execution_count": 5,
   "id": "cce00871",
   "metadata": {},
   "outputs": [
    {
     "name": "stdout",
     "output_type": "stream",
     "text": [
      " Datentr„ger in Laufwerk C: ist Acer\n",
      " Volumeseriennummer: DA58-5121\n",
      "\n",
      " Verzeichnis von C:\\Users\\peter\\Coding\\Jupyter\n",
      "\n",
      "09.03.2022  11:33    <DIR>          .\n",
      "07.03.2022  08:55    <DIR>          ..\n",
      "07.03.2022  08:55    <DIR>          .ipynb_checkpoints\n",
      "17.05.2021  14:45           884'736 chinook.db\n",
      "25.02.2022  19:21         2'590'146 country_indicators.csv\n",
      "25.02.2022  19:31             3'650 DASH_test.ipynb\n",
      "08.03.2022  10:46           103'594 EDA_Stau.ipynb\n",
      "25.02.2022  19:27            24'992 getting_started.ipynb\n",
      "05.03.2022  09:40           271'098 Jupyter_Notebook_CheatSheet_Edureka.pdf\n",
      "18.02.2022  15:54             6'907 SQL_Alchemy.ipynb\n",
      "03.03.2022  09:50            25'449 SQLalchemy_test.ipynb\n",
      "09.03.2022  10:53            49'113 SQLalchemy_test2.ipynb\n",
      "09.03.2022  11:33            26'315 Steckbrief_tc.ipynb\n",
      "01.03.2022  13:14             2'284 Sys_path.ipynb\n",
      "28.02.2022  09:41        94'650'368 tc_sg.db\n",
      "01.03.2022  13:13             2'284 Untitled.ipynb\n",
      "06.03.2022  09:46                72 Untitled1.ipynb\n",
      "              14 Datei(en),     98'641'008 Bytes\n",
      "               3 Verzeichnis(se), 103'647'825'920 Bytes frei\n"
     ]
    }
   ],
   "source": [
    "%ls"
   ]
  },
  {
   "cell_type": "markdown",
   "id": "7948baee",
   "metadata": {},
   "source": [
    "engine = db.create_engine('sqlite:///tc_sg.db')"
   ]
  },
  {
   "cell_type": "code",
   "execution_count": 6,
   "id": "10084b61",
   "metadata": {},
   "outputs": [],
   "source": [
    "engine = db.create_engine('sqlite:///C:\\\\Users\\\\peter\\\\Documents\\\\Projekte\\\\Zähler\\\\tc_sg.db')"
   ]
  },
  {
   "cell_type": "markdown",
   "id": "a470df98",
   "metadata": {
    "tags": []
   },
   "source": [
    "### Bemerkung: Man kann den Pfad mit \\\\ oder dem Einsatz von r angeben! Ganz oben habe ich eine Kopie von 'tc_sg' ins lokale Verzeichnis geschoben."
   ]
  },
  {
   "cell_type": "code",
   "execution_count": 7,
   "id": "8f3b92e4",
   "metadata": {},
   "outputs": [],
   "source": [
    "engine = db.create_engine(r'sqlite:///C:\\Users\\peter\\Documents\\Projekte\\Zähler\\tc_sg.db')"
   ]
  },
  {
   "cell_type": "code",
   "execution_count": 8,
   "id": "8543da63",
   "metadata": {
    "tags": []
   },
   "outputs": [],
   "source": [
    "connection = engine.connect()\n",
    "metadata = db.MetaData()"
   ]
  },
  {
   "cell_type": "code",
   "execution_count": 9,
   "id": "434bb6ef",
   "metadata": {},
   "outputs": [],
   "source": [
    "tr = db.Table('tcdata_CH_0084_01', metadata, autoload=True, autoload_with=engine)"
   ]
  },
  {
   "cell_type": "code",
   "execution_count": 10,
   "id": "855081b0",
   "metadata": {},
   "outputs": [
    {
     "name": "stdout",
     "output_type": "stream",
     "text": [
      "['time', 'vfr11', 's12', 'vfr21', 's22', 'vfr1', 's2']\n"
     ]
    }
   ],
   "source": [
    "print(tr.columns.keys())"
   ]
  },
  {
   "cell_type": "code",
   "execution_count": 11,
   "id": "4e267eb5",
   "metadata": {},
   "outputs": [],
   "source": [
    "query = db.select([tr])"
   ]
  },
  {
   "cell_type": "code",
   "execution_count": 12,
   "id": "f10ecad3",
   "metadata": {
    "tags": []
   },
   "outputs": [],
   "source": [
    "result_proxy = connection.execute(query)"
   ]
  },
  {
   "cell_type": "code",
   "execution_count": 13,
   "id": "101366ea",
   "metadata": {},
   "outputs": [],
   "source": [
    "result_set = result_proxy.fetchmany(50)"
   ]
  },
  {
   "cell_type": "code",
   "execution_count": 14,
   "id": "16371b88",
   "metadata": {},
   "outputs": [
    {
     "name": "stdout",
     "output_type": "stream",
     "text": [
      "[('2021-06-19 05:53:00+02:00', 360.0, 81.8000031, 0.0, 0.0, 0.0, 0.0), ('2021-06-19 05:54:00+02:00', 120.0, 84.5, 0.0, 0.0, 0.0, 0.0), ('2021-06-19 05:55:00+02:00', 360.0, 76.8000031, 60.0, 82.0, 0.0, 0.0), ('2021-06-19 05:56:00+02:00', 480.0, 79.9000015, 0.0, 0.0, 0.0, 0.0), ('2021-06-19 05:57:00+02:00', 660.0, 79.5999985, 60.0, 79.0, 0.0, 0.0), ('2021-06-19 05:58:00+02:00', 420.0, 81.0, 0.0, 0.0, 0.0, 0.0), ('2021-06-19 05:59:00+02:00', 720.0, 83.4000015, 120.0, 76.0, 0.0, 0.0), ('2021-06-19 06:00:00+02:00', 360.0, 87.3000031, 120.0, 81.0, 0.0, 0.0), ('2021-06-19 06:01:00+02:00', 360.0, 82.6999969, 0.0, 0.0, 0.0, 0.0), ('2021-06-19 06:02:00+02:00', 660.0, 75.9000015, 0.0, 0.0, 0.0, 0.0), ('2021-06-19 06:03:00+02:00', 480.0, 85.0999985, 0.0, 0.0, 0.0, 0.0), ('2021-06-19 06:04:00+02:00', 600.0, 79.6999969, 120.0, 79.5, 0.0, 0.0), ('2021-06-19 06:05:00+02:00', 600.0, 83.0999985, 0.0, 0.0, 0.0, 0.0), ('2021-06-19 06:06:00+02:00', 720.0, 87.0, 0.0, 0.0, 0.0, 0.0), ('2021-06-19 06:07:00+02:00', 540.0, 80.1999969, 60.0, 80.0, 0.0, 0.0), ('2021-06-19 06:08:00+02:00', 720.0, 79.8000031, 60.0, 74.0, 0.0, 0.0), ('2021-06-19 06:09:00+02:00', 540.0, 80.1999969, 0.0, 0.0, 0.0, 0.0), ('2021-06-19 06:10:00+02:00', 600.0, 78.5, 0.0, 0.0, 0.0, 0.0), ('2021-06-19 06:11:00+02:00', 420.0, 81.9000015, 0.0, 0.0, 0.0, 0.0), ('2021-06-19 06:12:00+02:00', 360.0, 81.6999969, 0.0, 0.0, 0.0, 0.0), ('2021-06-19 06:13:00+02:00', 420.0, 80.0999985, 0.0, 0.0, 0.0, 0.0), ('2021-06-19 06:14:00+02:00', 480.0, 77.9000015, 0.0, 0.0, 0.0, 0.0), ('2021-06-19 06:15:00+02:00', 360.0, 81.5, 60.0, 76.0, 0.0, 0.0), ('2021-06-19 06:16:00+02:00', 300.0, 79.4000015, 0.0, 0.0, 0.0, 0.0), ('2021-06-19 06:17:00+02:00', 600.0, 82.0, 0.0, 0.0, 0.0, 0.0), ('2021-06-19 06:18:00+02:00', 720.0, 81.4000015, 0.0, 0.0, 0.0, 0.0), ('2021-06-19 06:19:00+02:00', 420.0, 84.4000015, 60.0, 81.0, 0.0, 0.0), ('2021-06-19 06:20:00+02:00', 480.0, 86.3000031, 0.0, 0.0, 0.0, 0.0), ('2021-06-19 06:21:00+02:00', 600.0, 82.4000015, 0.0, 0.0, 0.0, 0.0), ('2021-06-19 06:22:00+02:00', 720.0, 81.0, 60.0, 80.0, 0.0, 0.0), ('2021-06-19 06:23:00+02:00', 1020.0, 78.8000031, 0.0, 0.0, 0.0, 0.0), ('2021-06-19 06:24:00+02:00', 660.0, 78.5999985, 0.0, 0.0, 0.0, 0.0), ('2021-06-19 06:25:00+02:00', 960.0, 81.0999985, 60.0, 80.0, 0.0, 0.0), ('2021-06-19 06:26:00+02:00', 840.0, 79.4000015, 0.0, 0.0, 0.0, 0.0), ('2021-06-19 06:27:00+02:00', 660.0, 83.8000031, 0.0, 0.0, 0.0, 0.0), ('2021-06-19 06:28:00+02:00', 1200.0, 80.5999985, 0.0, 0.0, 0.0, 0.0), ('2021-06-19 06:29:00+02:00', 660.0, 83.9000015, 0.0, 0.0, 0.0, 0.0), ('2021-06-19 06:30:00+02:00', 240.0, 77.8000031, 0.0, 0.0, 0.0, 0.0), ('2021-06-19 06:31:00+02:00', 660.0, 83.5, 0.0, 0.0, 0.0, 0.0), ('2021-06-19 06:32:00+02:00', 420.0, 84.3000031, 0.0, 0.0, 0.0, 0.0), ('2021-06-19 06:33:00+02:00', 780.0, 80.5, 0.0, 0.0, 0.0, 0.0), ('2021-06-19 06:34:00+02:00', 420.0, 86.5999985, 0.0, 0.0, 0.0, 0.0), ('2021-06-19 06:35:00+02:00', 960.0, 82.8000031, 0.0, 0.0, 0.0, 0.0), ('2021-06-19 06:36:00+02:00', 960.0, 80.9000015, 60.0, 83.0, 0.0, 0.0), ('2021-06-19 06:37:00+02:00', 840.0, 80.0, 60.0, 74.0, 0.0, 0.0), ('2021-06-19 06:38:00+02:00', 720.0, 79.3000031, 60.0, 82.0, 0.0, 0.0), ('2021-06-19 06:39:00+02:00', 960.0, 80.4000015, 60.0, 82.0, 0.0, 0.0), ('2021-06-19 06:40:00+02:00', 900.0, 81.8000031, 0.0, 0.0, 0.0, 0.0), ('2021-06-19 06:41:00+02:00', 960.0, 81.0999985, 0.0, 0.0, 0.0, 0.0), ('2021-06-19 06:42:00+02:00', 420.0, 86.3000031, 0.0, 0.0, 0.0, 0.0)]\n"
     ]
    }
   ],
   "source": [
    "print(result_set)"
   ]
  },
  {
   "cell_type": "code",
   "execution_count": null,
   "id": "85101208",
   "metadata": {},
   "outputs": [],
   "source": []
  },
  {
   "cell_type": "code",
   "execution_count": 15,
   "id": "b3dcb3c9",
   "metadata": {},
   "outputs": [],
   "source": [
    "import pandas as pd"
   ]
  },
  {
   "cell_type": "code",
   "execution_count": 16,
   "id": "06e19a9d",
   "metadata": {},
   "outputs": [
    {
     "name": "stdout",
     "output_type": "stream",
     "text": [
      "                           0      1          2     3     4    5    6\n",
      "0  2021-06-19 05:53:00+02:00  360.0  81.800003   0.0   0.0  0.0  0.0\n",
      "1  2021-06-19 05:54:00+02:00  120.0  84.500000   0.0   0.0  0.0  0.0\n",
      "2  2021-06-19 05:55:00+02:00  360.0  76.800003  60.0  82.0  0.0  0.0\n",
      "3  2021-06-19 05:56:00+02:00  480.0  79.900002   0.0   0.0  0.0  0.0\n",
      "4  2021-06-19 05:57:00+02:00  660.0  79.599998  60.0  79.0  0.0  0.0\n"
     ]
    }
   ],
   "source": [
    "df = pd.DataFrame(result_set)\n",
    "print(df.head(5))"
   ]
  },
  {
   "cell_type": "code",
   "execution_count": 17,
   "id": "e678b970",
   "metadata": {},
   "outputs": [],
   "source": [
    "df.columns = result_set[0].keys()"
   ]
  },
  {
   "cell_type": "code",
   "execution_count": 18,
   "id": "90211821",
   "metadata": {},
   "outputs": [
    {
     "name": "stdout",
     "output_type": "stream",
     "text": [
      "                        time  vfr11        s12  vfr21   s22  vfr1   s2\n",
      "0  2021-06-19 05:53:00+02:00  360.0  81.800003    0.0   0.0   0.0  0.0\n",
      "1  2021-06-19 05:54:00+02:00  120.0  84.500000    0.0   0.0   0.0  0.0\n",
      "2  2021-06-19 05:55:00+02:00  360.0  76.800003   60.0  82.0   0.0  0.0\n",
      "3  2021-06-19 05:56:00+02:00  480.0  79.900002    0.0   0.0   0.0  0.0\n",
      "4  2021-06-19 05:57:00+02:00  660.0  79.599998   60.0  79.0   0.0  0.0\n"
     ]
    }
   ],
   "source": [
    "print(df.head(5))"
   ]
  },
  {
   "cell_type": "code",
   "execution_count": null,
   "id": "a4b53482",
   "metadata": {},
   "outputs": [],
   "source": []
  },
  {
   "cell_type": "code",
   "execution_count": 19,
   "id": "6822853e",
   "metadata": {},
   "outputs": [],
   "source": [
    "query = db.select([tr]).where(tr.columns.s12 == 84.5)"
   ]
  },
  {
   "cell_type": "code",
   "execution_count": 20,
   "id": "40e0d47b",
   "metadata": {
    "tags": []
   },
   "outputs": [],
   "source": [
    "result_proxy = connection.execute(query)"
   ]
  },
  {
   "cell_type": "code",
   "execution_count": 21,
   "id": "67faf108",
   "metadata": {},
   "outputs": [],
   "source": [
    "result_set = result_proxy.fetchmany(50)"
   ]
  },
  {
   "cell_type": "code",
   "execution_count": 22,
   "id": "0325e23c",
   "metadata": {},
   "outputs": [
    {
     "name": "stdout",
     "output_type": "stream",
     "text": [
      "[('2021-06-19 05:54:00+02:00', 120.0, 84.5, 0.0, 0.0, 0.0, 0.0), ('2021-06-19 06:53:00+02:00', 660.0, 84.5, 60.0, 82.0, 0.0, 0.0), ('2021-06-19 20:58:00+02:00', 780.0, 84.5, 0.0, 0.0, 0.0, 0.0), ('2021-06-20 06:09:00+02:00', 120.0, 84.5, 0.0, 0.0, 0.0, 0.0), ('2021-06-22 01:23:00+02:00', 120.0, 84.5, 0.0, 0.0, 0.0, 0.0), ('2021-06-22 22:18:00+02:00', 360.0, 84.5, 0.0, 0.0, 0.0, 0.0), ('2021-06-23 00:33:00+02:00', 120.0, 84.5, 0.0, 0.0, 0.0, 0.0), ('2021-06-26 05:48:00+02:00', 660.0, 84.5, 0.0, 0.0, 0.0, 0.0), ('2021-06-28 23:58:00+02:00', 360.0, 84.5, 0.0, 0.0, 0.0, 0.0), ('2021-06-29 22:48:00+02:00', 360.0, 84.5, 60.0, 82.0, 0.0, 0.0), ('2021-06-30 04:08:00+02:00', 120.0, 84.5, 0.0, 0.0, 0.0, 0.0), ('2021-06-30 05:55:00+02:00', 360.0, 84.5, 180.0, 79.6999969, 0.0, 0.0), ('2021-07-02 00:58:00+02:00', 120.0, 84.5, 60.0, 74.0, 0.0, 0.0), ('2021-07-04 03:13:00+02:00', 120.0, 84.5, 0.0, 0.0, 0.0, 0.0), ('2021-07-04 04:39:00+02:00', 360.0, 84.5, 0.0, 0.0, 0.0, 0.0), ('2021-07-04 06:48:00+02:00', 240.0, 84.5, 0.0, 0.0, 0.0, 0.0), ('2021-07-08 04:54:00+02:00', 240.0, 84.5, 60.0, 76.0, 0.0, 0.0), ('2021-07-09 02:23:00+02:00', 120.0, 84.5, 60.0, 88.0, 0.0, 0.0), ('2021-07-11 04:28:00+02:00', 240.0, 84.5, 0.0, 0.0, 0.0, 0.0), ('2021-07-11 06:57:00+02:00', 120.0, 84.5, 0.0, 0.0, 0.0, 0.0), ('2021-07-11 07:37:00+02:00', 240.0, 84.5, 0.0, 0.0, 0.0, 0.0), ('2021-07-13 22:28:00+02:00', 600.0, 84.5, 0.0, 0.0, 0.0, 0.0), ('2021-07-14 01:23:00+02:00', 240.0, 84.5, 60.0, 78.0, 0.0, 0.0), ('2021-07-14 02:58:00+02:00', 120.0, 84.5, 0.0, 0.0, 0.0, 0.0), ('2021-07-15 03:38:00+02:00', 240.0, 84.5, 0.0, 0.0, 0.0, 0.0), ('2021-07-15 05:55:00+02:00', 600.0, 84.5, 0.0, 0.0, 0.0, 0.0), ('2021-07-25 05:54:00+02:00', 120.0, 84.5, 0.0, 0.0, 0.0, 0.0)]\n"
     ]
    }
   ],
   "source": [
    "print(result_set)"
   ]
  },
  {
   "cell_type": "code",
   "execution_count": 23,
   "id": "abad246a",
   "metadata": {},
   "outputs": [
    {
     "name": "stdout",
     "output_type": "stream",
     "text": [
      "                         time  vfr11   s12  vfr21        s22  vfr1   s2\n",
      "0   2021-06-19 05:54:00+02:00  120.0  84.5    0.0   0.000000   0.0  0.0\n",
      "1   2021-06-19 06:53:00+02:00  660.0  84.5   60.0  82.000000   0.0  0.0\n",
      "2   2021-06-19 20:58:00+02:00  780.0  84.5    0.0   0.000000   0.0  0.0\n",
      "3   2021-06-20 06:09:00+02:00  120.0  84.5    0.0   0.000000   0.0  0.0\n",
      "4   2021-06-22 01:23:00+02:00  120.0  84.5    0.0   0.000000   0.0  0.0\n",
      "5   2021-06-22 22:18:00+02:00  360.0  84.5    0.0   0.000000   0.0  0.0\n",
      "6   2021-06-23 00:33:00+02:00  120.0  84.5    0.0   0.000000   0.0  0.0\n",
      "7   2021-06-26 05:48:00+02:00  660.0  84.5    0.0   0.000000   0.0  0.0\n",
      "8   2021-06-28 23:58:00+02:00  360.0  84.5    0.0   0.000000   0.0  0.0\n",
      "9   2021-06-29 22:48:00+02:00  360.0  84.5   60.0  82.000000   0.0  0.0\n",
      "10  2021-06-30 04:08:00+02:00  120.0  84.5    0.0   0.000000   0.0  0.0\n",
      "11  2021-06-30 05:55:00+02:00  360.0  84.5  180.0  79.699997   0.0  0.0\n",
      "12  2021-07-02 00:58:00+02:00  120.0  84.5   60.0  74.000000   0.0  0.0\n",
      "13  2021-07-04 03:13:00+02:00  120.0  84.5    0.0   0.000000   0.0  0.0\n",
      "14  2021-07-04 04:39:00+02:00  360.0  84.5    0.0   0.000000   0.0  0.0\n",
      "15  2021-07-04 06:48:00+02:00  240.0  84.5    0.0   0.000000   0.0  0.0\n",
      "16  2021-07-08 04:54:00+02:00  240.0  84.5   60.0  76.000000   0.0  0.0\n",
      "17  2021-07-09 02:23:00+02:00  120.0  84.5   60.0  88.000000   0.0  0.0\n",
      "18  2021-07-11 04:28:00+02:00  240.0  84.5    0.0   0.000000   0.0  0.0\n",
      "19  2021-07-11 06:57:00+02:00  120.0  84.5    0.0   0.000000   0.0  0.0\n",
      "20  2021-07-11 07:37:00+02:00  240.0  84.5    0.0   0.000000   0.0  0.0\n",
      "21  2021-07-13 22:28:00+02:00  600.0  84.5    0.0   0.000000   0.0  0.0\n",
      "22  2021-07-14 01:23:00+02:00  240.0  84.5   60.0  78.000000   0.0  0.0\n",
      "23  2021-07-14 02:58:00+02:00  120.0  84.5    0.0   0.000000   0.0  0.0\n",
      "24  2021-07-15 03:38:00+02:00  240.0  84.5    0.0   0.000000   0.0  0.0\n",
      "25  2021-07-15 05:55:00+02:00  600.0  84.5    0.0   0.000000   0.0  0.0\n",
      "26  2021-07-25 05:54:00+02:00  120.0  84.5    0.0   0.000000   0.0  0.0\n"
     ]
    }
   ],
   "source": [
    "df = pd.DataFrame(result_set)\n",
    "df.columns = result_set[0].keys()\n",
    "print(df.head(50))"
   ]
  },
  {
   "cell_type": "code",
   "execution_count": null,
   "id": "fb4e060e",
   "metadata": {},
   "outputs": [],
   "source": []
  },
  {
   "cell_type": "code",
   "execution_count": 24,
   "id": "45f4aef3",
   "metadata": {},
   "outputs": [],
   "source": [
    "query = db.select([db.func.count(tr.columns.time)]).where(tr.columns.s12 == 84.5)\n",
    "result_proxy = connection.execute(query)\n",
    "result_set = result_proxy.fetchmany(10)"
   ]
  },
  {
   "cell_type": "code",
   "execution_count": 25,
   "id": "dae04196",
   "metadata": {},
   "outputs": [
    {
     "data": {
      "text/plain": [
       "[(27,)]"
      ]
     },
     "execution_count": 25,
     "metadata": {},
     "output_type": "execute_result"
    }
   ],
   "source": [
    "result_set"
   ]
  },
  {
   "cell_type": "code",
   "execution_count": null,
   "id": "594add22",
   "metadata": {},
   "outputs": [],
   "source": []
  },
  {
   "cell_type": "code",
   "execution_count": 26,
   "id": "4b04e4f5",
   "metadata": {},
   "outputs": [],
   "source": [
    "query = db.select([tr]).where(tr.columns.time == '2021-06-19 05:54:00+02:00')\n",
    "result_proxy = connection.execute(query)\n",
    "result_set = result_proxy.fetchmany(10)"
   ]
  },
  {
   "cell_type": "code",
   "execution_count": 27,
   "id": "56345212",
   "metadata": {},
   "outputs": [
    {
     "name": "stdout",
     "output_type": "stream",
     "text": [
      "                        time  vfr11   s12  vfr21  s22  vfr1   s2\n",
      "0  2021-06-19 05:54:00+02:00  120.0  84.5    0.0  0.0   0.0  0.0\n"
     ]
    }
   ],
   "source": [
    "df = pd.DataFrame(result_set)\n",
    "df.columns = result_set[0].keys()\n",
    "print(df.head(50))"
   ]
  },
  {
   "cell_type": "code",
   "execution_count": null,
   "id": "9d994b0a",
   "metadata": {},
   "outputs": [],
   "source": []
  },
  {
   "cell_type": "markdown",
   "id": "6ea877a5",
   "metadata": {},
   "source": [
    "### Jetzt eine Query mit einem Zeitintervall"
   ]
  },
  {
   "cell_type": "code",
   "execution_count": 28,
   "id": "2c446ae3",
   "metadata": {},
   "outputs": [],
   "source": [
    "query = db.select([tr]).where(db.and_(tr.columns.time >= '2021-07-16 17:00:00+02:00', tr.columns.time <= '2021-07-16 17:19:00+02:00' ))\n",
    "result_proxy = connection.execute(query)\n",
    "result_set = result_proxy.fetchmany(10)"
   ]
  },
  {
   "cell_type": "code",
   "execution_count": 29,
   "id": "5650f7b2",
   "metadata": {},
   "outputs": [
    {
     "name": "stdout",
     "output_type": "stream",
     "text": [
      "                        time   vfr11        s12  vfr21   s22  vfr1   s2\n",
      "0  2021-07-16 17:00:00+02:00  1380.0  19.600000   60.0  24.0   0.0  0.0\n",
      "1  2021-07-16 17:01:00+02:00  1860.0  35.299999  120.0  40.5   0.0  0.0\n",
      "2  2021-07-16 17:02:00+02:00  2220.0  37.500000  120.0  42.5   0.0  0.0\n",
      "3  2021-07-16 17:03:00+02:00  2040.0  36.400002   60.0  40.0   0.0  0.0\n",
      "4  2021-07-16 17:04:00+02:00  1020.0  11.600000    0.0   0.0   0.0  0.0\n",
      "5  2021-07-16 17:05:00+02:00  1440.0  20.100000    0.0   0.0   0.0  0.0\n",
      "6  2021-07-16 17:06:00+02:00  1680.0  32.500000  120.0  35.0   0.0  0.0\n",
      "7  2021-07-16 17:07:00+02:00  1800.0  36.900002  120.0  39.5   0.0  0.0\n",
      "8  2021-07-16 17:08:00+02:00  1980.0  35.400002    0.0   0.0   0.0  0.0\n",
      "9  2021-07-16 17:09:00+02:00  1800.0  35.599998  120.0  39.0   0.0  0.0\n"
     ]
    }
   ],
   "source": [
    "df = pd.DataFrame(result_set)\n",
    "df.columns = result_set[0].keys()\n",
    "print(df.head(50))"
   ]
  },
  {
   "cell_type": "code",
   "execution_count": null,
   "id": "9a0f0235",
   "metadata": {},
   "outputs": [],
   "source": []
  },
  {
   "cell_type": "code",
   "execution_count": 30,
   "id": "c860851f",
   "metadata": {},
   "outputs": [],
   "source": [
    "query = db.select([tr]).where(tr.columns.time == '2021-06-19 05:54:00+02:00')\n",
    "result_proxy = connection.execute(query)\n",
    "result_set = result_proxy.fetchmany(10)"
   ]
  },
  {
   "cell_type": "code",
   "execution_count": null,
   "id": "404138b9",
   "metadata": {},
   "outputs": [],
   "source": []
  },
  {
   "cell_type": "code",
   "execution_count": 35,
   "id": "2bd31422",
   "metadata": {},
   "outputs": [
    {
     "name": "stdout",
     "output_type": "stream",
     "text": [
      "(2880.0,)\n"
     ]
    }
   ],
   "source": [
    "result = connection.execute(db.select([func.max(tr.columns.vfr11)]))\n",
    "print (result.fetchone())"
   ]
  },
  {
   "cell_type": "code",
   "execution_count": 36,
   "id": "f9fe6656",
   "metadata": {},
   "outputs": [
    {
     "name": "stdout",
     "output_type": "stream",
     "text": [
      "(2880.0,)\n"
     ]
    }
   ],
   "source": [
    "result = connection.execute(db.select([func.max(tr.columns.vfr11).label('MAX')]))\n",
    "print (result.fetchone())"
   ]
  },
  {
   "cell_type": "markdown",
   "id": "d33fd41e",
   "metadata": {},
   "source": [
    "### Nach viel Herumpröbeln bin ich schliesslich zum Schluss gekommen, dass ich mit den Möglichkeiten von Sqlalchemy Core nicht weiter komme"
   ]
  },
  {
   "cell_type": "markdown",
   "id": "f1910eaa",
   "metadata": {},
   "source": [
    "### Hingegen wäre mit ORM, einer Session und der Filter-Funktion die Möglichkeit gegeben, zB \"strftime\" einzusetzen."
   ]
  },
  {
   "cell_type": "markdown",
   "id": "b5f63261",
   "metadata": {},
   "source": [
    "### **Konsequenz:** Code in Python mit \"normalen\" SQL-Statements"
   ]
  },
  {
   "cell_type": "code",
   "execution_count": null,
   "id": "7080c5e7",
   "metadata": {},
   "outputs": [],
   "source": []
  },
  {
   "cell_type": "code",
   "execution_count": null,
   "id": "c0994f23",
   "metadata": {},
   "outputs": [],
   "source": []
  }
 ],
 "metadata": {
  "kernelspec": {
   "display_name": "Python 3 (ipykernel)",
   "language": "python",
   "name": "python3"
  },
  "language_info": {
   "codemirror_mode": {
    "name": "ipython",
    "version": 3
   },
   "file_extension": ".py",
   "mimetype": "text/x-python",
   "name": "python",
   "nbconvert_exporter": "python",
   "pygments_lexer": "ipython3",
   "version": "3.8.5"
  }
 },
 "nbformat": 4,
 "nbformat_minor": 5
}
