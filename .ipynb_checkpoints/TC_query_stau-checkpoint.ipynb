{
 "cells": [
  {
   "cell_type": "code",
   "execution_count": 2,
   "id": "7326d53b-865d-4834-9330-7074535b894e",
   "metadata": {},
   "outputs": [],
   "source": [
    "import sqlalchemy as db\n",
    "from sqlalchemy import create_engine, inspect, MetaData\n",
    "import pandas as pd"
   ]
  },
  {
   "cell_type": "code",
   "execution_count": 3,
   "id": "5e47c834-e0cf-402f-ade2-33eedc94f24f",
   "metadata": {},
   "outputs": [],
   "source": [
    "from sqlalchemy.sql import func, and_, desc, alias, text"
   ]
  },
  {
   "cell_type": "code",
   "execution_count": 4,
   "id": "0b628d9e-6c60-44cc-b467-690ed78adeed",
   "metadata": {},
   "outputs": [],
   "source": [
    "pd.options.display.max_rows=200"
   ]
  },
  {
   "cell_type": "code",
   "execution_count": 5,
   "id": "b1190fdd-5dc7-4536-b583-388aac9fe46a",
   "metadata": {},
   "outputs": [],
   "source": [
    "engine = db.create_engine('sqlite:///C:\\\\Users\\\\peter\\\\Documents\\\\Projekte\\\\Zähler\\\\tc_all_new.db', echo = False)"
   ]
  },
  {
   "cell_type": "code",
   "execution_count": 6,
   "id": "60855231-2f59-4155-86a5-99edbfa735f6",
   "metadata": {},
   "outputs": [],
   "source": [
    "conn = engine.connect()"
   ]
  },
  {
   "cell_type": "code",
   "execution_count": 9,
   "id": "349763ed-7692-4149-982b-3c4b4e8b570b",
   "metadata": {
    "tags": []
   },
   "outputs": [
    {
     "ename": "TypeError",
     "evalue": "MetaData.__init__() got an unexpected keyword argument 'bind'",
     "output_type": "error",
     "traceback": [
      "\u001b[1;31m---------------------------------------------------------------------------\u001b[0m",
      "\u001b[1;31mTypeError\u001b[0m                                 Traceback (most recent call last)",
      "Cell \u001b[1;32mIn[9], line 1\u001b[0m\n\u001b[1;32m----> 1\u001b[0m metadata \u001b[39m=\u001b[39m db\u001b[39m.\u001b[39;49mMetaData(bind\u001b[39m=\u001b[39;49mengine)\n",
      "\u001b[1;31mTypeError\u001b[0m: MetaData.__init__() got an unexpected keyword argument 'bind'"
     ]
    }
   ],
   "source": [
    "metadata = db.MetaData(bind=engine)"
   ]
  },
  {
   "cell_type": "code",
   "execution_count": 8,
   "id": "c0241a1d-9882-4246-93b5-db710cd241b5",
   "metadata": {},
   "outputs": [
    {
     "ename": "TypeError",
     "evalue": "Additional arguments should be named <dialectname>_<argument>, got 'autoload'",
     "output_type": "error",
     "traceback": [
      "\u001b[1;31m---------------------------------------------------------------------------\u001b[0m",
      "\u001b[1;31mTypeError\u001b[0m                                 Traceback (most recent call last)",
      "Cell \u001b[1;32mIn[8], line 1\u001b[0m\n\u001b[1;32m----> 1\u001b[0m table \u001b[39m=\u001b[39m db\u001b[39m.\u001b[39;49mTable(\u001b[39m'\u001b[39;49m\u001b[39mtcdata_CH_0084_01\u001b[39;49m\u001b[39m'\u001b[39;49m, metadata, autoload \u001b[39m=\u001b[39;49m \u001b[39mTrue\u001b[39;49;00m)\n",
      "File \u001b[1;32m<string>:2\u001b[0m, in \u001b[0;36m__new__\u001b[1;34m(cls, *args, **kw)\u001b[0m\n",
      "File \u001b[1;32mc:\\USERS\\PETER\\DOCUMENTS\\PROJEKTE\\CODING\\JUPYTER\\.CONDA\\lib\\site-packages\\sqlalchemy\\util\\deprecations.py:277\u001b[0m, in \u001b[0;36mdeprecated_params.<locals>.decorate.<locals>.warned\u001b[1;34m(fn, *args, **kwargs)\u001b[0m\n\u001b[0;32m    270\u001b[0m     \u001b[39mif\u001b[39;00m m \u001b[39min\u001b[39;00m kwargs:\n\u001b[0;32m    271\u001b[0m         _warn_with_version(\n\u001b[0;32m    272\u001b[0m             messages[m],\n\u001b[0;32m    273\u001b[0m             versions[m],\n\u001b[0;32m    274\u001b[0m             version_warnings[m],\n\u001b[0;32m    275\u001b[0m             stacklevel\u001b[39m=\u001b[39m\u001b[39m3\u001b[39m,\n\u001b[0;32m    276\u001b[0m         )\n\u001b[1;32m--> 277\u001b[0m \u001b[39mreturn\u001b[39;00m fn(\u001b[39m*\u001b[39margs, \u001b[39m*\u001b[39m\u001b[39m*\u001b[39mkwargs)\n",
      "File \u001b[1;32mc:\\USERS\\PETER\\DOCUMENTS\\PROJEKTE\\CODING\\JUPYTER\\.CONDA\\lib\\site-packages\\sqlalchemy\\sql\\schema.py:432\u001b[0m, in \u001b[0;36mTable.__new__\u001b[1;34m(cls, *args, **kw)\u001b[0m\n\u001b[0;32m    425\u001b[0m \u001b[39m@util\u001b[39m\u001b[39m.\u001b[39mdeprecated_params(\n\u001b[0;32m    426\u001b[0m     mustexist\u001b[39m=\u001b[39m(\n\u001b[0;32m    427\u001b[0m         \u001b[39m\"\u001b[39m\u001b[39m1.4\u001b[39m\u001b[39m\"\u001b[39m,\n\u001b[1;32m   (...)\u001b[0m\n\u001b[0;32m    430\u001b[0m )\n\u001b[0;32m    431\u001b[0m \u001b[39mdef\u001b[39;00m \u001b[39m__new__\u001b[39m(\u001b[39mcls\u001b[39m, \u001b[39m*\u001b[39margs: Any, \u001b[39m*\u001b[39m\u001b[39m*\u001b[39mkw: Any) \u001b[39m-\u001b[39m\u001b[39m>\u001b[39m Any:\n\u001b[1;32m--> 432\u001b[0m     \u001b[39mreturn\u001b[39;00m \u001b[39mcls\u001b[39m\u001b[39m.\u001b[39m_new(\u001b[39m*\u001b[39margs, \u001b[39m*\u001b[39m\u001b[39m*\u001b[39mkw)\n",
      "File \u001b[1;32mc:\\USERS\\PETER\\DOCUMENTS\\PROJEKTE\\CODING\\JUPYTER\\.CONDA\\lib\\site-packages\\sqlalchemy\\sql\\schema.py:486\u001b[0m, in \u001b[0;36mTable._new\u001b[1;34m(cls, *args, **kw)\u001b[0m\n\u001b[0;32m    484\u001b[0m     \u001b[39mreturn\u001b[39;00m table\n\u001b[0;32m    485\u001b[0m \u001b[39mexcept\u001b[39;00m \u001b[39mException\u001b[39;00m:\n\u001b[1;32m--> 486\u001b[0m     \u001b[39mwith\u001b[39;00m util\u001b[39m.\u001b[39msafe_reraise():\n\u001b[0;32m    487\u001b[0m         metadata\u001b[39m.\u001b[39m_remove_table(name, schema)\n",
      "File \u001b[1;32mc:\\USERS\\PETER\\DOCUMENTS\\PROJEKTE\\CODING\\JUPYTER\\.CONDA\\lib\\site-packages\\sqlalchemy\\util\\langhelpers.py:147\u001b[0m, in \u001b[0;36msafe_reraise.__exit__\u001b[1;34m(self, type_, value, traceback)\u001b[0m\n\u001b[0;32m    145\u001b[0m     \u001b[39massert\u001b[39;00m exc_value \u001b[39mis\u001b[39;00m \u001b[39mnot\u001b[39;00m \u001b[39mNone\u001b[39;00m\n\u001b[0;32m    146\u001b[0m     \u001b[39mself\u001b[39m\u001b[39m.\u001b[39m_exc_info \u001b[39m=\u001b[39m \u001b[39mNone\u001b[39;00m  \u001b[39m# remove potential circular references\u001b[39;00m\n\u001b[1;32m--> 147\u001b[0m     \u001b[39mraise\u001b[39;00m exc_value\u001b[39m.\u001b[39mwith_traceback(exc_tb)\n\u001b[0;32m    148\u001b[0m \u001b[39melse\u001b[39;00m:\n\u001b[0;32m    149\u001b[0m     \u001b[39mself\u001b[39m\u001b[39m.\u001b[39m_exc_info \u001b[39m=\u001b[39m \u001b[39mNone\u001b[39;00m  \u001b[39m# remove potential circular references\u001b[39;00m\n",
      "File \u001b[1;32mc:\\USERS\\PETER\\DOCUMENTS\\PROJEKTE\\CODING\\JUPYTER\\.CONDA\\lib\\site-packages\\sqlalchemy\\sql\\schema.py:482\u001b[0m, in \u001b[0;36mTable._new\u001b[1;34m(cls, *args, **kw)\u001b[0m\n\u001b[0;32m    480\u001b[0m metadata\u001b[39m.\u001b[39m_add_table(name, schema, table)\n\u001b[0;32m    481\u001b[0m \u001b[39mtry\u001b[39;00m:\n\u001b[1;32m--> 482\u001b[0m     table\u001b[39m.\u001b[39m\u001b[39m__init__\u001b[39m(name, metadata, \u001b[39m*\u001b[39margs, _no_init\u001b[39m=\u001b[39m\u001b[39mFalse\u001b[39;00m, \u001b[39m*\u001b[39m\u001b[39m*\u001b[39mkw)\n\u001b[0;32m    483\u001b[0m     table\u001b[39m.\u001b[39mdispatch\u001b[39m.\u001b[39mafter_parent_attach(table, metadata)\n\u001b[0;32m    484\u001b[0m     \u001b[39mreturn\u001b[39;00m table\n",
      "File \u001b[1;32mc:\\USERS\\PETER\\DOCUMENTS\\PROJEKTE\\CODING\\JUPYTER\\.CONDA\\lib\\site-packages\\sqlalchemy\\sql\\schema.py:852\u001b[0m, in \u001b[0;36mTable.__init__\u001b[1;34m(self, name, metadata, schema, quote, quote_schema, autoload_with, autoload_replace, keep_existing, extend_existing, resolve_fks, include_columns, implicit_returning, comment, info, listeners, prefixes, _extend_on, _no_init, *args, **kw)\u001b[0m\n\u001b[0;32m    848\u001b[0m         event\u001b[39m.\u001b[39mlisten(\u001b[39mself\u001b[39m, evt, fn)\n\u001b[0;32m    850\u001b[0m \u001b[39mself\u001b[39m\u001b[39m.\u001b[39m_prefixes \u001b[39m=\u001b[39m prefixes \u001b[39mif\u001b[39;00m prefixes \u001b[39melse\u001b[39;00m []\n\u001b[1;32m--> 852\u001b[0m \u001b[39mself\u001b[39m\u001b[39m.\u001b[39m_extra_kwargs(\u001b[39m*\u001b[39m\u001b[39m*\u001b[39mkw)\n\u001b[0;32m    854\u001b[0m \u001b[39m# load column definitions from the database if 'autoload' is defined\u001b[39;00m\n\u001b[0;32m    855\u001b[0m \u001b[39m# we do it after the table is in the singleton dictionary to support\u001b[39;00m\n\u001b[0;32m    856\u001b[0m \u001b[39m# circular foreign keys\u001b[39;00m\n\u001b[0;32m    857\u001b[0m \u001b[39mif\u001b[39;00m autoload_with \u001b[39mis\u001b[39;00m \u001b[39mnot\u001b[39;00m \u001b[39mNone\u001b[39;00m:\n",
      "File \u001b[1;32mc:\\USERS\\PETER\\DOCUMENTS\\PROJEKTE\\CODING\\JUPYTER\\.CONDA\\lib\\site-packages\\sqlalchemy\\sql\\schema.py:1000\u001b[0m, in \u001b[0;36mTable._extra_kwargs\u001b[1;34m(self, **kwargs)\u001b[0m\n\u001b[0;32m    999\u001b[0m \u001b[39mdef\u001b[39;00m \u001b[39m_extra_kwargs\u001b[39m(\u001b[39mself\u001b[39m, \u001b[39m*\u001b[39m\u001b[39m*\u001b[39mkwargs: Any) \u001b[39m-\u001b[39m\u001b[39m>\u001b[39m \u001b[39mNone\u001b[39;00m:\n\u001b[1;32m-> 1000\u001b[0m     \u001b[39mself\u001b[39;49m\u001b[39m.\u001b[39;49m_validate_dialect_kwargs(kwargs)\n",
      "File \u001b[1;32mc:\\USERS\\PETER\\DOCUMENTS\\PROJEKTE\\CODING\\JUPYTER\\.CONDA\\lib\\site-packages\\sqlalchemy\\sql\\base.py:558\u001b[0m, in \u001b[0;36mDialectKWArgs._validate_dialect_kwargs\u001b[1;34m(self, kwargs)\u001b[0m\n\u001b[0;32m    556\u001b[0m m \u001b[39m=\u001b[39m re\u001b[39m.\u001b[39mmatch(\u001b[39m\"\u001b[39m\u001b[39m^(.+?)_(.+)$\u001b[39m\u001b[39m\"\u001b[39m, k)\n\u001b[0;32m    557\u001b[0m \u001b[39mif\u001b[39;00m \u001b[39mnot\u001b[39;00m m:\n\u001b[1;32m--> 558\u001b[0m     \u001b[39mraise\u001b[39;00m \u001b[39mTypeError\u001b[39;00m(\n\u001b[0;32m    559\u001b[0m         \u001b[39m\"\u001b[39m\u001b[39mAdditional arguments should be \u001b[39m\u001b[39m\"\u001b[39m\n\u001b[0;32m    560\u001b[0m         \u001b[39m\"\u001b[39m\u001b[39mnamed <dialectname>_<argument>, got \u001b[39m\u001b[39m'\u001b[39m\u001b[39m%s\u001b[39;00m\u001b[39m'\u001b[39m\u001b[39m\"\u001b[39m \u001b[39m%\u001b[39m k\n\u001b[0;32m    561\u001b[0m     )\n\u001b[0;32m    562\u001b[0m dialect_name, arg_name \u001b[39m=\u001b[39m m\u001b[39m.\u001b[39mgroup(\u001b[39m1\u001b[39m, \u001b[39m2\u001b[39m)\n\u001b[0;32m    564\u001b[0m \u001b[39mtry\u001b[39;00m:\n",
      "\u001b[1;31mTypeError\u001b[0m: Additional arguments should be named <dialectname>_<argument>, got 'autoload'"
     ]
    }
   ],
   "source": [
    "table = db.Table('tcdata_CH_0084_01', metadata, autoload = True)"
   ]
  },
  {
   "cell_type": "markdown",
   "id": "708bf292-4ef4-4159-959e-ec2366e27d16",
   "metadata": {},
   "source": [
    "#### Voila, mit der so definierten Tabelle kann ich die Abfragen starten!"
   ]
  },
  {
   "cell_type": "code",
   "execution_count": 8,
   "id": "0532d715-defd-4596-a04e-f5b231878406",
   "metadata": {},
   "outputs": [
    {
     "data": {
      "text/plain": [
       "[('2021-07-27 19:53:00+02:00', 900.0, 68.9000015, 0.0, 0.0, 0.0, 0.0),\n",
       " ('2021-07-27 19:58:00+02:00', 840.0, 65.5, 60.0, 73.0, 0.0, 0.0),\n",
       " ('2021-07-27 20:03:00+02:00', 840.0, 67.8000031, 60.0, 72.0, 0.0, 0.0),\n",
       " ('2021-07-27 20:08:00+02:00', 600.0, 79.3000031, 0.0, 0.0, 0.0, 0.0)]"
      ]
     },
     "execution_count": 8,
     "metadata": {},
     "output_type": "execute_result"
    }
   ],
   "source": [
    "q = db.select(table)\n",
    "result = conn.execute(q)\n",
    "row = result.fetchmany(4)\n",
    "row"
   ]
  },
  {
   "cell_type": "markdown",
   "id": "30dc25e7-3fcb-4b2b-97d5-d28d7af5ec3d",
   "metadata": {},
   "source": [
    "#### Intro eines Alias für table (WICHTIG: *Alias* gilt nur für Tabellen. **Bemerkung:** Spalten kann man mit *Labels* umbenennen..."
   ]
  },
  {
   "cell_type": "code",
   "execution_count": 63,
   "id": "c146b5c5-6fc7-401f-8139-3063f75dec04",
   "metadata": {},
   "outputs": [],
   "source": [
    "t = table.alias()"
   ]
  },
  {
   "cell_type": "code",
   "execution_count": null,
   "id": "a94e39af-d13b-469f-8087-1dfc381358eb",
   "metadata": {},
   "outputs": [],
   "source": []
  },
  {
   "cell_type": "code",
   "execution_count": 64,
   "id": "0621e51f-bd15-4fe7-b04d-598903019263",
   "metadata": {},
   "outputs": [
    {
     "data": {
      "text/plain": [
       "[('2021-12-01 17:00:00+01:00', '2021', '12', '01', '16', 1156.3636363636363, 18.894545495272723, 55),\n",
       " ('2021-12-02 16:02:00+01:00', '2021', '12', '02', '15', 1320.0, 26.607142805, 56),\n",
       " ('2021-12-02 17:01:00+01:00', '2021', '12', '02', '16', 1374.4444444444443, 23.35555557185185, 54),\n",
       " ('2021-12-08 16:00:00+01:00', '2021', '12', '08', '15', 1472.2222222222222, 30.675926038888882, 54),\n",
       " ('2021-12-08 17:00:00+01:00', '2021', '12', '08', '16', 1244.7272727272727, 22.232727330727275, 55),\n",
       " ('2021-11-11 17:00:00+01:00', '2021', '11', '11', '16', 1880.0, 31.350000138888888, 54),\n",
       " ('2021-11-15 17:00:00+01:00', '2021', '11', '15', '16', 1877.3076923076924, 30.96923076346154, 52),\n",
       " ('2021-11-16 17:00:00+01:00', '2021', '11', '16', '16', 1939.245283018868, 33.03018853962264, 53),\n",
       " ('2021-11-29 07:00:00+01:00', '2021', '11', '29', '06', 432.22222222222223, 6.764814816481482, 54),\n",
       " ('2021-10-01 17:00:00+02:00', '2021', '10', '01', '15', 1711.0, 28.153333509999996, 60)]"
      ]
     },
     "execution_count": 64,
     "metadata": {},
     "output_type": "execute_result"
    }
   ],
   "source": [
    "q = db.select(t.c.time, func.strftime('%Y', t.c.time).label('Jahr'), func.strftime('%m', t.c.time).label('Monat'), \\\n",
    "              func.strftime('%d', t.c.time).label('Tag'), func.strftime('%H', t.c.time).label('Stunde'), \\\n",
    "              func.avg(t.c.vfr11).label('AVG_flow'), func.avg(t.c.s12).label('AVG_speed'), func.count(t.c.time).label('Anzahl')). \\\n",
    "where(and_(t.c.s12 >=0, t.c.s12 <40 )) .\\\n",
    "group_by(func.strftime('%Y', t.c.time), func.strftime('%m', t.c.time), func.strftime('%d', t.c.time), func.strftime('%H', t.c.time)). \\\n",
    "having(func.count(t.c.time) > 50). \\\n",
    "order_by(func.strftime('%m', t.c.time).desc(), func.strftime('%d', t.c.time))\n",
    "result = conn.execute(q)\n",
    "row = result.fetchmany(10)\n",
    "row"
   ]
  },
  {
   "cell_type": "code",
   "execution_count": null,
   "id": "ce6817c7-0073-44a1-a629-8bd7e14e3cea",
   "metadata": {},
   "outputs": [],
   "source": []
  },
  {
   "cell_type": "markdown",
   "id": "788b5e69-4862-4274-a89d-5d4b4b64f371",
   "metadata": {},
   "source": [
    "#### Und nun die (fast) gleiche Query unter Verwendung der Label bei HAVING, ORDER_BY und Rundung der Averages und **localtime** für den Wechsel von UTC auf CH-Time"
   ]
  },
  {
   "cell_type": "code",
   "execution_count": null,
   "id": "135680bd-f8cb-4cbe-9c57-8378f387ba31",
   "metadata": {},
   "outputs": [],
   "source": []
  },
  {
   "cell_type": "code",
   "execution_count": 77,
   "id": "fa601512-6dae-44d5-ac76-852081937171",
   "metadata": {},
   "outputs": [],
   "source": [
    "q = db.select(t.c.time, func.count(t.c.time).label('Anzahl'), func.strftime('%Y', t.c.time).label('Jahr'), func.strftime('%m', t.c.time).label('Monat'), \\\n",
    "              func.strftime('%d', t.c.time).label('Tag'), func.strftime('%H', t.c.time, 'localtime').label('Stunde'), \\\n",
    "               func.round(func.avg(t.c.vfr11)).label('AVG_flow'), func.round(func.avg(t.c.s12)).label('AVG_speed')). \\\n",
    "where(and_(t.c.s12 >0, t.c.s12 <40 )) .\\\n",
    "group_by(func.strftime('%Y', t.c.time), func.strftime('%m', t.c.time), func.strftime('%d', t.c.time), func.strftime('%H', t.c.time)). \\\n",
    "having(func.count(t.c.time) > 50). \\\n",
    "order_by(func.count('Anzahl').desc())\n",
    "result = conn.execute(q)\n",
    "row = result.fetchall()"
   ]
  },
  {
   "cell_type": "code",
   "execution_count": 78,
   "id": "59c6a6c0-6116-4d85-927a-6fa2b0d1caa8",
   "metadata": {},
   "outputs": [
    {
     "name": "stdout",
     "output_type": "stream",
     "text": [
      "Anzahl Std  mit Stau:  0\n"
     ]
    }
   ],
   "source": [
    "print(\"Anzahl Std  mit Stau: \", len(row))"
   ]
  },
  {
   "cell_type": "code",
   "execution_count": 79,
   "id": "766948f2-99b5-46bd-a357-a66b18892ace",
   "metadata": {},
   "outputs": [
    {
     "data": {
      "text/html": [
       "<div>\n",
       "<style scoped>\n",
       "    .dataframe tbody tr th:only-of-type {\n",
       "        vertical-align: middle;\n",
       "    }\n",
       "\n",
       "    .dataframe tbody tr th {\n",
       "        vertical-align: top;\n",
       "    }\n",
       "\n",
       "    .dataframe thead th {\n",
       "        text-align: right;\n",
       "    }\n",
       "</style>\n",
       "<table border=\"1\" class=\"dataframe\">\n",
       "  <thead>\n",
       "    <tr style=\"text-align: right;\">\n",
       "      <th></th>\n",
       "      <th>time</th>\n",
       "      <th>Anzahl</th>\n",
       "      <th>Jahr</th>\n",
       "      <th>Monat</th>\n",
       "      <th>Tag</th>\n",
       "      <th>Stunde</th>\n",
       "      <th>AVG_flow</th>\n",
       "      <th>AVG_speed</th>\n",
       "    </tr>\n",
       "  </thead>\n",
       "  <tbody>\n",
       "  </tbody>\n",
       "</table>\n",
       "</div>"
      ],
      "text/plain": [
       "Empty DataFrame\n",
       "Columns: [time, Anzahl, Jahr, Monat, Tag, Stunde, AVG_flow, AVG_speed]\n",
       "Index: []"
      ]
     },
     "execution_count": 79,
     "metadata": {},
     "output_type": "execute_result"
    }
   ],
   "source": [
    "df_stau= pd.read_sql_query(q, conn)\n",
    "df_stau.head()"
   ]
  },
  {
   "cell_type": "markdown",
   "id": "f052f73c-09dd-43c6-b57d-bbee7c2f716a",
   "metadata": {},
   "source": [
    "#### Präp Loop, indem ich eine Liste mit allen Tabellen erstelle:"
   ]
  },
  {
   "cell_type": "code",
   "execution_count": 41,
   "id": "19bb5935-d0c4-4a33-a2f5-f4fcbe844a25",
   "metadata": {},
   "outputs": [],
   "source": [
    "inspector = inspect(engine)"
   ]
  },
  {
   "cell_type": "code",
   "execution_count": 42,
   "id": "7645ebbe-44c7-495d-b1f4-cd25eac1d0e0",
   "metadata": {
    "tags": []
   },
   "outputs": [],
   "source": [
    "tab = inspector.get_table_names()\n",
    "tab = tab[:-1]"
   ]
  },
  {
   "cell_type": "code",
   "execution_count": null,
   "id": "376f2183-67a7-4066-b38d-f053afe0f204",
   "metadata": {},
   "outputs": [
    {
     "data": {
      "text/plain": [
       "'C:\\\\Users\\\\peter\\\\Coding\\\\Jupyter'"
      ]
     },
     "execution_count": 75,
     "metadata": {},
     "output_type": "execute_result"
    }
   ],
   "source": [
    "import os\n",
    "os.getcwd()"
   ]
  },
  {
   "cell_type": "code",
   "execution_count": 87,
   "id": "01e8b818-6074-4682-b3e4-82121aaff408",
   "metadata": {},
   "outputs": [],
   "source": [
    "ListAnzahl = []\n",
    "DfList = []\n",
    "for table in tab:\n",
    "    t = db.Table(table, metadata, autoload = True)\n",
    "    ListAnzahl.append(table[10:])\n",
    "    q = db.select(t.c.time, func.count(t.c.time).label('Anzahl'), func.strftime('%Y', t.c.time).label('Jahr'), func.strftime('%m', t.c.time).label('Monat'), \\\n",
    "              func.strftime('%d', t.c.time).label('Tag'), func.strftime('%H', t.c.time, 'localtime').label('Stunde'), \\\n",
    "               func.round(func.avg(t.c.vfr11)).label('AVG_flow'), func.round(func.avg(t.c.s12)).label('AVG_speed')). \\\n",
    "    where(and_(t.c.s12 >0, t.c.s12 <40 )) .\\\n",
    "    group_by(func.strftime('%Y', t.c.time), func.strftime('%m', t.c.time), func.strftime('%d', t.c.time), func.strftime('%H', t.c.time)). \\\n",
    "    having(func.count(t.c.time) > 50). \\\n",
    "    order_by(func.count('Anzahl').desc()) \n",
    "    result = conn.execute(q)\n",
    "    row = result.fetchall()\n",
    "    ListAnzahl.append(len(row)) \n",
    "    df = pd.read_sql_query(q, conn)\n",
    "    df.to_csv(r'C:\\Users\\peter\\Coding\\Jupyter\\Stau\\s_' + table[10:] + '.csv', index = False)"
   ]
  },
  {
   "cell_type": "code",
   "execution_count": 76,
   "id": "0a2199dc-2d26-4bbe-ada8-726f717bc735",
   "metadata": {},
   "outputs": [
    {
     "name": "stdout",
     "output_type": "stream",
     "text": [
      "['0020_01', 0, '0020_02', 11, '0020_03', 8, '0020_04', 9, '0020_05', 83, '0020_06', 58, '0020_07', 62, '0020_08', 0, '0084_01', 153, '0084_02', 53, '0084_03', 0, '0084_04', 0, '0150_01', 0, '0150_02', 0, '0240_01', 0, '0240_02', 0, '0240_03', 74, '0240_04', 74, '0240_05', 2, '0240_06', 3, '0240_07', 1, '0240_08', 0, '0243_01', 0, '0243_02', 0, '0243_03', 4, '0243_04', 4, '0274_01', 2, '0274_02', 2, '0274_03', 2, '0274_04', 3, '0274_05', 5, '0274_06', 0, '0282_01', 5, '0282_02', 20, '0282_03', 24, '0282_04', 1, '0282_05', 1, '0282_06', 1, '0286_01', 0, '0286_02', 1, '0286_03', 1, '0286_04', 1, '0286_05', 0, '0286_06', 0, '0286_07', 0, '0286_08', 0, '0287_01', 0, '0287_02', 0, '0287_03', 0, '0287_04', 0, '0528_01', 0, '0528_02', 0, '0528_03', 0, '0528_04', 0, '0529_01', 0, '0529_02', 51, '0529_03', 113, '0529_04', 0, '0529_05', 0, '0601_01', 4, '0601_02', 1, '0601_03', 0, '0601_04', 44, '0602_01', 2, '0602_02', 1, '0602_03', 4, '0602_04', 9, '0605_01', 1, '0605_02', 0, '0605_03', 2, '0605_04', 0, '0605_05', 1, '0605_06', 0, '0605_07', 0, '0605_08', 0]\n"
     ]
    }
   ],
   "source": [
    "print(ListAnzahl)"
   ]
  },
  {
   "cell_type": "code",
   "execution_count": null,
   "id": "ca5dc981-68d2-46e4-bc53-fbb9d40f5f39",
   "metadata": {
    "tags": []
   },
   "outputs": [],
   "source": []
  },
  {
   "cell_type": "code",
   "execution_count": null,
   "id": "a4455a0c-2ea5-4544-baf2-6342bb3acdf2",
   "metadata": {},
   "outputs": [],
   "source": []
  },
  {
   "cell_type": "code",
   "execution_count": null,
   "id": "f921c480-c25a-4c4b-bce6-5efe94f0b0a5",
   "metadata": {},
   "outputs": [],
   "source": []
  },
  {
   "cell_type": "code",
   "execution_count": null,
   "id": "318ce900-b1d8-4fbc-b115-f6f305effdc6",
   "metadata": {},
   "outputs": [],
   "source": []
  },
  {
   "cell_type": "code",
   "execution_count": null,
   "id": "448f0d0b-a49a-48a3-b3c4-109e7a2a270e",
   "metadata": {},
   "outputs": [],
   "source": []
  }
 ],
 "metadata": {
  "kernelspec": {
   "display_name": "Python 3 (ipykernel)",
   "language": "python",
   "name": "python3"
  },
  "language_info": {
   "codemirror_mode": {
    "name": "ipython",
    "version": 3
   },
   "file_extension": ".py",
   "mimetype": "text/x-python",
   "name": "python",
   "nbconvert_exporter": "python",
   "pygments_lexer": "ipython3",
   "version": "3.10.9 | packaged by conda-forge | (main, Jan 11 2023, 15:15:40) [MSC v.1916 64 bit (AMD64)]"
  },
  "vscode": {
   "interpreter": {
    "hash": "222743de01b0a2f32e3840bc05ddbe845c7e0690154b3288fcb848260484a7b3"
   }
  }
 },
 "nbformat": 4,
 "nbformat_minor": 5
}
