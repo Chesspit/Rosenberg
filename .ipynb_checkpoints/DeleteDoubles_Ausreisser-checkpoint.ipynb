{
 "cells": [
  {
   "cell_type": "code",
   "execution_count": 1,
   "id": "364cf73c-29c4-4059-8c77-4a2c3609006f",
   "metadata": {},
   "outputs": [],
   "source": [
    "import sqlalchemy as db\n",
    "from sqlalchemy import create_engine\n",
    "from sqlalchemy import delete"
   ]
  },
  {
   "cell_type": "code",
   "execution_count": 2,
   "id": "8400dea9-33d8-4635-9006-6d63ed25f5a9",
   "metadata": {},
   "outputs": [],
   "source": [
    "engine = db.create_engine('sqlite:///C:\\\\Users\\\\peter\\\\Documents\\\\Projekte\\\\Zähler\\\\tc_all_new.db')"
   ]
  },
  {
   "cell_type": "code",
   "execution_count": 3,
   "id": "af520e1c-5d77-4faf-ac95-9e6ebd5ef7fb",
   "metadata": {},
   "outputs": [],
   "source": [
    "conn = engine.connect()"
   ]
  },
  {
   "cell_type": "code",
   "execution_count": 4,
   "id": "b100d105-8c21-4ec9-9aa6-3a72bbe09304",
   "metadata": {},
   "outputs": [],
   "source": [
    "import pandas as pd"
   ]
  },
  {
   "cell_type": "code",
   "execution_count": 5,
   "id": "8705f70d-68d6-4fc0-a781-ffc4112b1bf2",
   "metadata": {},
   "outputs": [],
   "source": [
    "pd.options.display.max_rows=2000"
   ]
  },
  {
   "cell_type": "markdown",
   "id": "37426d55-357e-44ff-876f-c0233a661981",
   "metadata": {},
   "source": [
    "### Erst einmal alle Tabellen auflisten"
   ]
  },
  {
   "cell_type": "code",
   "execution_count": 6,
   "id": "06a161b4-a201-42b3-877e-3260d2bc5168",
   "metadata": {},
   "outputs": [],
   "source": [
    "qt = \" SELECT name FROM sqlite_master WHERE type='table' \""
   ]
  },
  {
   "cell_type": "code",
   "execution_count": 7,
   "id": "3351269c-5bc1-45d0-840d-6073bf5429ba",
   "metadata": {},
   "outputs": [
    {
     "data": {
      "text/html": [
       "<div>\n",
       "<style scoped>\n",
       "    .dataframe tbody tr th:only-of-type {\n",
       "        vertical-align: middle;\n",
       "    }\n",
       "\n",
       "    .dataframe tbody tr th {\n",
       "        vertical-align: top;\n",
       "    }\n",
       "\n",
       "    .dataframe thead th {\n",
       "        text-align: right;\n",
       "    }\n",
       "</style>\n",
       "<table border=\"1\" class=\"dataframe\">\n",
       "  <thead>\n",
       "    <tr style=\"text-align: right;\">\n",
       "      <th></th>\n",
       "      <th>name</th>\n",
       "    </tr>\n",
       "  </thead>\n",
       "  <tbody>\n",
       "    <tr>\n",
       "      <th>0</th>\n",
       "      <td>tcsites</td>\n",
       "    </tr>\n",
       "    <tr>\n",
       "      <th>1</th>\n",
       "      <td>tcdata_CH_0529_05</td>\n",
       "    </tr>\n",
       "    <tr>\n",
       "      <th>2</th>\n",
       "      <td>tcdata_CH_0529_04</td>\n",
       "    </tr>\n",
       "    <tr>\n",
       "      <th>3</th>\n",
       "      <td>tcdata_CH_0529_03</td>\n",
       "    </tr>\n",
       "    <tr>\n",
       "      <th>4</th>\n",
       "      <td>tcdata_CH_0529_02</td>\n",
       "    </tr>\n",
       "    <tr>\n",
       "      <th>5</th>\n",
       "      <td>tcdata_CH_0529_01</td>\n",
       "    </tr>\n",
       "    <tr>\n",
       "      <th>6</th>\n",
       "      <td>tcdata_CH_0243_03</td>\n",
       "    </tr>\n",
       "    <tr>\n",
       "      <th>7</th>\n",
       "      <td>tcdata_CH_0243_04</td>\n",
       "    </tr>\n",
       "  </tbody>\n",
       "</table>\n",
       "</div>"
      ],
      "text/plain": [
       "                name\n",
       "0            tcsites\n",
       "1  tcdata_CH_0529_05\n",
       "2  tcdata_CH_0529_04\n",
       "3  tcdata_CH_0529_03\n",
       "4  tcdata_CH_0529_02\n",
       "5  tcdata_CH_0529_01\n",
       "6  tcdata_CH_0243_03\n",
       "7  tcdata_CH_0243_04"
      ]
     },
     "execution_count": 7,
     "metadata": {},
     "output_type": "execute_result"
    }
   ],
   "source": [
    "dftab = pd.read_sql_query(qt, conn)\n",
    "dftab.head(8)"
   ]
  },
  {
   "cell_type": "code",
   "execution_count": 8,
   "id": "2d459d74-2ec8-4f45-abe0-676a2e9e6f67",
   "metadata": {
    "tags": []
   },
   "outputs": [],
   "source": [
    "tablist = dftab['name']"
   ]
  },
  {
   "cell_type": "code",
   "execution_count": 9,
   "id": "4cfae70b-30c9-491f-8a6f-09c98c26a02c",
   "metadata": {
    "tags": []
   },
   "outputs": [],
   "source": [
    "tablist = tablist[1:]"
   ]
  },
  {
   "cell_type": "code",
   "execution_count": 10,
   "id": "bf0fd60d-8594-43e0-be00-ec364da67e0d",
   "metadata": {},
   "outputs": [
    {
     "data": {
      "text/plain": [
       "1     tcdata_CH_0529_05\n",
       "2     tcdata_CH_0529_04\n",
       "3     tcdata_CH_0529_03\n",
       "4     tcdata_CH_0529_02\n",
       "5     tcdata_CH_0529_01\n",
       "6     tcdata_CH_0243_03\n",
       "7     tcdata_CH_0243_04\n",
       "8     tcdata_CH_0243_01\n",
       "9     tcdata_CH_0243_02\n",
       "10    tcdata_CH_0084_01\n",
       "11    tcdata_CH_0084_03\n",
       "12    tcdata_CH_0084_02\n",
       "13    tcdata_CH_0084_04\n",
       "14    tcdata_CH_0601_01\n",
       "15    tcdata_CH_0601_02\n",
       "16    tcdata_CH_0601_03\n",
       "17    tcdata_CH_0601_04\n",
       "18    tcdata_CH_0150_01\n",
       "19    tcdata_CH_0150_02\n",
       "20    tcdata_CH_0240_01\n",
       "21    tcdata_CH_0240_02\n",
       "22    tcdata_CH_0240_03\n",
       "23    tcdata_CH_0240_04\n",
       "24    tcdata_CH_0240_05\n",
       "25    tcdata_CH_0240_06\n",
       "26    tcdata_CH_0240_07\n",
       "27    tcdata_CH_0240_08\n",
       "28    tcdata_CH_0602_02\n",
       "29    tcdata_CH_0602_03\n",
       "30    tcdata_CH_0602_04\n",
       "31    tcdata_CH_0602_01\n",
       "32    tcdata_CH_0605_07\n",
       "33    tcdata_CH_0605_08\n",
       "34    tcdata_CH_0605_05\n",
       "35    tcdata_CH_0605_06\n",
       "36    tcdata_CH_0605_03\n",
       "37    tcdata_CH_0605_04\n",
       "38    tcdata_CH_0605_01\n",
       "39    tcdata_CH_0605_02\n",
       "40    tcdata_CH_0020_08\n",
       "41    tcdata_CH_0020_02\n",
       "42    tcdata_CH_0020_03\n",
       "43    tcdata_CH_0020_01\n",
       "44    tcdata_CH_0020_06\n",
       "45    tcdata_CH_0020_07\n",
       "46    tcdata_CH_0020_04\n",
       "47    tcdata_CH_0020_05\n",
       "48    tcdata_CH_0528_03\n",
       "49    tcdata_CH_0528_04\n",
       "50    tcdata_CH_0528_01\n",
       "51    tcdata_CH_0528_02\n",
       "52    tcdata_CH_0286_01\n",
       "53    tcdata_CH_0286_05\n",
       "54    tcdata_CH_0286_04\n",
       "55    tcdata_CH_0286_03\n",
       "56    tcdata_CH_0286_02\n",
       "57    tcdata_CH_0286_08\n",
       "58    tcdata_CH_0286_07\n",
       "59    tcdata_CH_0274_05\n",
       "60    tcdata_CH_0274_06\n",
       "61    tcdata_CH_0274_01\n",
       "62    tcdata_CH_0274_02\n",
       "63    tcdata_CH_0274_03\n",
       "64    tcdata_CH_0274_04\n",
       "65    tcdata_CH_0282_06\n",
       "66    tcdata_CH_0282_01\n",
       "67    tcdata_CH_0282_03\n",
       "68    tcdata_CH_0282_02\n",
       "69    tcdata_CH_0282_05\n",
       "70    tcdata_CH_0282_04\n",
       "71    tcdata_CH_0287_01\n",
       "72    tcdata_CH_0287_02\n",
       "73    tcdata_CH_0287_03\n",
       "74    tcdata_CH_0287_04\n",
       "75    tcdata_CH_0286_06\n",
       "Name: name, dtype: object"
      ]
     },
     "execution_count": 10,
     "metadata": {},
     "output_type": "execute_result"
    }
   ],
   "source": [
    "tablist"
   ]
  },
  {
   "cell_type": "markdown",
   "id": "652cdb73-5240-4c87-9b72-52ff434997dc",
   "metadata": {},
   "source": [
    "### OK, das ist die Liste aller Tabellen, die als String vorliegen!"
   ]
  },
  {
   "cell_type": "markdown",
   "id": "95209d33-9247-4a80-9245-783a83e3c0ae",
   "metadata": {},
   "source": [
    "---"
   ]
  },
  {
   "cell_type": "markdown",
   "id": "258faf44-f161-43a9-a43c-90b801a39c2b",
   "metadata": {},
   "source": [
    "### Und jetzt die Zeiträume feststellen, an denen es viele Multiple gibt ||"
   ]
  },
  {
   "cell_type": "code",
   "execution_count": 11,
   "id": "21e43e96-e312-4312-ad0a-e41abded9814",
   "metadata": {
    "tags": []
   },
   "outputs": [],
   "source": [
    "query ='''\n",
    "SELECT \n",
    "    rowid as id, time as TIME, COUNT(time) as Anzahl\n",
    "    FROM tcdata_CH_0084_04\n",
    "    GROUP BY time\n",
    "    HAVING COUNT() > 1\n",
    " '''"
   ]
  },
  {
   "cell_type": "code",
   "execution_count": 12,
   "id": "5e310a63-657f-4695-9276-c03adc60139e",
   "metadata": {},
   "outputs": [
    {
     "data": {
      "text/html": [
       "<div>\n",
       "<style scoped>\n",
       "    .dataframe tbody tr th:only-of-type {\n",
       "        vertical-align: middle;\n",
       "    }\n",
       "\n",
       "    .dataframe tbody tr th {\n",
       "        vertical-align: top;\n",
       "    }\n",
       "\n",
       "    .dataframe thead th {\n",
       "        text-align: right;\n",
       "    }\n",
       "</style>\n",
       "<table border=\"1\" class=\"dataframe\">\n",
       "  <thead>\n",
       "    <tr style=\"text-align: right;\">\n",
       "      <th></th>\n",
       "      <th>id</th>\n",
       "      <th>TIME</th>\n",
       "      <th>Anzahl</th>\n",
       "    </tr>\n",
       "  </thead>\n",
       "  <tbody>\n",
       "    <tr>\n",
       "      <th>0</th>\n",
       "      <td>224233</td>\n",
       "      <td>2022-09-05 08:53:00+02:00</td>\n",
       "      <td>2</td>\n",
       "    </tr>\n",
       "    <tr>\n",
       "      <th>1</th>\n",
       "      <td>224501</td>\n",
       "      <td>2022-09-05 18:53:00+02:00</td>\n",
       "      <td>2</td>\n",
       "    </tr>\n",
       "    <tr>\n",
       "      <th>2</th>\n",
       "      <td>224812</td>\n",
       "      <td>2022-09-06 08:53:00+02:00</td>\n",
       "      <td>2</td>\n",
       "    </tr>\n",
       "    <tr>\n",
       "      <th>3</th>\n",
       "      <td>225076</td>\n",
       "      <td>2022-09-06 18:53:00+02:00</td>\n",
       "      <td>2</td>\n",
       "    </tr>\n",
       "    <tr>\n",
       "      <th>4</th>\n",
       "      <td>225386</td>\n",
       "      <td>2022-09-07 08:53:00+02:00</td>\n",
       "      <td>2</td>\n",
       "    </tr>\n",
       "    <tr>\n",
       "      <th>5</th>\n",
       "      <td>225653</td>\n",
       "      <td>2022-09-07 18:53:00+02:00</td>\n",
       "      <td>2</td>\n",
       "    </tr>\n",
       "    <tr>\n",
       "      <th>6</th>\n",
       "      <td>225963</td>\n",
       "      <td>2022-09-08 08:53:00+02:00</td>\n",
       "      <td>2</td>\n",
       "    </tr>\n",
       "    <tr>\n",
       "      <th>7</th>\n",
       "      <td>226228</td>\n",
       "      <td>2022-09-08 18:53:00+02:00</td>\n",
       "      <td>2</td>\n",
       "    </tr>\n",
       "    <tr>\n",
       "      <th>8</th>\n",
       "      <td>226538</td>\n",
       "      <td>2022-09-09 08:53:00+02:00</td>\n",
       "      <td>2</td>\n",
       "    </tr>\n",
       "    <tr>\n",
       "      <th>9</th>\n",
       "      <td>226804</td>\n",
       "      <td>2022-09-09 18:53:00+02:00</td>\n",
       "      <td>2</td>\n",
       "    </tr>\n",
       "    <tr>\n",
       "      <th>10</th>\n",
       "      <td>227115</td>\n",
       "      <td>2022-09-10 08:53:00+02:00</td>\n",
       "      <td>2</td>\n",
       "    </tr>\n",
       "    <tr>\n",
       "      <th>11</th>\n",
       "      <td>227381</td>\n",
       "      <td>2022-09-10 18:53:00+02:00</td>\n",
       "      <td>2</td>\n",
       "    </tr>\n",
       "    <tr>\n",
       "      <th>12</th>\n",
       "      <td>227691</td>\n",
       "      <td>2022-09-11 08:53:00+02:00</td>\n",
       "      <td>2</td>\n",
       "    </tr>\n",
       "    <tr>\n",
       "      <th>13</th>\n",
       "      <td>227956</td>\n",
       "      <td>2022-09-11 18:53:00+02:00</td>\n",
       "      <td>2</td>\n",
       "    </tr>\n",
       "    <tr>\n",
       "      <th>14</th>\n",
       "      <td>228266</td>\n",
       "      <td>2022-09-12 08:53:00+02:00</td>\n",
       "      <td>2</td>\n",
       "    </tr>\n",
       "    <tr>\n",
       "      <th>15</th>\n",
       "      <td>228532</td>\n",
       "      <td>2022-09-12 18:53:00+02:00</td>\n",
       "      <td>2</td>\n",
       "    </tr>\n",
       "    <tr>\n",
       "      <th>16</th>\n",
       "      <td>228844</td>\n",
       "      <td>2022-09-13 08:53:00+02:00</td>\n",
       "      <td>2</td>\n",
       "    </tr>\n",
       "    <tr>\n",
       "      <th>17</th>\n",
       "      <td>229107</td>\n",
       "      <td>2022-09-13 18:53:00+02:00</td>\n",
       "      <td>2</td>\n",
       "    </tr>\n",
       "    <tr>\n",
       "      <th>18</th>\n",
       "      <td>229413</td>\n",
       "      <td>2022-09-14 08:53:00+02:00</td>\n",
       "      <td>2</td>\n",
       "    </tr>\n",
       "    <tr>\n",
       "      <th>19</th>\n",
       "      <td>229591</td>\n",
       "      <td>2022-09-14 17:25:00+02:00</td>\n",
       "      <td>2</td>\n",
       "    </tr>\n",
       "    <tr>\n",
       "      <th>20</th>\n",
       "      <td>229679</td>\n",
       "      <td>2022-09-14 18:53:00+02:00</td>\n",
       "      <td>2</td>\n",
       "    </tr>\n",
       "    <tr>\n",
       "      <th>21</th>\n",
       "      <td>229989</td>\n",
       "      <td>2022-09-15 08:53:00+02:00</td>\n",
       "      <td>2</td>\n",
       "    </tr>\n",
       "    <tr>\n",
       "      <th>22</th>\n",
       "      <td>230255</td>\n",
       "      <td>2022-09-15 18:53:00+02:00</td>\n",
       "      <td>2</td>\n",
       "    </tr>\n",
       "    <tr>\n",
       "      <th>23</th>\n",
       "      <td>230453</td>\n",
       "      <td>2022-09-16 07:02:00+02:00</td>\n",
       "      <td>2</td>\n",
       "    </tr>\n",
       "    <tr>\n",
       "      <th>24</th>\n",
       "      <td>230563</td>\n",
       "      <td>2022-09-16 08:53:00+02:00</td>\n",
       "      <td>2</td>\n",
       "    </tr>\n",
       "    <tr>\n",
       "      <th>25</th>\n",
       "      <td>230830</td>\n",
       "      <td>2022-09-16 18:53:00+02:00</td>\n",
       "      <td>2</td>\n",
       "    </tr>\n",
       "    <tr>\n",
       "      <th>26</th>\n",
       "      <td>231141</td>\n",
       "      <td>2022-09-17 08:53:00+02:00</td>\n",
       "      <td>2</td>\n",
       "    </tr>\n",
       "    <tr>\n",
       "      <th>27</th>\n",
       "      <td>231407</td>\n",
       "      <td>2022-09-17 18:53:00+02:00</td>\n",
       "      <td>2</td>\n",
       "    </tr>\n",
       "    <tr>\n",
       "      <th>28</th>\n",
       "      <td>231718</td>\n",
       "      <td>2022-09-18 08:53:00+02:00</td>\n",
       "      <td>2</td>\n",
       "    </tr>\n",
       "  </tbody>\n",
       "</table>\n",
       "</div>"
      ],
      "text/plain": [
       "        id                       TIME  Anzahl\n",
       "0   224233  2022-09-05 08:53:00+02:00       2\n",
       "1   224501  2022-09-05 18:53:00+02:00       2\n",
       "2   224812  2022-09-06 08:53:00+02:00       2\n",
       "3   225076  2022-09-06 18:53:00+02:00       2\n",
       "4   225386  2022-09-07 08:53:00+02:00       2\n",
       "5   225653  2022-09-07 18:53:00+02:00       2\n",
       "6   225963  2022-09-08 08:53:00+02:00       2\n",
       "7   226228  2022-09-08 18:53:00+02:00       2\n",
       "8   226538  2022-09-09 08:53:00+02:00       2\n",
       "9   226804  2022-09-09 18:53:00+02:00       2\n",
       "10  227115  2022-09-10 08:53:00+02:00       2\n",
       "11  227381  2022-09-10 18:53:00+02:00       2\n",
       "12  227691  2022-09-11 08:53:00+02:00       2\n",
       "13  227956  2022-09-11 18:53:00+02:00       2\n",
       "14  228266  2022-09-12 08:53:00+02:00       2\n",
       "15  228532  2022-09-12 18:53:00+02:00       2\n",
       "16  228844  2022-09-13 08:53:00+02:00       2\n",
       "17  229107  2022-09-13 18:53:00+02:00       2\n",
       "18  229413  2022-09-14 08:53:00+02:00       2\n",
       "19  229591  2022-09-14 17:25:00+02:00       2\n",
       "20  229679  2022-09-14 18:53:00+02:00       2\n",
       "21  229989  2022-09-15 08:53:00+02:00       2\n",
       "22  230255  2022-09-15 18:53:00+02:00       2\n",
       "23  230453  2022-09-16 07:02:00+02:00       2\n",
       "24  230563  2022-09-16 08:53:00+02:00       2\n",
       "25  230830  2022-09-16 18:53:00+02:00       2\n",
       "26  231141  2022-09-17 08:53:00+02:00       2\n",
       "27  231407  2022-09-17 18:53:00+02:00       2\n",
       "28  231718  2022-09-18 08:53:00+02:00       2"
      ]
     },
     "execution_count": 12,
     "metadata": {},
     "output_type": "execute_result"
    }
   ],
   "source": [
    "df = pd.read_sql_query(query, conn)\n",
    "df.head(29)"
   ]
  },
  {
   "cell_type": "markdown",
   "id": "1177e5e5-d644-4bff-b6ff-7350c72fbc61",
   "metadata": {
    "tags": []
   },
   "source": [
    "### ...also, die Zeilennummern (rowid) feststellen und die restlichen Multiplen löschen!"
   ]
  },
  {
   "cell_type": "code",
   "execution_count": 13,
   "id": "2932ddd2-5165-47e9-858f-47662d7c04dd",
   "metadata": {
    "tags": []
   },
   "outputs": [],
   "source": [
    "lst=df['id']"
   ]
  },
  {
   "cell_type": "code",
   "execution_count": 14,
   "id": "3f24259f-b5ca-4f2b-be8f-5c2eb547cb70",
   "metadata": {
    "tags": []
   },
   "outputs": [
    {
     "data": {
      "text/plain": [
       "0    224233\n",
       "1    224501\n",
       "2    224812\n",
       "3    225076\n",
       "4    225386\n",
       "5    225653\n",
       "6    225963\n",
       "7    226228\n",
       "Name: id, dtype: int64"
      ]
     },
     "execution_count": 14,
     "metadata": {},
     "output_type": "execute_result"
    }
   ],
   "source": [
    "lst[0:8]"
   ]
  },
  {
   "cell_type": "markdown",
   "id": "eb5aba59-fc26-4366-a774-5c26f2c0a267",
   "metadata": {},
   "source": [
    "for t in lst:\n",
    "    dq = \"DELETE FROM tcdata_CH_0287_01 WHERE rowid = \" + str(t)\n",
    "    conn.execute(dq)"
   ]
  },
  {
   "cell_type": "markdown",
   "id": "8cb440c1-578a-44ae-beb4-599cba07d6bd",
   "metadata": {},
   "source": [
    "### ... unten zwei Abfragen, bei denen ich sehen kann, ob der einfache Count und der Count(distinct) gleich sind!"
   ]
  },
  {
   "cell_type": "code",
   "execution_count": 100,
   "id": "247192c1-e8d2-45c4-851c-2d83e21c9e4b",
   "metadata": {
    "tags": []
   },
   "outputs": [],
   "source": [
    "q_c ='''\n",
    "SELECT \n",
    "    COUNT(DISTINCT time)\n",
    "    FROM tcdata_CH_0287_02\n",
    " '''"
   ]
  },
  {
   "cell_type": "code",
   "execution_count": 101,
   "id": "dfa838b4-eea9-46fe-bd38-cf15b5934cf6",
   "metadata": {},
   "outputs": [
    {
     "data": {
      "text/plain": [
       "(169311,)"
      ]
     },
     "execution_count": 101,
     "metadata": {},
     "output_type": "execute_result"
    }
   ],
   "source": [
    "res = conn.execute(q_c)\n",
    "res.fetchone()"
   ]
  },
  {
   "cell_type": "code",
   "execution_count": 102,
   "id": "7db9968e-ebb3-43e3-bfd3-b8fc0024e8ed",
   "metadata": {
    "tags": []
   },
   "outputs": [],
   "source": [
    "q_cd ='''\n",
    "SELECT \n",
    "    COUNT()\n",
    "    FROM tcdata_CH_0287_02\n",
    " '''"
   ]
  },
  {
   "cell_type": "code",
   "execution_count": 103,
   "id": "7109943b-ff1d-4954-9920-4b41663e23af",
   "metadata": {},
   "outputs": [
    {
     "data": {
      "text/plain": [
       "(171061,)"
      ]
     },
     "execution_count": 103,
     "metadata": {},
     "output_type": "execute_result"
    }
   ],
   "source": [
    "res = conn.execute(q_cd)\n",
    "res.fetchone()"
   ]
  },
  {
   "cell_type": "markdown",
   "id": "fc741795-7214-4915-85ad-10366b31bae7",
   "metadata": {},
   "source": [
    "---"
   ]
  },
  {
   "cell_type": "markdown",
   "id": "d92f6943-19f5-4a33-b4c9-195eb2ff5a0a",
   "metadata": {},
   "source": [
    "#### Ok, aber mit folgender Idee geht das Löschen mit einem Mal: Man stellt pro Zeitpunkt die Reihe mit der (zB) kleinsten **rowid** fest und löscht dann den Rest!"
   ]
  },
  {
   "cell_type": "code",
   "execution_count": null,
   "id": "5d7c87fb-684a-495f-b268-c3dbd86020e1",
   "metadata": {},
   "outputs": [],
   "source": []
  },
  {
   "cell_type": "code",
   "execution_count": 32,
   "id": "04bb3fc0-c83c-4f91-81b5-da44728e4295",
   "metadata": {},
   "outputs": [],
   "source": [
    "query ='''\n",
    "SELECT \n",
    "    min(rowid) as id, time as TIME, COUNT(time) as Anzahl\n",
    "    FROM tcdata_CH_0287_02\n",
    "    GROUP BY time\n",
    "    ORDER BY Anzahl DESC\n",
    " '''"
   ]
  },
  {
   "cell_type": "code",
   "execution_count": 34,
   "id": "a3288183-7be9-46f3-839c-e3cdf1a186cf",
   "metadata": {},
   "outputs": [
    {
     "data": {
      "text/html": [
       "<div>\n",
       "<style scoped>\n",
       "    .dataframe tbody tr th:only-of-type {\n",
       "        vertical-align: middle;\n",
       "    }\n",
       "\n",
       "    .dataframe tbody tr th {\n",
       "        vertical-align: top;\n",
       "    }\n",
       "\n",
       "    .dataframe thead th {\n",
       "        text-align: right;\n",
       "    }\n",
       "</style>\n",
       "<table border=\"1\" class=\"dataframe\">\n",
       "  <thead>\n",
       "    <tr style=\"text-align: right;\">\n",
       "      <th></th>\n",
       "      <th>id</th>\n",
       "      <th>TIME</th>\n",
       "      <th>Anzahl</th>\n",
       "    </tr>\n",
       "  </thead>\n",
       "  <tbody>\n",
       "    <tr>\n",
       "      <th>0</th>\n",
       "      <td>204844</td>\n",
       "      <td>2022-08-31 05:48:00+02:00</td>\n",
       "      <td>1</td>\n",
       "    </tr>\n",
       "    <tr>\n",
       "      <th>1</th>\n",
       "      <td>204843</td>\n",
       "      <td>2022-08-31 05:43:00+02:00</td>\n",
       "      <td>1</td>\n",
       "    </tr>\n",
       "    <tr>\n",
       "      <th>2</th>\n",
       "      <td>204842</td>\n",
       "      <td>2022-08-31 05:38:00+02:00</td>\n",
       "      <td>1</td>\n",
       "    </tr>\n",
       "    <tr>\n",
       "      <th>3</th>\n",
       "      <td>204841</td>\n",
       "      <td>2022-08-31 05:33:00+02:00</td>\n",
       "      <td>1</td>\n",
       "    </tr>\n",
       "    <tr>\n",
       "      <th>4</th>\n",
       "      <td>204840</td>\n",
       "      <td>2022-08-31 05:28:00+02:00</td>\n",
       "      <td>1</td>\n",
       "    </tr>\n",
       "    <tr>\n",
       "      <th>5</th>\n",
       "      <td>204839</td>\n",
       "      <td>2022-08-31 05:23:00+02:00</td>\n",
       "      <td>1</td>\n",
       "    </tr>\n",
       "    <tr>\n",
       "      <th>6</th>\n",
       "      <td>204838</td>\n",
       "      <td>2022-08-31 05:18:00+02:00</td>\n",
       "      <td>1</td>\n",
       "    </tr>\n",
       "    <tr>\n",
       "      <th>7</th>\n",
       "      <td>204837</td>\n",
       "      <td>2022-08-31 05:13:00+02:00</td>\n",
       "      <td>1</td>\n",
       "    </tr>\n",
       "  </tbody>\n",
       "</table>\n",
       "</div>"
      ],
      "text/plain": [
       "       id                       TIME  Anzahl\n",
       "0  204844  2022-08-31 05:48:00+02:00       1\n",
       "1  204843  2022-08-31 05:43:00+02:00       1\n",
       "2  204842  2022-08-31 05:38:00+02:00       1\n",
       "3  204841  2022-08-31 05:33:00+02:00       1\n",
       "4  204840  2022-08-31 05:28:00+02:00       1\n",
       "5  204839  2022-08-31 05:23:00+02:00       1\n",
       "6  204838  2022-08-31 05:18:00+02:00       1\n",
       "7  204837  2022-08-31 05:13:00+02:00       1"
      ]
     },
     "execution_count": 34,
     "metadata": {},
     "output_type": "execute_result"
    }
   ],
   "source": [
    "df = pd.read_sql_query(query, conn)\n",
    "df.head(8)"
   ]
  },
  {
   "cell_type": "markdown",
   "id": "58353ba4-65ed-4141-82ae-b308522664dc",
   "metadata": {},
   "source": [
    "#### ... und die ID im Einsatz..."
   ]
  },
  {
   "cell_type": "code",
   "execution_count": 20,
   "id": "bdf11de0-a236-4c04-990b-e443a6b730e9",
   "metadata": {},
   "outputs": [],
   "source": [
    "d_query ='''\n",
    "DELETE\n",
    "    FROM tcdata_CH_0287_02\n",
    "    WHERE rowid NOT IN\n",
    "        (\n",
    "        SELECT min(rowid)        \n",
    "        FROM tcdata_CH_0287_02\n",
    "        GROUP BY time\n",
    "        )\n",
    " '''"
   ]
  },
  {
   "cell_type": "code",
   "execution_count": 21,
   "id": "882a3b7a-b13d-4156-8209-e619a3dd8468",
   "metadata": {},
   "outputs": [
    {
     "data": {
      "text/plain": [
       "<sqlalchemy.engine.cursor.LegacyCursorResult at 0x21091f85f40>"
      ]
     },
     "execution_count": 21,
     "metadata": {},
     "output_type": "execute_result"
    }
   ],
   "source": [
    "conn.execute(d_query)"
   ]
  },
  {
   "cell_type": "markdown",
   "id": "f99de191-1749-4094-bb65-bbc3a257b99e",
   "metadata": {},
   "source": [
    "#### Und vor dem Loop noch eine Abfrage nach NULLs. Und Löschung der NULLs!"
   ]
  },
  {
   "cell_type": "code",
   "execution_count": 16,
   "id": "4668e095-625d-4642-bfe2-2b96bc0ebd0d",
   "metadata": {
    "tags": []
   },
   "outputs": [],
   "source": [
    "query ='''\n",
    "SELECT \n",
    "    rowid as id, time as TIME, vfr11 as FLOW\n",
    "    FROM tcdata_CH_0274_05\n",
    "    WHERE vfr11 IS NULL\n",
    " '''"
   ]
  },
  {
   "cell_type": "code",
   "execution_count": 18,
   "id": "e9770d28-6be1-400a-8c42-31c70b31f553",
   "metadata": {},
   "outputs": [
    {
     "data": {
      "text/html": [
       "<div>\n",
       "<style scoped>\n",
       "    .dataframe tbody tr th:only-of-type {\n",
       "        vertical-align: middle;\n",
       "    }\n",
       "\n",
       "    .dataframe tbody tr th {\n",
       "        vertical-align: top;\n",
       "    }\n",
       "\n",
       "    .dataframe thead th {\n",
       "        text-align: right;\n",
       "    }\n",
       "</style>\n",
       "<table border=\"1\" class=\"dataframe\">\n",
       "  <thead>\n",
       "    <tr style=\"text-align: right;\">\n",
       "      <th></th>\n",
       "      <th>id</th>\n",
       "      <th>TIME</th>\n",
       "      <th>FLOW</th>\n",
       "    </tr>\n",
       "  </thead>\n",
       "  <tbody>\n",
       "    <tr>\n",
       "      <th>0</th>\n",
       "      <td>221502</td>\n",
       "      <td>2022-08-31 16:54:00+02:00</td>\n",
       "      <td>None</td>\n",
       "    </tr>\n",
       "    <tr>\n",
       "      <th>1</th>\n",
       "      <td>221560</td>\n",
       "      <td>2022-08-31 17:52:00+02:00</td>\n",
       "      <td>None</td>\n",
       "    </tr>\n",
       "    <tr>\n",
       "      <th>2</th>\n",
       "      <td>221629</td>\n",
       "      <td>2022-08-31 19:28:00+02:00</td>\n",
       "      <td>None</td>\n",
       "    </tr>\n",
       "    <tr>\n",
       "      <th>3</th>\n",
       "      <td>222029</td>\n",
       "      <td>2022-09-01 16:04:00+02:00</td>\n",
       "      <td>None</td>\n",
       "    </tr>\n",
       "    <tr>\n",
       "      <th>4</th>\n",
       "      <td>222162</td>\n",
       "      <td>2022-09-01 18:18:00+02:00</td>\n",
       "      <td>None</td>\n",
       "    </tr>\n",
       "    <tr>\n",
       "      <th>5</th>\n",
       "      <td>222716</td>\n",
       "      <td>2022-09-02 17:56:00+02:00</td>\n",
       "      <td>None</td>\n",
       "    </tr>\n",
       "    <tr>\n",
       "      <th>6</th>\n",
       "      <td>222721</td>\n",
       "      <td>2022-09-02 18:01:00+02:00</td>\n",
       "      <td>None</td>\n",
       "    </tr>\n",
       "    <tr>\n",
       "      <th>7</th>\n",
       "      <td>223111</td>\n",
       "      <td>2022-09-03 10:58:00+02:00</td>\n",
       "      <td>None</td>\n",
       "    </tr>\n",
       "    <tr>\n",
       "      <th>8</th>\n",
       "      <td>223274</td>\n",
       "      <td>2022-09-03 17:38:00+02:00</td>\n",
       "      <td>None</td>\n",
       "    </tr>\n",
       "    <tr>\n",
       "      <th>9</th>\n",
       "      <td>223694</td>\n",
       "      <td>2022-09-04 11:34:00+02:00</td>\n",
       "      <td>None</td>\n",
       "    </tr>\n",
       "    <tr>\n",
       "      <th>10</th>\n",
       "      <td>223738</td>\n",
       "      <td>2022-09-04 15:14:00+02:00</td>\n",
       "      <td>None</td>\n",
       "    </tr>\n",
       "  </tbody>\n",
       "</table>\n",
       "</div>"
      ],
      "text/plain": [
       "        id                       TIME  FLOW\n",
       "0   221502  2022-08-31 16:54:00+02:00  None\n",
       "1   221560  2022-08-31 17:52:00+02:00  None\n",
       "2   221629  2022-08-31 19:28:00+02:00  None\n",
       "3   222029  2022-09-01 16:04:00+02:00  None\n",
       "4   222162  2022-09-01 18:18:00+02:00  None\n",
       "5   222716  2022-09-02 17:56:00+02:00  None\n",
       "6   222721  2022-09-02 18:01:00+02:00  None\n",
       "7   223111  2022-09-03 10:58:00+02:00  None\n",
       "8   223274  2022-09-03 17:38:00+02:00  None\n",
       "9   223694  2022-09-04 11:34:00+02:00  None\n",
       "10  223738  2022-09-04 15:14:00+02:00  None"
      ]
     },
     "execution_count": 18,
     "metadata": {},
     "output_type": "execute_result"
    }
   ],
   "source": [
    "df = pd.read_sql_query(query, conn)\n",
    "df.head(99)"
   ]
  },
  {
   "cell_type": "markdown",
   "id": "5fec57e4-3fd0-4d49-ad65-9d7da403a07a",
   "metadata": {},
   "source": [
    "### Bem. Den Datensatz zu 274_06 habe ich durch falsches Löschen platt gemacht!"
   ]
  },
  {
   "cell_type": "code",
   "execution_count": null,
   "id": "45a39c56-41e1-4fc1-b337-ceab2a393fb0",
   "metadata": {},
   "outputs": [],
   "source": []
  },
  {
   "cell_type": "markdown",
   "id": "6b2e2d62-2162-427e-a2eb-2418079021e4",
   "metadata": {},
   "source": [
    "#### Also, zum Abschluss in einem Loop alle Tabellen durchlaufen. Vermutlich muss ich die Query auf einer einzelnen Zeile schreiben"
   ]
  },
  {
   "cell_type": "code",
   "execution_count": null,
   "id": "53dbe6fe-d1c7-482a-a9be-c103fc3cd88a",
   "metadata": {},
   "outputs": [],
   "source": []
  },
  {
   "cell_type": "code",
   "execution_count": 28,
   "id": "72d43f82-ed92-47ce-93cb-a0b0fb8600d3",
   "metadata": {
    "tags": []
   },
   "outputs": [],
   "source": [
    "for tab in tablist:\n",
    "    dq = \"DELETE FROM \" + tab + \" WHERE rowid NOT IN (SELECT min(rowid) FROM \" + tab + \" GROUP BY time)\"\n",
    "    conn.execute(dq)"
   ]
  },
  {
   "cell_type": "code",
   "execution_count": 29,
   "id": "cd4c93a4-9b91-4c6c-bca1-73e21e80e442",
   "metadata": {},
   "outputs": [],
   "source": [
    "for tab in tablist:\n",
    "    dq = \"DELETE FROM \" + tab + \" WHERE vfr11 IS NULL\"\n",
    "    conn.execute(dq)"
   ]
  },
  {
   "cell_type": "code",
   "execution_count": 30,
   "id": "fa7ac313-83a8-41ea-bc3d-11ef3b8c2d0e",
   "metadata": {},
   "outputs": [
    {
     "name": "stdout",
     "output_type": "stream",
     "text": [
      "(221101, 221101)\n",
      "(191372, 191372)\n",
      "(220152, 220152)\n",
      "(166651, 166651)\n",
      "(221181, 221181)\n",
      "(221365, 221365)\n",
      "(221416, 221416)\n",
      "(221449, 221449)\n",
      "(221159, 221159)\n",
      "(221385, 221385)\n",
      "(221385, 221385)\n",
      "(221385, 221385)\n",
      "(221385, 221385)\n",
      "(221097, 221097)\n",
      "(221093, 221093)\n",
      "(221568, 221568)\n",
      "(220813, 220813)\n",
      "(220276, 220276)\n",
      "(220224, 220224)\n",
      "(221585, 221585)\n",
      "(221599, 221599)\n",
      "(221531, 221531)\n",
      "(221546, 221546)\n",
      "(221535, 221535)\n",
      "(221528, 221528)\n",
      "(221577, 221577)\n",
      "(221599, 221599)\n",
      "(220319, 220319)\n",
      "(220319, 220319)\n",
      "(220319, 220319)\n",
      "(220319, 220319)\n",
      "(221346, 221346)\n",
      "(221024, 221024)\n",
      "(221511, 221511)\n",
      "(221583, 221583)\n",
      "(221010, 221010)\n",
      "(221595, 221595)\n",
      "(221551, 221551)\n",
      "(221115, 221115)\n",
      "(221599, 221599)\n",
      "(221557, 221557)\n",
      "(221525, 221525)\n",
      "(221599, 221599)\n",
      "(221528, 221528)\n",
      "(221581, 221581)\n",
      "(221568, 221568)\n",
      "(221543, 221543)\n",
      "(203360, 203360)\n",
      "(221291, 221291)\n",
      "(220941, 220941)\n",
      "(220906, 220906)\n",
      "(16282, 16282)\n",
      "(16282, 16282)\n",
      "(16282, 16282)\n",
      "(16282, 16282)\n",
      "(16282, 16282)\n",
      "(16282, 16282)\n",
      "(16282, 16282)\n",
      "(220252, 220252)\n",
      "(2853, 2853)\n",
      "(220649, 220649)\n",
      "(220435, 220435)\n",
      "(220615, 220615)\n",
      "(220451, 220451)\n",
      "(221560, 221560)\n",
      "(221560, 221560)\n",
      "(221562, 221562)\n",
      "(221560, 221560)\n",
      "(221560, 221560)\n",
      "(221560, 221560)\n",
      "(0, 0)\n",
      "(0, 0)\n",
      "(0, 0)\n",
      "(0, 0)\n",
      "(179, 179)\n"
     ]
    }
   ],
   "source": [
    "for tab in tablist:\n",
    "    cq = \"SELECT COUNT(DISTINCT time), COUNT() FROM \" + tab \n",
    "    res = conn.execute(cq)\n",
    "    num = res.fetchone()\n",
    "    print(num)"
   ]
  },
  {
   "cell_type": "markdown",
   "id": "88edc1c1-6ac9-44df-8094-0b381a44261a",
   "metadata": {},
   "source": [
    "#### Ok, mir ist noch aufgefallen, dass ich ggf. Ausreisser bei Flow und speed habe!"
   ]
  },
  {
   "cell_type": "code",
   "execution_count": 20,
   "id": "bdc8d301-5099-40d0-9112-ce06d0aed6a6",
   "metadata": {
    "tags": []
   },
   "outputs": [],
   "source": [
    "outlier_flow1 = []\n",
    "\n",
    "for tab in tablist:\n",
    "    outlier_flow1.append(tab[10:])\n",
    "    cq = \"SELECT COUNT(time), MAX(vfr11) FROM \" + tab + \" WHERE vfr11 > 4200\" \n",
    "    res = conn.execute(cq)\n",
    "    num = res.fetchone()\n",
    "    outlier_flow1.append(num)"
   ]
  },
  {
   "cell_type": "code",
   "execution_count": 21,
   "id": "745bf10f-a95c-49dd-b5f0-f92c4e9398bd",
   "metadata": {
    "tags": []
   },
   "outputs": [
    {
     "name": "stdout",
     "output_type": "stream",
     "text": [
      "['0529_05', (0, None), '0529_04', (0, None), '0529_03', (0, None), '0529_02', (0, None), '0529_01', (0, None), '0243_03', (0, None), '0243_04', (0, None), '0243_01', (0, None), '0243_02', (0, None), '0084_01', (0, None), '0084_03', (0, None), '0084_02', (0, None), '0084_04', (0, None), '0601_01', (0, None), '0601_02', (0, None), '0601_03', (0, None), '0601_04', (0, None), '0150_01', (0, None), '0150_02', (0, None), '0240_01', (0, None), '0240_02', (0, None), '0240_03', (0, None), '0240_04', (0, None), '0240_05', (0, None), '0240_06', (0, None), '0240_07', (0, None), '0240_08', (0, None), '0602_02', (0, None), '0602_03', (0, None), '0602_04', (0, None), '0602_01', (0, None), '0605_07', (0, None), '0605_08', (0, None), '0605_05', (0, None), '0605_06', (0, None), '0605_03', (0, None), '0605_04', (0, None), '0605_01', (0, None), '0605_02', (0, None), '0020_08', (0, None), '0020_02', (0, None), '0020_03', (0, None), '0020_01', (0, None), '0020_06', (0, None), '0020_07', (0, None), '0020_04', (0, None), '0020_05', (0, None), '0528_03', (0, None), '0528_04', (0, None), '0528_01', (0, None), '0528_02', (0, None), '0286_01', (0, None), '0286_05', (0, None), '0286_04', (0, None), '0286_03', (0, None), '0286_02', (0, None), '0286_08', (0, None), '0286_07', (0, None), '0274_05', (0, None), '0274_06', (0, None), '0274_01', (0, None), '0274_02', (0, None), '0274_03', (0, None), '0274_04', (0, None), '0282_06', (0, None), '0282_01', (0, None), '0282_03', (0, None), '0282_02', (0, None), '0282_05', (0, None), '0282_04', (0, None), '0287_01', (0, None), '0287_02', (0, None), '0287_03', (0, None), '0287_04', (0, None), '0286_06', (0, None)]\n"
     ]
    }
   ],
   "source": [
    "print(outlier_flow1)"
   ]
  },
  {
   "cell_type": "code",
   "execution_count": null,
   "id": "c14f9988-2edd-4057-91ae-4760989ba6c5",
   "metadata": {
    "tags": []
   },
   "outputs": [],
   "source": []
  },
  {
   "cell_type": "code",
   "execution_count": 22,
   "id": "ccb92b27-f5cf-4114-986c-162345229e8b",
   "metadata": {
    "tags": []
   },
   "outputs": [],
   "source": [
    "outlier_flow2 = []\n",
    "\n",
    "for tab in tablist:\n",
    "    outlier_flow1.append(tab[10:])\n",
    "    cq = \"SELECT COUNT(time), MAX(vfr21) FROM \" + tab + \" WHERE vfr21 > 1800\" \n",
    "    res = conn.execute(cq)\n",
    "    num = res.fetchone()\n",
    "    outlier_flow2.append(num)\n",
    "    outlier_flow2"
   ]
  },
  {
   "cell_type": "code",
   "execution_count": 23,
   "id": "64f8dbe0-95d8-4265-96e1-d81b85fbef55",
   "metadata": {},
   "outputs": [
    {
     "name": "stdout",
     "output_type": "stream",
     "text": [
      "[(0, None), (0, None), (0, None), (0, None), (0, None), (0, None), (0, None), (0, None), (0, None), (0, None), (0, None), (0, None), (0, None), (0, None), (0, None), (0, None), (0, None), (0, None), (0, None), (0, None), (0, None), (0, None), (0, None), (0, None), (0, None), (0, None), (0, None), (0, None), (0, None), (0, None), (0, None), (0, None), (0, None), (0, None), (0, None), (0, None), (0, None), (0, None), (0, None), (0, None), (1, 1920.0), (0, None), (0, None), (0, None), (3, 2280.0), (0, None), (0, None), (0, None), (0, None), (0, None), (0, None), (0, None), (0, None), (0, None), (0, None), (0, None), (0, None), (0, None), (0, None), (0, None), (0, None), (0, None), (0, None), (0, None), (0, None), (0, None), (0, None), (0, None), (0, None), (0, None), (0, None), (0, None), (0, None), (0, None), (0, None)]\n"
     ]
    }
   ],
   "source": [
    "print(outlier_flow2)"
   ]
  },
  {
   "cell_type": "code",
   "execution_count": null,
   "id": "147ecfc5-9953-44dd-b7ff-fb6b2ecc9d40",
   "metadata": {},
   "outputs": [],
   "source": []
  },
  {
   "cell_type": "code",
   "execution_count": 24,
   "id": "e31e9a19-d788-422e-9184-48eafef1eb1b",
   "metadata": {
    "tags": []
   },
   "outputs": [],
   "source": [
    "outlier_speed1 = []\n",
    "\n",
    "for tab in tablist:\n",
    "    outlier_speed1.append(tab[10:])\n",
    "    cq = \"SELECT COUNT(time), MAX(s12) FROM \" + tab + \" WHERE s12 > 150\" \n",
    "    res = conn.execute(cq)\n",
    "    num = res.fetchone()\n",
    "    outlier_speed1.append(num)\n",
    "    outlier_speed1"
   ]
  },
  {
   "cell_type": "code",
   "execution_count": 25,
   "id": "e1c7c1fa-d253-4398-83da-3eb19a751a92",
   "metadata": {},
   "outputs": [
    {
     "name": "stdout",
     "output_type": "stream",
     "text": [
      "['0529_05', (4, 161.0), '0529_04', (40, 248.0), '0529_03', (1, 170.0), '0529_02', (1, 163.0), '0529_01', (6, 239.0), '0243_03', (41, 209.0), '0243_04', (5, 185.0), '0243_01', (155, 237.0), '0243_02', (402, 211.0), '0084_01', (0, None), '0084_03', (0, None), '0084_02', (0, None), '0084_04', (0, None), '0601_01', (0, None), '0601_02', (3, 168.0), '0601_03', (0, None), '0601_04', (0, None), '0150_01', (4, 210.0), '0150_02', (0, None), '0240_01', (0, None), '0240_02', (0, None), '0240_03', (0, None), '0240_04', (0, None), '0240_05', (0, None), '0240_06', (0, None), '0240_07', (0, None), '0240_08', (0, None), '0602_02', (0, None), '0602_03', (0, None), '0602_04', (0, None), '0602_01', (0, None), '0605_07', (1, 153.0), '0605_08', (1, 251.0), '0605_05', (0, None), '0605_06', (0, None), '0605_03', (0, None), '0605_04', (0, None), '0605_01', (0, None), '0605_02', (0, None), '0020_08', (0, None), '0020_02', (0, None), '0020_03', (0, None), '0020_01', (0, None), '0020_06', (0, None), '0020_07', (0, None), '0020_04', (0, None), '0020_05', (0, None), '0528_03', (177, 232.0), '0528_04', (30, 179.0), '0528_01', (21, 179.0), '0528_02', (166, 202.0), '0286_01', (0, None), '0286_05', (0, None), '0286_04', (0, None), '0286_03', (0, None), '0286_02', (0, None), '0286_08', (0, None), '0286_07', (0, None), '0274_05', (34, 227.0), '0274_06', (0, None), '0274_01', (8, 203.0), '0274_02', (23, 235.0), '0274_03', (167, 212.0), '0274_04', (204, 207.0), '0282_06', (0, None), '0282_01', (0, None), '0282_03', (0, None), '0282_02', (0, None), '0282_05', (0, None), '0282_04', (0, None), '0287_01', (0, None), '0287_02', (0, None), '0287_03', (0, None), '0287_04', (0, None), '0286_06', (0, None)]\n"
     ]
    }
   ],
   "source": [
    "print(outlier_speed1)"
   ]
  },
  {
   "cell_type": "code",
   "execution_count": null,
   "id": "c8f8063d-7b35-41b5-9be1-122d8a717da5",
   "metadata": {
    "tags": []
   },
   "outputs": [],
   "source": []
  },
  {
   "cell_type": "code",
   "execution_count": 26,
   "id": "980f2c96-08f5-4aef-8e22-f371bae2edd3",
   "metadata": {
    "tags": []
   },
   "outputs": [],
   "source": [
    "outlier_speed2 = []\n",
    "\n",
    "for tab in tablist:\n",
    "    outlier_speed2.append(tab[10:])\n",
    "    cq = \"SELECT COUNT(time), MAX(s22) FROM \" + tab + \" WHERE s22 > 150\" \n",
    "    res = conn.execute(cq)\n",
    "    num = res.fetchone()\n",
    "    outlier_speed2.append(num)\n",
    "    outlier_speed2"
   ]
  },
  {
   "cell_type": "code",
   "execution_count": 27,
   "id": "5dfbcad6-bc83-4b78-a76a-41afe13a6adf",
   "metadata": {},
   "outputs": [
    {
     "name": "stdout",
     "output_type": "stream",
     "text": [
      "['0529_05', (26, 249.0), '0529_04', (22, 251.0), '0529_03', (6, 188.0), '0529_02', (33, 247.0), '0529_01', (41, 243.0), '0243_03', (19, 249.0), '0243_04', (23, 246.0), '0243_01', (34, 245.0), '0243_02', (54, 254.0), '0084_01', (0, None), '0084_03', (0, None), '0084_02', (0, None), '0084_04', (0, None), '0601_01', (25, 250.0), '0601_02', (39, 252.0), '0601_03', (6, 236.0), '0601_04', (56, 253.0), '0150_01', (1, 180.0), '0150_02', (1, 194.0), '0240_01', (0, None), '0240_02', (0, None), '0240_03', (0, None), '0240_04', (0, None), '0240_05', (0, None), '0240_06', (0, None), '0240_07', (0, None), '0240_08', (0, None), '0602_02', (0, None), '0602_03', (0, None), '0602_04', (0, None), '0602_01', (0, None), '0605_07', (38, 252.0), '0605_08', (38, 252.0), '0605_05', (25, 248.0), '0605_06', (12, 248.0), '0605_03', (69, 254.0), '0605_04', (5, 235.0), '0605_01', (13, 246.0), '0605_02', (33, 250.0), '0020_08', (0, None), '0020_02', (0, None), '0020_03', (0, None), '0020_01', (0, None), '0020_06', (0, None), '0020_07', (0, None), '0020_04', (0, None), '0020_05', (0, None), '0528_03', (17, 231.0), '0528_04', (50, 252.0), '0528_01', (22, 248.0), '0528_02', (5, 207.0), '0286_01', (0, None), '0286_05', (0, None), '0286_04', (0, None), '0286_03', (0, None), '0286_02', (0, None), '0286_08', (0, None), '0286_07', (0, None), '0274_05', (79, 252.0), '0274_06', (1, 162.0), '0274_01', (18, 249.0), '0274_02', (60, 254.0), '0274_03', (34, 252.0), '0274_04', (105, 254.0), '0282_06', (0, None), '0282_01', (0, None), '0282_03', (0, None), '0282_02', (0, None), '0282_05', (0, None), '0282_04', (0, None), '0287_01', (0, None), '0287_02', (0, None), '0287_03', (0, None), '0287_04', (0, None), '0286_06', (0, None)]\n"
     ]
    }
   ],
   "source": [
    "print(outlier_speed2)"
   ]
  },
  {
   "cell_type": "markdown",
   "id": "ac590af7-a2aa-4961-a85b-baedc6182dc2",
   "metadata": {},
   "source": [
    "#### Ok, ich bereinige noch alle Rows mit Flows über 4200"
   ]
  },
  {
   "cell_type": "code",
   "execution_count": 165,
   "id": "5052ed90-22b2-490e-8d18-bcce9640f820",
   "metadata": {},
   "outputs": [],
   "source": [
    "for tab in tablist:\n",
    "    dq = \"DELETE FROM \" + tab + \" WHERE vfr11 > 4200\"\n",
    "    conn.execute(dq)"
   ]
  },
  {
   "cell_type": "markdown",
   "id": "02a2fee0-1ca0-4e70-ae54-8686f6f44f2d",
   "metadata": {},
   "source": [
    "### ende, aus ... Stand 04092022"
   ]
  },
  {
   "cell_type": "code",
   "execution_count": null,
   "id": "2e3c03da-4eaf-45f1-abfe-822b3a926c62",
   "metadata": {},
   "outputs": [],
   "source": []
  },
  {
   "cell_type": "code",
   "execution_count": null,
   "id": "347d400d-b01c-46fc-a9da-b9920857f62d",
   "metadata": {},
   "outputs": [],
   "source": []
  },
  {
   "cell_type": "code",
   "execution_count": null,
   "id": "f4a39d88-2698-49af-a4ab-d86bf2e90d9f",
   "metadata": {},
   "outputs": [],
   "source": []
  }
 ],
 "metadata": {
  "kernelspec": {
   "display_name": "Python 3 (ipykernel)",
   "language": "python",
   "name": "python3"
  },
  "language_info": {
   "codemirror_mode": {
    "name": "ipython",
    "version": 3
   },
   "file_extension": ".py",
   "mimetype": "text/x-python",
   "name": "python",
   "nbconvert_exporter": "python",
   "pygments_lexer": "ipython3",
   "version": "3.8.5"
  }
 },
 "nbformat": 4,
 "nbformat_minor": 5
}
