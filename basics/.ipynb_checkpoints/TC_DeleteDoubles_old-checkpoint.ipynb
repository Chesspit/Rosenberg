{
 "cells": [
  {
   "cell_type": "code",
   "execution_count": 1,
   "id": "63f7c013-5d5e-47bd-80d1-3a5260f28a24",
   "metadata": {},
   "outputs": [],
   "source": [
    "import sqlalchemy as db\n",
    "from sqlalchemy import create_engine"
   ]
  },
  {
   "cell_type": "code",
   "execution_count": 11,
   "id": "bcda6af3-e435-4980-a066-4287eee2b0a4",
   "metadata": {},
   "outputs": [],
   "source": [
    "engine = db.create_engine('sqlite:///C:\\\\Users\\\\peter\\\\Documents\\\\Projekte\\\\Zähler\\\\tc_all_new_test.db')"
   ]
  },
  {
   "cell_type": "code",
   "execution_count": 12,
   "id": "f1b6616a-1259-498e-a312-c52ba5776d2d",
   "metadata": {},
   "outputs": [],
   "source": [
    "conn = engine.connect()"
   ]
  },
  {
   "cell_type": "code",
   "execution_count": 13,
   "id": "79526ffc-c075-4271-924a-0bba7290fbaf",
   "metadata": {},
   "outputs": [],
   "source": [
    "import pandas as pd"
   ]
  },
  {
   "cell_type": "markdown",
   "id": "aa377553-767f-4b1e-9bf7-d7cd4a3ba38b",
   "metadata": {},
   "source": [
    "### Erst einmal alle Tabellen auflisten"
   ]
  },
  {
   "cell_type": "code",
   "execution_count": 14,
   "id": "ffbe1f81-2100-4098-802d-a8210b2c5116",
   "metadata": {},
   "outputs": [],
   "source": [
    "qt = \" SELECT name FROM sqlite_master WHERE type='table' \""
   ]
  },
  {
   "cell_type": "code",
   "execution_count": 15,
   "id": "67ed6c1d-0fed-4f34-a89d-867f0a3d5d85",
   "metadata": {},
   "outputs": [],
   "source": [
    "df = pd.read_sql_query(qt, conn)"
   ]
  },
  {
   "cell_type": "code",
   "execution_count": 16,
   "id": "bb635a4b-b0cf-4ca1-b6d1-e8299fc429af",
   "metadata": {},
   "outputs": [
    {
     "data": {
      "text/html": [
       "<div>\n",
       "<style scoped>\n",
       "    .dataframe tbody tr th:only-of-type {\n",
       "        vertical-align: middle;\n",
       "    }\n",
       "\n",
       "    .dataframe tbody tr th {\n",
       "        vertical-align: top;\n",
       "    }\n",
       "\n",
       "    .dataframe thead th {\n",
       "        text-align: right;\n",
       "    }\n",
       "</style>\n",
       "<table border=\"1\" class=\"dataframe\">\n",
       "  <thead>\n",
       "    <tr style=\"text-align: right;\">\n",
       "      <th></th>\n",
       "      <th>name</th>\n",
       "    </tr>\n",
       "  </thead>\n",
       "  <tbody>\n",
       "    <tr>\n",
       "      <th>0</th>\n",
       "      <td>tcsites</td>\n",
       "    </tr>\n",
       "    <tr>\n",
       "      <th>1</th>\n",
       "      <td>tcdata_CH_0529_05</td>\n",
       "    </tr>\n",
       "    <tr>\n",
       "      <th>2</th>\n",
       "      <td>tcdata_CH_0529_04</td>\n",
       "    </tr>\n",
       "    <tr>\n",
       "      <th>3</th>\n",
       "      <td>tcdata_CH_0529_03</td>\n",
       "    </tr>\n",
       "    <tr>\n",
       "      <th>4</th>\n",
       "      <td>tcdata_CH_0529_02</td>\n",
       "    </tr>\n",
       "    <tr>\n",
       "      <th>...</th>\n",
       "      <td>...</td>\n",
       "    </tr>\n",
       "    <tr>\n",
       "      <th>71</th>\n",
       "      <td>tcdata_CH_0287_01</td>\n",
       "    </tr>\n",
       "    <tr>\n",
       "      <th>72</th>\n",
       "      <td>tcdata_CH_0287_02</td>\n",
       "    </tr>\n",
       "    <tr>\n",
       "      <th>73</th>\n",
       "      <td>tcdata_CH_0287_03</td>\n",
       "    </tr>\n",
       "    <tr>\n",
       "      <th>74</th>\n",
       "      <td>tcdata_CH_0287_04</td>\n",
       "    </tr>\n",
       "    <tr>\n",
       "      <th>75</th>\n",
       "      <td>tcdata_CH_0286_06</td>\n",
       "    </tr>\n",
       "  </tbody>\n",
       "</table>\n",
       "<p>76 rows × 1 columns</p>\n",
       "</div>"
      ],
      "text/plain": [
       "                 name\n",
       "0             tcsites\n",
       "1   tcdata_CH_0529_05\n",
       "2   tcdata_CH_0529_04\n",
       "3   tcdata_CH_0529_03\n",
       "4   tcdata_CH_0529_02\n",
       "..                ...\n",
       "71  tcdata_CH_0287_01\n",
       "72  tcdata_CH_0287_02\n",
       "73  tcdata_CH_0287_03\n",
       "74  tcdata_CH_0287_04\n",
       "75  tcdata_CH_0286_06\n",
       "\n",
       "[76 rows x 1 columns]"
      ]
     },
     "execution_count": 16,
     "metadata": {},
     "output_type": "execute_result"
    }
   ],
   "source": [
    "df"
   ]
  },
  {
   "cell_type": "code",
   "execution_count": 52,
   "id": "ebe00752-759c-4944-9e62-c4eaab61741c",
   "metadata": {
    "tags": []
   },
   "outputs": [],
   "source": [
    "query ='''\n",
    "SELECT \n",
    "    rowid as id, time as TIME\n",
    "    FROM tcdata_CH_0084_01\n",
    "    GROUP BY time\n",
    "    HAVING COUNT() > 1\n",
    " '''"
   ]
  },
  {
   "cell_type": "code",
   "execution_count": 53,
   "id": "1487a7ba-4655-4e0e-a264-463918c6479f",
   "metadata": {},
   "outputs": [],
   "source": [
    "df = pd.read_sql_query(query, conn)"
   ]
  },
  {
   "cell_type": "code",
   "execution_count": 54,
   "id": "1043e0fa-a644-46d4-b65e-fee8e0a1de49",
   "metadata": {},
   "outputs": [
    {
     "data": {
      "text/html": [
       "<div>\n",
       "<style scoped>\n",
       "    .dataframe tbody tr th:only-of-type {\n",
       "        vertical-align: middle;\n",
       "    }\n",
       "\n",
       "    .dataframe tbody tr th {\n",
       "        vertical-align: top;\n",
       "    }\n",
       "\n",
       "    .dataframe thead th {\n",
       "        text-align: right;\n",
       "    }\n",
       "</style>\n",
       "<table border=\"1\" class=\"dataframe\">\n",
       "  <thead>\n",
       "    <tr style=\"text-align: right;\">\n",
       "      <th></th>\n",
       "      <th>id</th>\n",
       "      <th>TIME</th>\n",
       "    </tr>\n",
       "  </thead>\n",
       "  <tbody>\n",
       "    <tr>\n",
       "      <th>0</th>\n",
       "      <td>132104</td>\n",
       "      <td>2022-03-17 05:44:00+01:00</td>\n",
       "    </tr>\n",
       "    <tr>\n",
       "      <th>1</th>\n",
       "      <td>132138</td>\n",
       "      <td>2022-03-17 06:18:00+01:00</td>\n",
       "    </tr>\n",
       "    <tr>\n",
       "      <th>2</th>\n",
       "      <td>132233</td>\n",
       "      <td>2022-03-17 07:53:00+01:00</td>\n",
       "    </tr>\n",
       "    <tr>\n",
       "      <th>3</th>\n",
       "      <td>132497</td>\n",
       "      <td>2022-03-17 17:53:00+01:00</td>\n",
       "    </tr>\n",
       "    <tr>\n",
       "      <th>4</th>\n",
       "      <td>132809</td>\n",
       "      <td>2022-03-18 07:53:00+01:00</td>\n",
       "    </tr>\n",
       "  </tbody>\n",
       "</table>\n",
       "</div>"
      ],
      "text/plain": [
       "       id                       TIME\n",
       "0  132104  2022-03-17 05:44:00+01:00\n",
       "1  132138  2022-03-17 06:18:00+01:00\n",
       "2  132233  2022-03-17 07:53:00+01:00\n",
       "3  132497  2022-03-17 17:53:00+01:00\n",
       "4  132809  2022-03-18 07:53:00+01:00"
      ]
     },
     "execution_count": 54,
     "metadata": {},
     "output_type": "execute_result"
    }
   ],
   "source": [
    "df.head()"
   ]
  },
  {
   "cell_type": "code",
   "execution_count": 51,
   "id": "46266079-221b-4bd6-90db-36e5059e7863",
   "metadata": {
    "tags": []
   },
   "outputs": [
    {
     "data": {
      "text/html": [
       "<div>\n",
       "<style scoped>\n",
       "    .dataframe tbody tr th:only-of-type {\n",
       "        vertical-align: middle;\n",
       "    }\n",
       "\n",
       "    .dataframe tbody tr th {\n",
       "        vertical-align: top;\n",
       "    }\n",
       "\n",
       "    .dataframe thead th {\n",
       "        text-align: right;\n",
       "    }\n",
       "</style>\n",
       "<table border=\"1\" class=\"dataframe\">\n",
       "  <thead>\n",
       "    <tr style=\"text-align: right;\">\n",
       "      <th></th>\n",
       "      <th>id</th>\n",
       "    </tr>\n",
       "  </thead>\n",
       "  <tbody>\n",
       "    <tr>\n",
       "      <th>count</th>\n",
       "      <td>3.000000</td>\n",
       "    </tr>\n",
       "    <tr>\n",
       "      <th>mean</th>\n",
       "      <td>158288.333333</td>\n",
       "    </tr>\n",
       "    <tr>\n",
       "      <th>std</th>\n",
       "      <td>132.831974</td>\n",
       "    </tr>\n",
       "    <tr>\n",
       "      <th>min</th>\n",
       "      <td>158146.000000</td>\n",
       "    </tr>\n",
       "    <tr>\n",
       "      <th>25%</th>\n",
       "      <td>158228.000000</td>\n",
       "    </tr>\n",
       "    <tr>\n",
       "      <th>50%</th>\n",
       "      <td>158310.000000</td>\n",
       "    </tr>\n",
       "    <tr>\n",
       "      <th>75%</th>\n",
       "      <td>158359.500000</td>\n",
       "    </tr>\n",
       "    <tr>\n",
       "      <th>max</th>\n",
       "      <td>158409.000000</td>\n",
       "    </tr>\n",
       "  </tbody>\n",
       "</table>\n",
       "</div>"
      ],
      "text/plain": [
       "                  id\n",
       "count       3.000000\n",
       "mean   158288.333333\n",
       "std       132.831974\n",
       "min    158146.000000\n",
       "25%    158228.000000\n",
       "50%    158310.000000\n",
       "75%    158359.500000\n",
       "max    158409.000000"
      ]
     },
     "execution_count": 51,
     "metadata": {},
     "output_type": "execute_result"
    }
   ],
   "source": [
    "df.describe()"
   ]
  },
  {
   "cell_type": "markdown",
   "id": "31a3a610-5089-4ad6-8468-ee37529ac338",
   "metadata": {},
   "source": [
    "### OK, für die Spur 0084_01 habe ich 208 Multiples in einem Dataframe. Jetzt möchte ich eine Schleife programmieren, welche auf Basis der rowid eine Reihe entfernt"
   ]
  },
  {
   "cell_type": "code",
   "execution_count": 21,
   "id": "258f0e70-3ed3-419b-beaf-54b2f4a6aa6b",
   "metadata": {
    "tags": []
   },
   "outputs": [],
   "source": [
    "from sqlalchemy import delete"
   ]
  },
  {
   "cell_type": "code",
   "execution_count": 22,
   "id": "31fe33b3-5c83-4d89-a612-92f86117d133",
   "metadata": {
    "tags": []
   },
   "outputs": [],
   "source": [
    "lst=df['id']"
   ]
  },
  {
   "cell_type": "code",
   "execution_count": 23,
   "id": "1acf3a3d-3562-4b75-8bdd-62a92c17a1a4",
   "metadata": {
    "tags": []
   },
   "outputs": [
    {
     "data": {
      "text/plain": [
       "0    132104\n",
       "1    132138\n",
       "2    132233\n",
       "3    132497\n",
       "4    132809\n",
       "5    133073\n",
       "6    133385\n",
       "7    133649\n",
       "Name: id, dtype: int64"
      ]
     },
     "execution_count": 23,
     "metadata": {},
     "output_type": "execute_result"
    }
   ],
   "source": [
    "lst[0:8]"
   ]
  },
  {
   "cell_type": "code",
   "execution_count": 185,
   "id": "e366133f-bf8d-482a-991d-e3f214e5f55a",
   "metadata": {},
   "outputs": [],
   "source": [
    "for t in lst:\n",
    "    dq = \"DELETE FROM tcdata_CH_0243_04 WHERE rowid = \" + str(t)\n",
    "    conn.execute(dq)"
   ]
  },
  {
   "cell_type": "markdown",
   "id": "52b0bfa9-cd74-40cd-b22d-eee9bdfd3f5d",
   "metadata": {},
   "source": [
    "## Das hat funktioniert, aber die Anzahl der Multiples lag teilweise bei ca. 20!!! Mal gucken, wie ich das löse..."
   ]
  },
  {
   "cell_type": "markdown",
   "id": "c1286671-b3c2-4192-b4f3-04ada5ab287c",
   "metadata": {},
   "source": [
    "### Im Grunde brauche ich eine Liste von allen Spuren, über die ich loopen kann..."
   ]
  },
  {
   "cell_type": "markdown",
   "id": "41e42c7b-65aa-48f3-ba54-9a94910cffa3",
   "metadata": {},
   "source": [
    "### ... und diese Liste kann ich dann auch für die Steckbriefe pro Spur/Zähler verwenden!"
   ]
  },
  {
   "cell_type": "code",
   "execution_count": null,
   "id": "a1b5ef00-618a-4593-bc90-4bdcfa5b9663",
   "metadata": {},
   "outputs": [],
   "source": []
  },
  {
   "cell_type": "code",
   "execution_count": null,
   "id": "9077a7a0-eacc-478d-894f-59656aa6b73a",
   "metadata": {},
   "outputs": [],
   "source": []
  },
  {
   "cell_type": "code",
   "execution_count": 13,
   "id": "c6cba8cb-6bab-4831-b22e-b98aa22fe0c3",
   "metadata": {
    "tags": []
   },
   "outputs": [],
   "source": [
    "q ='''\n",
    "SELECT \n",
    "    COUNT(DISTINCT time)\n",
    "    FROM tcdata_CH_0084_01\n",
    " '''"
   ]
  },
  {
   "cell_type": "code",
   "execution_count": 14,
   "id": "63028c56-3d3b-406b-b65f-0fc246793b16",
   "metadata": {},
   "outputs": [],
   "source": [
    "res = conn.execute(q)"
   ]
  },
  {
   "cell_type": "code",
   "execution_count": 15,
   "id": "96db779e-21a8-4a69-ba0a-91aed1bf8586",
   "metadata": {
    "tags": []
   },
   "outputs": [
    {
     "data": {
      "text/plain": [
       "(67911,)"
      ]
     },
     "execution_count": 15,
     "metadata": {},
     "output_type": "execute_result"
    }
   ],
   "source": [
    "res.fetchone()"
   ]
  },
  {
   "cell_type": "code",
   "execution_count": null,
   "id": "e036fa66-ea8b-4292-a484-90f62cd3bedc",
   "metadata": {},
   "outputs": [],
   "source": []
  },
  {
   "cell_type": "code",
   "execution_count": 16,
   "id": "2006d422-a31f-441f-a8d1-8b8f84ff58be",
   "metadata": {
    "tags": []
   },
   "outputs": [],
   "source": [
    "q ='''\n",
    "SELECT \n",
    "    COUNT()\n",
    "    FROM tcdata_CH_0084_01\n",
    " '''"
   ]
  },
  {
   "cell_type": "code",
   "execution_count": 17,
   "id": "f2a64592-ef47-4278-86b2-0fc81aee45f5",
   "metadata": {},
   "outputs": [],
   "source": [
    "res = conn.execute(q)"
   ]
  },
  {
   "cell_type": "code",
   "execution_count": 18,
   "id": "4fbfb522-4b89-42a1-b9b0-0e5ff3e3d5d8",
   "metadata": {
    "tags": []
   },
   "outputs": [
    {
     "data": {
      "text/plain": [
       "(67911,)"
      ]
     },
     "execution_count": 18,
     "metadata": {},
     "output_type": "execute_result"
    }
   ],
   "source": [
    "res.fetchone()"
   ]
  },
  {
   "cell_type": "code",
   "execution_count": null,
   "id": "f75b7b9d-9155-4580-a465-4e3f87c0d94a",
   "metadata": {},
   "outputs": [],
   "source": []
  }
 ],
 "metadata": {
  "kernelspec": {
   "display_name": "Python 3 (ipykernel)",
   "language": "python",
   "name": "python3"
  },
  "language_info": {
   "codemirror_mode": {
    "name": "ipython",
    "version": 3
   },
   "file_extension": ".py",
   "mimetype": "text/x-python",
   "name": "python",
   "nbconvert_exporter": "python",
   "pygments_lexer": "ipython3",
   "version": "3.8.5"
  }
 },
 "nbformat": 4,
 "nbformat_minor": 5
}
