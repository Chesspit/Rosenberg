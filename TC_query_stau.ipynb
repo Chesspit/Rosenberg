{
 "cells": [
  {
   "cell_type": "code",
   "execution_count": 1,
   "id": "7326d53b-865d-4834-9330-7074535b894e",
   "metadata": {},
   "outputs": [],
   "source": [
    "import sqlalchemy as db\n",
    "from sqlalchemy import create_engine, inspect, MetaData\n",
    "import pandas as pd"
   ]
  },
  {
   "cell_type": "code",
   "execution_count": 2,
   "id": "5e47c834-e0cf-402f-ade2-33eedc94f24f",
   "metadata": {},
   "outputs": [],
   "source": [
    "from sqlalchemy.sql import func, and_, desc, alias, text"
   ]
  },
  {
   "cell_type": "code",
   "execution_count": 3,
   "id": "0b628d9e-6c60-44cc-b467-690ed78adeed",
   "metadata": {},
   "outputs": [],
   "source": [
    "pd.options.display.max_rows=200"
   ]
  },
  {
   "cell_type": "code",
   "execution_count": 4,
   "id": "b1190fdd-5dc7-4536-b583-388aac9fe46a",
   "metadata": {},
   "outputs": [],
   "source": [
    "engine = db.create_engine('sqlite:///C:\\\\Users\\\\peter\\\\Documents\\\\Projekte\\\\Zähler\\\\tc_all_new.db', echo = False)"
   ]
  },
  {
   "cell_type": "code",
   "execution_count": 5,
   "id": "60855231-2f59-4155-86a5-99edbfa735f6",
   "metadata": {},
   "outputs": [],
   "source": [
    "conn = engine.connect()"
   ]
  },
  {
   "cell_type": "code",
   "execution_count": 6,
   "id": "349763ed-7692-4149-982b-3c4b4e8b570b",
   "metadata": {
    "tags": []
   },
   "outputs": [],
   "source": [
    "metadata = db.MetaData(bind=engine)"
   ]
  },
  {
   "cell_type": "code",
   "execution_count": 7,
   "id": "c0241a1d-9882-4246-93b5-db710cd241b5",
   "metadata": {},
   "outputs": [],
   "source": [
    "table = db.Table('tcdata_CH_0084_01', metadata, autoload = True)"
   ]
  },
  {
   "cell_type": "markdown",
   "id": "708bf292-4ef4-4159-959e-ec2366e27d16",
   "metadata": {},
   "source": [
    "#### Voila, mit der so definierten Tabelle kann ich die Abfragen starten!"
   ]
  },
  {
   "cell_type": "code",
   "execution_count": 8,
   "id": "0532d715-defd-4596-a04e-f5b231878406",
   "metadata": {},
   "outputs": [
    {
     "data": {
      "text/plain": [
       "[('2021-07-27 19:53:00+02:00', 900.0, 68.9000015, 0.0, 0.0, 0.0, 0.0),\n",
       " ('2021-07-27 19:58:00+02:00', 840.0, 65.5, 60.0, 73.0, 0.0, 0.0),\n",
       " ('2021-07-27 20:03:00+02:00', 840.0, 67.8000031, 60.0, 72.0, 0.0, 0.0),\n",
       " ('2021-07-27 20:08:00+02:00', 600.0, 79.3000031, 0.0, 0.0, 0.0, 0.0)]"
      ]
     },
     "execution_count": 8,
     "metadata": {},
     "output_type": "execute_result"
    }
   ],
   "source": [
    "q = db.select(table)\n",
    "result = conn.execute(q)\n",
    "row = result.fetchmany(4)\n",
    "row"
   ]
  },
  {
   "cell_type": "markdown",
   "id": "30dc25e7-3fcb-4b2b-97d5-d28d7af5ec3d",
   "metadata": {},
   "source": [
    "#### Intro eines Alias für table (WICHTIG: *Alias* gilt nur für Tabellen. **Bemerkung:** Spalten kann man mit *Labels* umbenennen..."
   ]
  },
  {
   "cell_type": "code",
   "execution_count": 9,
   "id": "c146b5c5-6fc7-401f-8139-3063f75dec04",
   "metadata": {},
   "outputs": [],
   "source": [
    "t = table.alias()"
   ]
  },
  {
   "cell_type": "code",
   "execution_count": null,
   "id": "a94e39af-d13b-469f-8087-1dfc381358eb",
   "metadata": {},
   "outputs": [],
   "source": []
  },
  {
   "cell_type": "code",
   "execution_count": 10,
   "id": "0621e51f-bd15-4fe7-b04d-598903019263",
   "metadata": {},
   "outputs": [
    {
     "data": {
      "text/plain": [
       "[('2021-12-01 17:00:00+01:00', '2021', '12', '01', '16', 1156.3636363636363, 18.894545495272723, 55),\n",
       " ('2021-12-02 16:02:00+01:00', '2021', '12', '02', '15', 1320.0, 26.607142805, 56),\n",
       " ('2021-12-02 17:01:00+01:00', '2021', '12', '02', '16', 1374.4444444444443, 23.35555557185185, 54),\n",
       " ('2021-12-08 16:00:00+01:00', '2021', '12', '08', '15', 1472.2222222222222, 30.675926038888882, 54),\n",
       " ('2021-12-08 17:00:00+01:00', '2021', '12', '08', '16', 1244.7272727272727, 22.232727330727275, 55),\n",
       " ('2022-12-14 16:00:00+01:00', '2022', '12', '14', '15', 121.03448275862068, 14.648275852068966, 58),\n",
       " ('2022-12-14 17:00:00+01:00', '2022', '12', '14', '16', 124.28571428571429, 9.621428592678571, 56),\n",
       " ('2021-11-11 17:00:00+01:00', '2021', '11', '11', '16', 1880.0, 31.350000138888888, 54),\n",
       " ('2021-11-15 17:00:00+01:00', '2021', '11', '15', '16', 1877.3076923076924, 30.96923076346154, 52),\n",
       " ('2021-11-16 17:00:00+01:00', '2021', '11', '16', '16', 1939.245283018868, 33.03018853962264, 53)]"
      ]
     },
     "execution_count": 10,
     "metadata": {},
     "output_type": "execute_result"
    }
   ],
   "source": [
    "q = db.select(t.c.time, func.strftime('%Y', t.c.time).label('Jahr'), func.strftime('%m', t.c.time).label('Monat'), \\\n",
    "              func.strftime('%d', t.c.time).label('Tag'), func.strftime('%H', t.c.time).label('Stunde'), \\\n",
    "              func.avg(t.c.vfr11).label('AVG_flow'), func.avg(t.c.s12).label('AVG_speed'), func.count(t.c.time).label('Anzahl')). \\\n",
    "where(and_(t.c.s12 >=0, t.c.s12 <40 )) .\\\n",
    "group_by(func.strftime('%Y', t.c.time), func.strftime('%m', t.c.time), func.strftime('%d', t.c.time), func.strftime('%H', t.c.time)). \\\n",
    "having(func.count(t.c.time) > 50). \\\n",
    "order_by(func.strftime('%m', t.c.time).desc(), func.strftime('%d', t.c.time))\n",
    "result = conn.execute(q)\n",
    "row = result.fetchmany(10)\n",
    "row"
   ]
  },
  {
   "cell_type": "code",
   "execution_count": null,
   "id": "ce6817c7-0073-44a1-a629-8bd7e14e3cea",
   "metadata": {},
   "outputs": [],
   "source": []
  },
  {
   "cell_type": "markdown",
   "id": "788b5e69-4862-4274-a89d-5d4b4b64f371",
   "metadata": {},
   "source": [
    "#### Und nun die (fast) gleiche Query unter Verwendung der Label bei HAVING, ORDER_BY und Rundung der Averages und **localtime** für den Wechsel von UTC auf CH-Time"
   ]
  },
  {
   "cell_type": "code",
   "execution_count": null,
   "id": "135680bd-f8cb-4cbe-9c57-8378f387ba31",
   "metadata": {},
   "outputs": [],
   "source": []
  },
  {
   "cell_type": "code",
   "execution_count": 11,
   "id": "fa601512-6dae-44d5-ac76-852081937171",
   "metadata": {},
   "outputs": [],
   "source": [
    "q = db.select(t.c.time, func.count(t.c.time).label('Anzahl'), func.strftime('%Y', t.c.time).label('Jahr'), func.strftime('%m', t.c.time).label('Monat'), \\\n",
    "              func.strftime('%d', t.c.time).label('Tag'), func.strftime('%H', t.c.time, 'localtime').label('Stunde'), \\\n",
    "               func.round(func.avg(t.c.vfr11)).label('AVG_flow'), func.round(func.avg(t.c.s12)).label('AVG_speed')). \\\n",
    "where(and_(t.c.s12 >0, t.c.s12 <40 )) .\\\n",
    "group_by(func.strftime('%Y', t.c.time), func.strftime('%m', t.c.time), func.strftime('%d', t.c.time), func.strftime('%H', t.c.time)). \\\n",
    "having(func.count(t.c.time) > 50). \\\n",
    "order_by(func.count('Anzahl').desc())\n",
    "result = conn.execute(q)\n",
    "row = result.fetchall()"
   ]
  },
  {
   "cell_type": "code",
   "execution_count": 12,
   "id": "59c6a6c0-6116-4d85-927a-6fa2b0d1caa8",
   "metadata": {},
   "outputs": [
    {
     "name": "stdout",
     "output_type": "stream",
     "text": [
      "Anzahl Std  mit Stau:  190\n"
     ]
    }
   ],
   "source": [
    "print(\"Anzahl Std  mit Stau: \", len(row))"
   ]
  },
  {
   "cell_type": "code",
   "execution_count": 13,
   "id": "766948f2-99b5-46bd-a357-a66b18892ace",
   "metadata": {},
   "outputs": [
    {
     "data": {
      "text/html": [
       "<div>\n",
       "<style scoped>\n",
       "    .dataframe tbody tr th:only-of-type {\n",
       "        vertical-align: middle;\n",
       "    }\n",
       "\n",
       "    .dataframe tbody tr th {\n",
       "        vertical-align: top;\n",
       "    }\n",
       "\n",
       "    .dataframe thead th {\n",
       "        text-align: right;\n",
       "    }\n",
       "</style>\n",
       "<table border=\"1\" class=\"dataframe\">\n",
       "  <thead>\n",
       "    <tr style=\"text-align: right;\">\n",
       "      <th></th>\n",
       "      <th>time</th>\n",
       "      <th>Anzahl</th>\n",
       "      <th>Jahr</th>\n",
       "      <th>Monat</th>\n",
       "      <th>Tag</th>\n",
       "      <th>Stunde</th>\n",
       "      <th>AVG_flow</th>\n",
       "      <th>AVG_speed</th>\n",
       "    </tr>\n",
       "  </thead>\n",
       "  <tbody>\n",
       "    <tr>\n",
       "      <th>0</th>\n",
       "      <td>2021-08-20 17:00:00+02:00</td>\n",
       "      <td>60</td>\n",
       "      <td>2021</td>\n",
       "      <td>08</td>\n",
       "      <td>20</td>\n",
       "      <td>17</td>\n",
       "      <td>1692.0</td>\n",
       "      <td>26.0</td>\n",
       "    </tr>\n",
       "    <tr>\n",
       "      <th>1</th>\n",
       "      <td>2021-08-25 17:00:00+02:00</td>\n",
       "      <td>60</td>\n",
       "      <td>2021</td>\n",
       "      <td>08</td>\n",
       "      <td>25</td>\n",
       "      <td>17</td>\n",
       "      <td>1753.0</td>\n",
       "      <td>28.0</td>\n",
       "    </tr>\n",
       "    <tr>\n",
       "      <th>2</th>\n",
       "      <td>2021-09-02 17:00:00+02:00</td>\n",
       "      <td>60</td>\n",
       "      <td>2021</td>\n",
       "      <td>09</td>\n",
       "      <td>02</td>\n",
       "      <td>17</td>\n",
       "      <td>1611.0</td>\n",
       "      <td>27.0</td>\n",
       "    </tr>\n",
       "    <tr>\n",
       "      <th>3</th>\n",
       "      <td>2021-10-01 17:00:00+02:00</td>\n",
       "      <td>60</td>\n",
       "      <td>2021</td>\n",
       "      <td>10</td>\n",
       "      <td>01</td>\n",
       "      <td>17</td>\n",
       "      <td>1711.0</td>\n",
       "      <td>28.0</td>\n",
       "    </tr>\n",
       "    <tr>\n",
       "      <th>4</th>\n",
       "      <td>2022-03-29 17:00:00+02:00</td>\n",
       "      <td>60</td>\n",
       "      <td>2022</td>\n",
       "      <td>03</td>\n",
       "      <td>29</td>\n",
       "      <td>17</td>\n",
       "      <td>1257.0</td>\n",
       "      <td>20.0</td>\n",
       "    </tr>\n",
       "  </tbody>\n",
       "</table>\n",
       "</div>"
      ],
      "text/plain": [
       "                        time  Anzahl  Jahr Monat Tag Stunde  AVG_flow  \\\n",
       "0  2021-08-20 17:00:00+02:00      60  2021    08  20     17    1692.0   \n",
       "1  2021-08-25 17:00:00+02:00      60  2021    08  25     17    1753.0   \n",
       "2  2021-09-02 17:00:00+02:00      60  2021    09  02     17    1611.0   \n",
       "3  2021-10-01 17:00:00+02:00      60  2021    10  01     17    1711.0   \n",
       "4  2022-03-29 17:00:00+02:00      60  2022    03  29     17    1257.0   \n",
       "\n",
       "   AVG_speed  \n",
       "0       26.0  \n",
       "1       28.0  \n",
       "2       27.0  \n",
       "3       28.0  \n",
       "4       20.0  "
      ]
     },
     "execution_count": 13,
     "metadata": {},
     "output_type": "execute_result"
    }
   ],
   "source": [
    "df_stau= pd.read_sql_query(q, conn)\n",
    "df_stau.head()"
   ]
  },
  {
   "cell_type": "markdown",
   "id": "f052f73c-09dd-43c6-b57d-bbee7c2f716a",
   "metadata": {},
   "source": [
    "#### Präp Loop, indem ich eine Liste mit allen Tabellen erstelle:"
   ]
  },
  {
   "cell_type": "code",
   "execution_count": 14,
   "id": "19bb5935-d0c4-4a33-a2f5-f4fcbe844a25",
   "metadata": {},
   "outputs": [],
   "source": [
    "inspector = inspect(engine)"
   ]
  },
  {
   "cell_type": "code",
   "execution_count": 15,
   "id": "7645ebbe-44c7-495d-b1f4-cd25eac1d0e0",
   "metadata": {
    "tags": []
   },
   "outputs": [],
   "source": [
    "tab = inspector.get_table_names()\n",
    "tab = tab[:-1]"
   ]
  },
  {
   "cell_type": "code",
   "execution_count": 16,
   "id": "376f2183-67a7-4066-b38d-f053afe0f204",
   "metadata": {},
   "outputs": [
    {
     "data": {
      "text/plain": [
       "'C:\\\\Users\\\\peter\\\\Documents\\\\Projekte\\\\Coding\\\\Jupyter\\\\RosBe'"
      ]
     },
     "execution_count": 16,
     "metadata": {},
     "output_type": "execute_result"
    }
   ],
   "source": [
    "import os\n",
    "os.getcwd()"
   ]
  },
  {
   "cell_type": "markdown",
   "id": "07770373-04a1-46cc-867f-6706dab5c65f",
   "metadata": {},
   "source": [
    "### Wichtig, Erkenntnis vom 2. März 23: Diese Abfrage liefert mir wg. der Bedingung \"Anzahl > 50\" nur Staus, die zu den \"rush hours\" passieren, zu denen ich die Daten im Minutentakt erfasse!"
   ]
  },
  {
   "cell_type": "code",
   "execution_count": 17,
   "id": "01e8b818-6074-4682-b3e4-82121aaff408",
   "metadata": {},
   "outputs": [],
   "source": [
    "ListAnzahl = []\n",
    "DfList = []\n",
    "for table in tab:\n",
    "    t = db.Table(table, metadata, autoload = True)\n",
    "    ListAnzahl.append(table[10:])\n",
    "    q = db.select(t.c.time, func.count(t.c.time).label('Anzahl'), func.strftime('%Y', t.c.time).label('Jahr'), func.strftime('%m', t.c.time).label('Monat'), \\\n",
    "              func.strftime('%d', t.c.time).label('Tag'), func.strftime('%H', t.c.time, 'localtime').label('Stunde'), \\\n",
    "               func.round(func.avg(t.c.vfr11)).label('AVG_flow'), func.round(func.avg(t.c.s12)).label('AVG_speed')). \\\n",
    "    where(and_(t.c.s12 >0, t.c.s12 <40 )) .\\\n",
    "    group_by(func.strftime('%Y', t.c.time), func.strftime('%m', t.c.time), func.strftime('%d', t.c.time), func.strftime('%H', t.c.time)). \\\n",
    "    having(func.count(t.c.time) > 50). \\\n",
    "    order_by(func.count('Anzahl').desc()) \n",
    "    result = conn.execute(q)\n",
    "    row = result.fetchall()\n",
    "    ListAnzahl.append(len(row)) \n",
    "    df = pd.read_sql_query(q, conn)\n",
    "    df.to_csv(r'C:\\Users\\peter\\Documents\\Projekte\\Coding\\Jupyter\\Stau\\st_' + table[10:] + '.csv', index = False)"
   ]
  },
  {
   "cell_type": "code",
   "execution_count": 18,
   "id": "0a2199dc-2d26-4bbe-ada8-726f717bc735",
   "metadata": {},
   "outputs": [
    {
     "name": "stdout",
     "output_type": "stream",
     "text": [
      "['0020_01', 0, '0020_02', 26, '0020_03', 21, '0020_04', 9, '0020_05', 114, '0020_06', 84, '0020_07', 89, '0020_08', 0, '0084_01', 190, '0084_02', 74, '0084_03', 0, '0084_04', 0, '0150_01', 0, '0150_02', 0, '0240_01', 0, '0240_02', 0, '0240_03', 156, '0240_04', 155, '0240_05', 2, '0240_06', 3, '0240_07', 1, '0240_08', 0, '0243_01', 0, '0243_02', 0, '0243_03', 4, '0243_04', 4, '0274_01', 3, '0274_02', 3, '0274_03', 3, '0274_04', 4, '0274_05', 6, '0274_06', 0, '0282_01', 13, '0282_02', 23, '0282_03', 26, '0282_04', 2, '0282_05', 1, '0282_06', 1, '0286_01', 0, '0286_02', 1, '0286_03', 1, '0286_04', 1, '0286_05', 0, '0286_06', 0, '0286_07', 0, '0286_08', 0, '0287_01', 0, '0287_02', 0, '0287_03', 0, '0287_04', 0, '0528_01', 0, '0528_02', 0, '0528_03', 0, '0528_04', 0, '0529_01', 0, '0529_02', 60, '0529_03', 125, '0529_04', 0, '0529_05', 0, '0601_01', 4, '0601_02', 1, '0601_03', 0, '0601_04', 51, '0602_01', 2, '0602_02', 1, '0602_03', 4, '0602_04', 10, '0605_01', 1, '0605_02', 2, '0605_03', 2, '0605_04', 0, '0605_05', 1, '0605_06', 0, '0605_07', 0, '0605_08', 0]\n"
     ]
    }
   ],
   "source": [
    "print(ListAnzahl)"
   ]
  },
  {
   "cell_type": "markdown",
   "id": "f45569ac-1cf4-424c-9328-eaeb1c67b350",
   "metadata": {
    "tags": []
   },
   "source": [
    "### Und jetzt noch die Abfrage für Staus ausserhalb der Stosszeiten"
   ]
  },
  {
   "cell_type": "code",
   "execution_count": null,
   "id": "a4455a0c-2ea5-4544-baf2-6342bb3acdf2",
   "metadata": {},
   "outputs": [],
   "source": []
  },
  {
   "cell_type": "code",
   "execution_count": null,
   "id": "f921c480-c25a-4c4b-bce6-5efe94f0b0a5",
   "metadata": {},
   "outputs": [],
   "source": []
  },
  {
   "cell_type": "code",
   "execution_count": null,
   "id": "318ce900-b1d8-4fbc-b115-f6f305effdc6",
   "metadata": {},
   "outputs": [],
   "source": []
  },
  {
   "cell_type": "code",
   "execution_count": null,
   "id": "448f0d0b-a49a-48a3-b3c4-109e7a2a270e",
   "metadata": {},
   "outputs": [],
   "source": []
  }
 ],
 "metadata": {
  "kernelspec": {
   "display_name": "Python 3 (ipykernel)",
   "language": "python",
   "name": "python3"
  },
  "language_info": {
   "codemirror_mode": {
    "name": "ipython",
    "version": 3
   },
   "file_extension": ".py",
   "mimetype": "text/x-python",
   "name": "python",
   "nbconvert_exporter": "python",
   "pygments_lexer": "ipython3",
   "version": "3.8.5"
  },
  "vscode": {
   "interpreter": {
    "hash": "222743de01b0a2f32e3840bc05ddbe845c7e0690154b3288fcb848260484a7b3"
   }
  }
 },
 "nbformat": 4,
 "nbformat_minor": 5
}
