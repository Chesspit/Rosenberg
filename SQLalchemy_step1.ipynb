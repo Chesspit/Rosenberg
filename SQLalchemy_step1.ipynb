{
 "cells": [
  {
   "cell_type": "markdown",
   "id": "51ccc50b",
   "metadata": {},
   "source": [
    "!pip install sqlalchemy"
   ]
  },
  {
   "cell_type": "code",
   "execution_count": 1,
   "id": "0a03d077",
   "metadata": {
    "tags": []
   },
   "outputs": [],
   "source": [
    "import sqlalchemy as db\n",
    "from sqlalchemy import create_engine"
   ]
  },
  {
   "cell_type": "code",
   "execution_count": 2,
   "id": "5e80072e",
   "metadata": {},
   "outputs": [
    {
     "data": {
      "text/plain": [
       "'C:\\\\Users\\\\peter\\\\Documents\\\\Projekte\\\\Coding\\\\Jupyter\\\\RosBe'"
      ]
     },
     "execution_count": 2,
     "metadata": {},
     "output_type": "execute_result"
    }
   ],
   "source": [
    "%pwd"
   ]
  },
  {
   "cell_type": "code",
   "execution_count": 3,
   "id": "1b7c6ba5",
   "metadata": {},
   "outputs": [
    {
     "name": "stdout",
     "output_type": "stream",
     "text": [
      " Datenträger in Laufwerk C: ist Windows\n",
      " Volumeseriennummer: AC94-BAC4\n",
      "\n",
      " Verzeichnis von C:\\Users\\peter\\Documents\\Projekte\\Coding\\Jupyter\\RosBe\n",
      "\n",
      "01.02.2023  10:52    <DIR>          .\n",
      "28.01.2023  13:39    <DIR>          ..\n",
      "01.02.2023  10:56    <DIR>          .ipynb_checkpoints\n",
      "01.02.2023  10:02            45’173 DeleteDoubles_all.ipynb\n",
      "11.12.2022  14:55         1’905’925 PandasProfiling.ipynb\n",
      "28.01.2023  14:04                85 README.md\n",
      "15.04.2022  08:27            49’823 SQLalchemy.ipynb\n",
      "01.09.2022  09:43            83’142 SQLalchemy_abfrage1.ipynb\n",
      "01.02.2023  09:38            24’179 SQLalchemy_PrepDb.ipynb\n",
      "01.08.2022  15:26            24’092 SQLalchemy_time.ipynb\n",
      "05.09.2022  09:36            42’861 SQLalchemy1.ipynb\n",
      "19.03.2022  09:34             2’284 Sys_path.ipynb\n",
      "22.06.2022  10:48            14’545 TC_DeleteDoubles.ipynb\n",
      "28.01.2023  09:22         1’346’551 TC_graphics.ipynb\n",
      "25.08.2022  13:29           105’630 TC_Qualität.ipynb\n",
      "11.04.2022  07:51             1’797 TC_Qualität.py\n",
      "11.12.2022  14:53           140’451 TC_query_data_for_graphs.ipynb\n",
      "05.09.2022  11:58            84’456 TC_query_data_for_graphs.old.ipynb\n",
      "28.01.2023  09:46            23’064 TC_query_stau.ipynb\n",
      "21.03.2022  16:58           223’479 TC_Steckbrief.ipynb\n",
      "25.08.2022  13:29           259’241 TC_Steckbrief_all.ipynb\n",
      "26.03.2022  10:22               271 TC_test.py\n",
      "21.06.2022  09:52               648 Test loop.py\n",
      "19.03.2022  09:47            24’414 Test Steckbrief_alchemy.ipynb\n",
      "              21 Datei(en),      4’402’111 Bytes\n",
      "               3 Verzeichnis(se), 22’913’421’312 Bytes frei\n"
     ]
    }
   ],
   "source": [
    "%ls"
   ]
  },
  {
   "cell_type": "markdown",
   "id": "63427492",
   "metadata": {},
   "source": [
    "engine = db.create_engine('sqlite:///tc_sg.db')"
   ]
  },
  {
   "cell_type": "code",
   "execution_count": 4,
   "id": "472882f1",
   "metadata": {},
   "outputs": [],
   "source": [
    "engine = db.create_engine('sqlite:///C:\\\\Users\\\\peter\\\\Documents\\\\Projekte\\\\Zähler\\\\tc_sg.db')"
   ]
  },
  {
   "cell_type": "markdown",
   "id": "20168973",
   "metadata": {
    "tags": []
   },
   "source": [
    "### Bemerkung: Man kann den Pfad mit \"\\\\\" oder dem Einsatz von \"r\" angeben! Ganz oben habe ich eine Kopie von 'tc_sg' ins lokale Verzeichnis geschoben."
   ]
  },
  {
   "cell_type": "code",
   "execution_count": 5,
   "id": "4966095d",
   "metadata": {},
   "outputs": [],
   "source": [
    "engine = db.create_engine(r'sqlite:///C:\\Users\\peter\\Documents\\Projekte\\Zähler\\tc_sg.db')"
   ]
  },
  {
   "cell_type": "code",
   "execution_count": 6,
   "id": "94b085e4",
   "metadata": {
    "tags": []
   },
   "outputs": [],
   "source": [
    "connection = engine.connect()\n",
    "metadata = db.MetaData()"
   ]
  },
  {
   "cell_type": "code",
   "execution_count": 7,
   "id": "20d1a5d2",
   "metadata": {},
   "outputs": [],
   "source": [
    "tr = db.Table('tcdata_CH_0084_01', metadata, autoload=True, autoload_with=engine)"
   ]
  },
  {
   "cell_type": "code",
   "execution_count": 8,
   "id": "417e2c59",
   "metadata": {},
   "outputs": [
    {
     "name": "stdout",
     "output_type": "stream",
     "text": [
      "['time', 'vfr11', 's12', 'vfr21', 's22', 'vfr1', 's2']\n"
     ]
    }
   ],
   "source": [
    "print(tr.columns.keys())"
   ]
  },
  {
   "cell_type": "code",
   "execution_count": 9,
   "id": "8cb5e0bb",
   "metadata": {},
   "outputs": [],
   "source": [
    "query = db.select([tr])"
   ]
  },
  {
   "cell_type": "code",
   "execution_count": 10,
   "id": "7d0c8cf3",
   "metadata": {
    "tags": []
   },
   "outputs": [],
   "source": [
    "result_proxy = connection.execute(query)"
   ]
  },
  {
   "cell_type": "code",
   "execution_count": 11,
   "id": "39ba977d",
   "metadata": {},
   "outputs": [],
   "source": [
    "result_set = result_proxy.fetchmany(50)"
   ]
  },
  {
   "cell_type": "code",
   "execution_count": 12,
   "id": "113adf4b",
   "metadata": {},
   "outputs": [
    {
     "name": "stdout",
     "output_type": "stream",
     "text": [
      "[('2021-06-19 05:53:00+02:00', 360.0, 81.8000031, 0.0, 0.0, 0.0, 0.0), ('2021-06-19 05:54:00+02:00', 120.0, 84.5, 0.0, 0.0, 0.0, 0.0), ('2021-06-19 05:55:00+02:00', 360.0, 76.8000031, 60.0, 82.0, 0.0, 0.0), ('2021-06-19 05:56:00+02:00', 480.0, 79.9000015, 0.0, 0.0, 0.0, 0.0), ('2021-06-19 05:57:00+02:00', 660.0, 79.5999985, 60.0, 79.0, 0.0, 0.0), ('2021-06-19 05:58:00+02:00', 420.0, 81.0, 0.0, 0.0, 0.0, 0.0), ('2021-06-19 05:59:00+02:00', 720.0, 83.4000015, 120.0, 76.0, 0.0, 0.0), ('2021-06-19 06:00:00+02:00', 360.0, 87.3000031, 120.0, 81.0, 0.0, 0.0), ('2021-06-19 06:01:00+02:00', 360.0, 82.6999969, 0.0, 0.0, 0.0, 0.0), ('2021-06-19 06:02:00+02:00', 660.0, 75.9000015, 0.0, 0.0, 0.0, 0.0), ('2021-06-19 06:03:00+02:00', 480.0, 85.0999985, 0.0, 0.0, 0.0, 0.0), ('2021-06-19 06:04:00+02:00', 600.0, 79.6999969, 120.0, 79.5, 0.0, 0.0), ('2021-06-19 06:05:00+02:00', 600.0, 83.0999985, 0.0, 0.0, 0.0, 0.0), ('2021-06-19 06:06:00+02:00', 720.0, 87.0, 0.0, 0.0, 0.0, 0.0), ('2021-06-19 06:07:00+02:00', 540.0, 80.1999969, 60.0, 80.0, 0.0, 0.0), ('2021-06-19 06:08:00+02:00', 720.0, 79.8000031, 60.0, 74.0, 0.0, 0.0), ('2021-06-19 06:09:00+02:00', 540.0, 80.1999969, 0.0, 0.0, 0.0, 0.0), ('2021-06-19 06:10:00+02:00', 600.0, 78.5, 0.0, 0.0, 0.0, 0.0), ('2021-06-19 06:11:00+02:00', 420.0, 81.9000015, 0.0, 0.0, 0.0, 0.0), ('2021-06-19 06:12:00+02:00', 360.0, 81.6999969, 0.0, 0.0, 0.0, 0.0), ('2021-06-19 06:13:00+02:00', 420.0, 80.0999985, 0.0, 0.0, 0.0, 0.0), ('2021-06-19 06:14:00+02:00', 480.0, 77.9000015, 0.0, 0.0, 0.0, 0.0), ('2021-06-19 06:15:00+02:00', 360.0, 81.5, 60.0, 76.0, 0.0, 0.0), ('2021-06-19 06:16:00+02:00', 300.0, 79.4000015, 0.0, 0.0, 0.0, 0.0), ('2021-06-19 06:17:00+02:00', 600.0, 82.0, 0.0, 0.0, 0.0, 0.0), ('2021-06-19 06:18:00+02:00', 720.0, 81.4000015, 0.0, 0.0, 0.0, 0.0), ('2021-06-19 06:19:00+02:00', 420.0, 84.4000015, 60.0, 81.0, 0.0, 0.0), ('2021-06-19 06:20:00+02:00', 480.0, 86.3000031, 0.0, 0.0, 0.0, 0.0), ('2021-06-19 06:21:00+02:00', 600.0, 82.4000015, 0.0, 0.0, 0.0, 0.0), ('2021-06-19 06:22:00+02:00', 720.0, 81.0, 60.0, 80.0, 0.0, 0.0), ('2021-06-19 06:23:00+02:00', 1020.0, 78.8000031, 0.0, 0.0, 0.0, 0.0), ('2021-06-19 06:24:00+02:00', 660.0, 78.5999985, 0.0, 0.0, 0.0, 0.0), ('2021-06-19 06:25:00+02:00', 960.0, 81.0999985, 60.0, 80.0, 0.0, 0.0), ('2021-06-19 06:26:00+02:00', 840.0, 79.4000015, 0.0, 0.0, 0.0, 0.0), ('2021-06-19 06:27:00+02:00', 660.0, 83.8000031, 0.0, 0.0, 0.0, 0.0), ('2021-06-19 06:28:00+02:00', 1200.0, 80.5999985, 0.0, 0.0, 0.0, 0.0), ('2021-06-19 06:29:00+02:00', 660.0, 83.9000015, 0.0, 0.0, 0.0, 0.0), ('2021-06-19 06:30:00+02:00', 240.0, 77.8000031, 0.0, 0.0, 0.0, 0.0), ('2021-06-19 06:31:00+02:00', 660.0, 83.5, 0.0, 0.0, 0.0, 0.0), ('2021-06-19 06:32:00+02:00', 420.0, 84.3000031, 0.0, 0.0, 0.0, 0.0), ('2021-06-19 06:33:00+02:00', 780.0, 80.5, 0.0, 0.0, 0.0, 0.0), ('2021-06-19 06:34:00+02:00', 420.0, 86.5999985, 0.0, 0.0, 0.0, 0.0), ('2021-06-19 06:35:00+02:00', 960.0, 82.8000031, 0.0, 0.0, 0.0, 0.0), ('2021-06-19 06:36:00+02:00', 960.0, 80.9000015, 60.0, 83.0, 0.0, 0.0), ('2021-06-19 06:37:00+02:00', 840.0, 80.0, 60.0, 74.0, 0.0, 0.0), ('2021-06-19 06:38:00+02:00', 720.0, 79.3000031, 60.0, 82.0, 0.0, 0.0), ('2021-06-19 06:39:00+02:00', 960.0, 80.4000015, 60.0, 82.0, 0.0, 0.0), ('2021-06-19 06:40:00+02:00', 900.0, 81.8000031, 0.0, 0.0, 0.0, 0.0), ('2021-06-19 06:41:00+02:00', 960.0, 81.0999985, 0.0, 0.0, 0.0, 0.0), ('2021-06-19 06:42:00+02:00', 420.0, 86.3000031, 0.0, 0.0, 0.0, 0.0)]\n"
     ]
    }
   ],
   "source": [
    "print(result_set)"
   ]
  },
  {
   "cell_type": "markdown",
   "id": "3dd2ae21",
   "metadata": {},
   "source": [
    "### Das Query-Resultat lässt sich in einem Dataframe besser darstellen"
   ]
  },
  {
   "cell_type": "code",
   "execution_count": 13,
   "id": "b59cd501",
   "metadata": {},
   "outputs": [],
   "source": [
    "import pandas as pd"
   ]
  },
  {
   "cell_type": "code",
   "execution_count": 14,
   "id": "b6d61be7",
   "metadata": {},
   "outputs": [
    {
     "name": "stdout",
     "output_type": "stream",
     "text": [
      "                           0      1          2     3     4    5    6\n",
      "0  2021-06-19 05:53:00+02:00  360.0  81.800003   0.0   0.0  0.0  0.0\n",
      "1  2021-06-19 05:54:00+02:00  120.0  84.500000   0.0   0.0  0.0  0.0\n",
      "2  2021-06-19 05:55:00+02:00  360.0  76.800003  60.0  82.0  0.0  0.0\n",
      "3  2021-06-19 05:56:00+02:00  480.0  79.900002   0.0   0.0  0.0  0.0\n",
      "4  2021-06-19 05:57:00+02:00  660.0  79.599998  60.0  79.0  0.0  0.0\n"
     ]
    }
   ],
   "source": [
    "df = pd.DataFrame(result_set)\n",
    "print(df.head(5))"
   ]
  },
  {
   "cell_type": "code",
   "execution_count": 15,
   "id": "408bc6e3",
   "metadata": {},
   "outputs": [],
   "source": [
    "df.columns = result_set[0].keys()"
   ]
  },
  {
   "cell_type": "code",
   "execution_count": 16,
   "id": "52810f93",
   "metadata": {},
   "outputs": [
    {
     "name": "stdout",
     "output_type": "stream",
     "text": [
      "                        time  vfr11        s12  vfr21   s22  vfr1   s2\n",
      "0  2021-06-19 05:53:00+02:00  360.0  81.800003    0.0   0.0   0.0  0.0\n",
      "1  2021-06-19 05:54:00+02:00  120.0  84.500000    0.0   0.0   0.0  0.0\n",
      "2  2021-06-19 05:55:00+02:00  360.0  76.800003   60.0  82.0   0.0  0.0\n",
      "3  2021-06-19 05:56:00+02:00  480.0  79.900002    0.0   0.0   0.0  0.0\n",
      "4  2021-06-19 05:57:00+02:00  660.0  79.599998   60.0  79.0   0.0  0.0\n"
     ]
    }
   ],
   "source": [
    "print(df.head(5))"
   ]
  },
  {
   "cell_type": "markdown",
   "id": "f31e9850",
   "metadata": {},
   "source": [
    "### ...nächste Query"
   ]
  },
  {
   "cell_type": "code",
   "execution_count": 17,
   "id": "8b1a4ff6",
   "metadata": {},
   "outputs": [],
   "source": [
    "query = db.select([tr]).where(tr.columns.s12 == 84.5)"
   ]
  },
  {
   "cell_type": "code",
   "execution_count": 18,
   "id": "f0e42a27",
   "metadata": {
    "tags": []
   },
   "outputs": [],
   "source": [
    "result_proxy = connection.execute(query)"
   ]
  },
  {
   "cell_type": "code",
   "execution_count": 19,
   "id": "93f8e6b2",
   "metadata": {},
   "outputs": [],
   "source": [
    "result_set = result_proxy.fetchmany(50)"
   ]
  },
  {
   "cell_type": "code",
   "execution_count": 20,
   "id": "5f16cc8d",
   "metadata": {},
   "outputs": [
    {
     "name": "stdout",
     "output_type": "stream",
     "text": [
      "[('2021-06-19 05:54:00+02:00', 120.0, 84.5, 0.0, 0.0, 0.0, 0.0), ('2021-06-19 06:53:00+02:00', 660.0, 84.5, 60.0, 82.0, 0.0, 0.0), ('2021-06-19 20:58:00+02:00', 780.0, 84.5, 0.0, 0.0, 0.0, 0.0), ('2021-06-20 06:09:00+02:00', 120.0, 84.5, 0.0, 0.0, 0.0, 0.0), ('2021-06-22 01:23:00+02:00', 120.0, 84.5, 0.0, 0.0, 0.0, 0.0), ('2021-06-22 22:18:00+02:00', 360.0, 84.5, 0.0, 0.0, 0.0, 0.0), ('2021-06-23 00:33:00+02:00', 120.0, 84.5, 0.0, 0.0, 0.0, 0.0), ('2021-06-26 05:48:00+02:00', 660.0, 84.5, 0.0, 0.0, 0.0, 0.0), ('2021-06-28 23:58:00+02:00', 360.0, 84.5, 0.0, 0.0, 0.0, 0.0), ('2021-06-29 22:48:00+02:00', 360.0, 84.5, 60.0, 82.0, 0.0, 0.0), ('2021-06-30 04:08:00+02:00', 120.0, 84.5, 0.0, 0.0, 0.0, 0.0), ('2021-06-30 05:55:00+02:00', 360.0, 84.5, 180.0, 79.6999969, 0.0, 0.0), ('2021-07-02 00:58:00+02:00', 120.0, 84.5, 60.0, 74.0, 0.0, 0.0), ('2021-07-04 03:13:00+02:00', 120.0, 84.5, 0.0, 0.0, 0.0, 0.0), ('2021-07-04 04:39:00+02:00', 360.0, 84.5, 0.0, 0.0, 0.0, 0.0), ('2021-07-04 06:48:00+02:00', 240.0, 84.5, 0.0, 0.0, 0.0, 0.0), ('2021-07-08 04:54:00+02:00', 240.0, 84.5, 60.0, 76.0, 0.0, 0.0), ('2021-07-09 02:23:00+02:00', 120.0, 84.5, 60.0, 88.0, 0.0, 0.0), ('2021-07-11 04:28:00+02:00', 240.0, 84.5, 0.0, 0.0, 0.0, 0.0), ('2021-07-11 06:57:00+02:00', 120.0, 84.5, 0.0, 0.0, 0.0, 0.0), ('2021-07-11 07:37:00+02:00', 240.0, 84.5, 0.0, 0.0, 0.0, 0.0), ('2021-07-13 22:28:00+02:00', 600.0, 84.5, 0.0, 0.0, 0.0, 0.0), ('2021-07-14 01:23:00+02:00', 240.0, 84.5, 60.0, 78.0, 0.0, 0.0), ('2021-07-14 02:58:00+02:00', 120.0, 84.5, 0.0, 0.0, 0.0, 0.0), ('2021-07-15 03:38:00+02:00', 240.0, 84.5, 0.0, 0.0, 0.0, 0.0), ('2021-07-15 05:55:00+02:00', 600.0, 84.5, 0.0, 0.0, 0.0, 0.0), ('2021-07-25 05:54:00+02:00', 120.0, 84.5, 0.0, 0.0, 0.0, 0.0)]\n"
     ]
    }
   ],
   "source": [
    "print(result_set)"
   ]
  },
  {
   "cell_type": "code",
   "execution_count": 21,
   "id": "c3e933ea",
   "metadata": {},
   "outputs": [
    {
     "name": "stdout",
     "output_type": "stream",
     "text": [
      "                         time  vfr11   s12  vfr21        s22  vfr1   s2\n",
      "0   2021-06-19 05:54:00+02:00  120.0  84.5    0.0   0.000000   0.0  0.0\n",
      "1   2021-06-19 06:53:00+02:00  660.0  84.5   60.0  82.000000   0.0  0.0\n",
      "2   2021-06-19 20:58:00+02:00  780.0  84.5    0.0   0.000000   0.0  0.0\n",
      "3   2021-06-20 06:09:00+02:00  120.0  84.5    0.0   0.000000   0.0  0.0\n",
      "4   2021-06-22 01:23:00+02:00  120.0  84.5    0.0   0.000000   0.0  0.0\n",
      "5   2021-06-22 22:18:00+02:00  360.0  84.5    0.0   0.000000   0.0  0.0\n",
      "6   2021-06-23 00:33:00+02:00  120.0  84.5    0.0   0.000000   0.0  0.0\n",
      "7   2021-06-26 05:48:00+02:00  660.0  84.5    0.0   0.000000   0.0  0.0\n",
      "8   2021-06-28 23:58:00+02:00  360.0  84.5    0.0   0.000000   0.0  0.0\n",
      "9   2021-06-29 22:48:00+02:00  360.0  84.5   60.0  82.000000   0.0  0.0\n",
      "10  2021-06-30 04:08:00+02:00  120.0  84.5    0.0   0.000000   0.0  0.0\n",
      "11  2021-06-30 05:55:00+02:00  360.0  84.5  180.0  79.699997   0.0  0.0\n",
      "12  2021-07-02 00:58:00+02:00  120.0  84.5   60.0  74.000000   0.0  0.0\n",
      "13  2021-07-04 03:13:00+02:00  120.0  84.5    0.0   0.000000   0.0  0.0\n",
      "14  2021-07-04 04:39:00+02:00  360.0  84.5    0.0   0.000000   0.0  0.0\n",
      "15  2021-07-04 06:48:00+02:00  240.0  84.5    0.0   0.000000   0.0  0.0\n",
      "16  2021-07-08 04:54:00+02:00  240.0  84.5   60.0  76.000000   0.0  0.0\n",
      "17  2021-07-09 02:23:00+02:00  120.0  84.5   60.0  88.000000   0.0  0.0\n",
      "18  2021-07-11 04:28:00+02:00  240.0  84.5    0.0   0.000000   0.0  0.0\n",
      "19  2021-07-11 06:57:00+02:00  120.0  84.5    0.0   0.000000   0.0  0.0\n",
      "20  2021-07-11 07:37:00+02:00  240.0  84.5    0.0   0.000000   0.0  0.0\n",
      "21  2021-07-13 22:28:00+02:00  600.0  84.5    0.0   0.000000   0.0  0.0\n",
      "22  2021-07-14 01:23:00+02:00  240.0  84.5   60.0  78.000000   0.0  0.0\n",
      "23  2021-07-14 02:58:00+02:00  120.0  84.5    0.0   0.000000   0.0  0.0\n",
      "24  2021-07-15 03:38:00+02:00  240.0  84.5    0.0   0.000000   0.0  0.0\n",
      "25  2021-07-15 05:55:00+02:00  600.0  84.5    0.0   0.000000   0.0  0.0\n",
      "26  2021-07-25 05:54:00+02:00  120.0  84.5    0.0   0.000000   0.0  0.0\n"
     ]
    }
   ],
   "source": [
    "df = pd.DataFrame(result_set)\n",
    "df.columns = result_set[0].keys()\n",
    "print(df.head(50))"
   ]
  },
  {
   "cell_type": "markdown",
   "id": "bd039fd5",
   "metadata": {},
   "source": [
    "### Visualisierung mittels Plotly"
   ]
  },
  {
   "cell_type": "code",
   "execution_count": 28,
   "id": "c55f6256",
   "metadata": {},
   "outputs": [],
   "source": [
    "import plotly\n",
    "import plotly.graph_objects as go"
   ]
  },
  {
   "cell_type": "code",
   "execution_count": 29,
   "id": "9a1ff970",
   "metadata": {},
   "outputs": [
    {
     "data": {
      "application/vnd.plotly.v1+json": {
       "config": {
        "plotlyServerURL": "https://plot.ly"
       },
       "data": [
        {
         "cells": {
          "align": "left",
          "fill": {
           "color": "lavender"
          },
          "values": [
           [
            "2021-06-19 05:54:00+02:00",
            "2021-06-19 06:53:00+02:00",
            "2021-06-19 20:58:00+02:00",
            "2021-06-20 06:09:00+02:00",
            "2021-06-22 01:23:00+02:00",
            "2021-06-22 22:18:00+02:00",
            "2021-06-23 00:33:00+02:00",
            "2021-06-26 05:48:00+02:00",
            "2021-06-28 23:58:00+02:00",
            "2021-06-29 22:48:00+02:00",
            "2021-06-30 04:08:00+02:00",
            "2021-06-30 05:55:00+02:00",
            "2021-07-02 00:58:00+02:00",
            "2021-07-04 03:13:00+02:00",
            "2021-07-04 04:39:00+02:00",
            "2021-07-04 06:48:00+02:00",
            "2021-07-08 04:54:00+02:00",
            "2021-07-09 02:23:00+02:00",
            "2021-07-11 04:28:00+02:00",
            "2021-07-11 06:57:00+02:00",
            "2021-07-11 07:37:00+02:00",
            "2021-07-13 22:28:00+02:00",
            "2021-07-14 01:23:00+02:00",
            "2021-07-14 02:58:00+02:00",
            "2021-07-15 03:38:00+02:00",
            "2021-07-15 05:55:00+02:00",
            "2021-07-25 05:54:00+02:00"
           ],
           [
            120,
            660,
            780,
            120,
            120,
            360,
            120,
            660,
            360,
            360,
            120,
            360,
            120,
            120,
            360,
            240,
            240,
            120,
            240,
            120,
            240,
            600,
            240,
            120,
            240,
            600,
            120
           ],
           [
            84.5,
            84.5,
            84.5,
            84.5,
            84.5,
            84.5,
            84.5,
            84.5,
            84.5,
            84.5,
            84.5,
            84.5,
            84.5,
            84.5,
            84.5,
            84.5,
            84.5,
            84.5,
            84.5,
            84.5,
            84.5,
            84.5,
            84.5,
            84.5,
            84.5,
            84.5,
            84.5
           ]
          ]
         },
         "header": {
          "align": "left",
          "fill": {
           "color": "paleturquoise"
          },
          "values": [
           "time",
           "vfr11",
           "s12",
           "vfr21",
           "s22",
           "vfr1",
           "s2"
          ]
         },
         "type": "table"
        }
       ],
       "layout": {
        "autosize": true,
        "template": {
         "data": {
          "bar": [
           {
            "error_x": {
             "color": "#2a3f5f"
            },
            "error_y": {
             "color": "#2a3f5f"
            },
            "marker": {
             "line": {
              "color": "#E5ECF6",
              "width": 0.5
             },
             "pattern": {
              "fillmode": "overlay",
              "size": 10,
              "solidity": 0.2
             }
            },
            "type": "bar"
           }
          ],
          "barpolar": [
           {
            "marker": {
             "line": {
              "color": "#E5ECF6",
              "width": 0.5
             },
             "pattern": {
              "fillmode": "overlay",
              "size": 10,
              "solidity": 0.2
             }
            },
            "type": "barpolar"
           }
          ],
          "carpet": [
           {
            "aaxis": {
             "endlinecolor": "#2a3f5f",
             "gridcolor": "white",
             "linecolor": "white",
             "minorgridcolor": "white",
             "startlinecolor": "#2a3f5f"
            },
            "baxis": {
             "endlinecolor": "#2a3f5f",
             "gridcolor": "white",
             "linecolor": "white",
             "minorgridcolor": "white",
             "startlinecolor": "#2a3f5f"
            },
            "type": "carpet"
           }
          ],
          "choropleth": [
           {
            "colorbar": {
             "outlinewidth": 0,
             "ticks": ""
            },
            "type": "choropleth"
           }
          ],
          "contour": [
           {
            "colorbar": {
             "outlinewidth": 0,
             "ticks": ""
            },
            "colorscale": [
             [
              0,
              "#0d0887"
             ],
             [
              0.1111111111111111,
              "#46039f"
             ],
             [
              0.2222222222222222,
              "#7201a8"
             ],
             [
              0.3333333333333333,
              "#9c179e"
             ],
             [
              0.4444444444444444,
              "#bd3786"
             ],
             [
              0.5555555555555556,
              "#d8576b"
             ],
             [
              0.6666666666666666,
              "#ed7953"
             ],
             [
              0.7777777777777778,
              "#fb9f3a"
             ],
             [
              0.8888888888888888,
              "#fdca26"
             ],
             [
              1,
              "#f0f921"
             ]
            ],
            "type": "contour"
           }
          ],
          "contourcarpet": [
           {
            "colorbar": {
             "outlinewidth": 0,
             "ticks": ""
            },
            "type": "contourcarpet"
           }
          ],
          "heatmap": [
           {
            "colorbar": {
             "outlinewidth": 0,
             "ticks": ""
            },
            "colorscale": [
             [
              0,
              "#0d0887"
             ],
             [
              0.1111111111111111,
              "#46039f"
             ],
             [
              0.2222222222222222,
              "#7201a8"
             ],
             [
              0.3333333333333333,
              "#9c179e"
             ],
             [
              0.4444444444444444,
              "#bd3786"
             ],
             [
              0.5555555555555556,
              "#d8576b"
             ],
             [
              0.6666666666666666,
              "#ed7953"
             ],
             [
              0.7777777777777778,
              "#fb9f3a"
             ],
             [
              0.8888888888888888,
              "#fdca26"
             ],
             [
              1,
              "#f0f921"
             ]
            ],
            "type": "heatmap"
           }
          ],
          "heatmapgl": [
           {
            "colorbar": {
             "outlinewidth": 0,
             "ticks": ""
            },
            "colorscale": [
             [
              0,
              "#0d0887"
             ],
             [
              0.1111111111111111,
              "#46039f"
             ],
             [
              0.2222222222222222,
              "#7201a8"
             ],
             [
              0.3333333333333333,
              "#9c179e"
             ],
             [
              0.4444444444444444,
              "#bd3786"
             ],
             [
              0.5555555555555556,
              "#d8576b"
             ],
             [
              0.6666666666666666,
              "#ed7953"
             ],
             [
              0.7777777777777778,
              "#fb9f3a"
             ],
             [
              0.8888888888888888,
              "#fdca26"
             ],
             [
              1,
              "#f0f921"
             ]
            ],
            "type": "heatmapgl"
           }
          ],
          "histogram": [
           {
            "marker": {
             "pattern": {
              "fillmode": "overlay",
              "size": 10,
              "solidity": 0.2
             }
            },
            "type": "histogram"
           }
          ],
          "histogram2d": [
           {
            "colorbar": {
             "outlinewidth": 0,
             "ticks": ""
            },
            "colorscale": [
             [
              0,
              "#0d0887"
             ],
             [
              0.1111111111111111,
              "#46039f"
             ],
             [
              0.2222222222222222,
              "#7201a8"
             ],
             [
              0.3333333333333333,
              "#9c179e"
             ],
             [
              0.4444444444444444,
              "#bd3786"
             ],
             [
              0.5555555555555556,
              "#d8576b"
             ],
             [
              0.6666666666666666,
              "#ed7953"
             ],
             [
              0.7777777777777778,
              "#fb9f3a"
             ],
             [
              0.8888888888888888,
              "#fdca26"
             ],
             [
              1,
              "#f0f921"
             ]
            ],
            "type": "histogram2d"
           }
          ],
          "histogram2dcontour": [
           {
            "colorbar": {
             "outlinewidth": 0,
             "ticks": ""
            },
            "colorscale": [
             [
              0,
              "#0d0887"
             ],
             [
              0.1111111111111111,
              "#46039f"
             ],
             [
              0.2222222222222222,
              "#7201a8"
             ],
             [
              0.3333333333333333,
              "#9c179e"
             ],
             [
              0.4444444444444444,
              "#bd3786"
             ],
             [
              0.5555555555555556,
              "#d8576b"
             ],
             [
              0.6666666666666666,
              "#ed7953"
             ],
             [
              0.7777777777777778,
              "#fb9f3a"
             ],
             [
              0.8888888888888888,
              "#fdca26"
             ],
             [
              1,
              "#f0f921"
             ]
            ],
            "type": "histogram2dcontour"
           }
          ],
          "mesh3d": [
           {
            "colorbar": {
             "outlinewidth": 0,
             "ticks": ""
            },
            "type": "mesh3d"
           }
          ],
          "parcoords": [
           {
            "line": {
             "colorbar": {
              "outlinewidth": 0,
              "ticks": ""
             }
            },
            "type": "parcoords"
           }
          ],
          "pie": [
           {
            "automargin": true,
            "type": "pie"
           }
          ],
          "scatter": [
           {
            "marker": {
             "colorbar": {
              "outlinewidth": 0,
              "ticks": ""
             }
            },
            "type": "scatter"
           }
          ],
          "scatter3d": [
           {
            "line": {
             "colorbar": {
              "outlinewidth": 0,
              "ticks": ""
             }
            },
            "marker": {
             "colorbar": {
              "outlinewidth": 0,
              "ticks": ""
             }
            },
            "type": "scatter3d"
           }
          ],
          "scattercarpet": [
           {
            "marker": {
             "colorbar": {
              "outlinewidth": 0,
              "ticks": ""
             }
            },
            "type": "scattercarpet"
           }
          ],
          "scattergeo": [
           {
            "marker": {
             "colorbar": {
              "outlinewidth": 0,
              "ticks": ""
             }
            },
            "type": "scattergeo"
           }
          ],
          "scattergl": [
           {
            "marker": {
             "colorbar": {
              "outlinewidth": 0,
              "ticks": ""
             }
            },
            "type": "scattergl"
           }
          ],
          "scattermapbox": [
           {
            "marker": {
             "colorbar": {
              "outlinewidth": 0,
              "ticks": ""
             }
            },
            "type": "scattermapbox"
           }
          ],
          "scatterpolar": [
           {
            "marker": {
             "colorbar": {
              "outlinewidth": 0,
              "ticks": ""
             }
            },
            "type": "scatterpolar"
           }
          ],
          "scatterpolargl": [
           {
            "marker": {
             "colorbar": {
              "outlinewidth": 0,
              "ticks": ""
             }
            },
            "type": "scatterpolargl"
           }
          ],
          "scatterternary": [
           {
            "marker": {
             "colorbar": {
              "outlinewidth": 0,
              "ticks": ""
             }
            },
            "type": "scatterternary"
           }
          ],
          "surface": [
           {
            "colorbar": {
             "outlinewidth": 0,
             "ticks": ""
            },
            "colorscale": [
             [
              0,
              "#0d0887"
             ],
             [
              0.1111111111111111,
              "#46039f"
             ],
             [
              0.2222222222222222,
              "#7201a8"
             ],
             [
              0.3333333333333333,
              "#9c179e"
             ],
             [
              0.4444444444444444,
              "#bd3786"
             ],
             [
              0.5555555555555556,
              "#d8576b"
             ],
             [
              0.6666666666666666,
              "#ed7953"
             ],
             [
              0.7777777777777778,
              "#fb9f3a"
             ],
             [
              0.8888888888888888,
              "#fdca26"
             ],
             [
              1,
              "#f0f921"
             ]
            ],
            "type": "surface"
           }
          ],
          "table": [
           {
            "cells": {
             "fill": {
              "color": "#EBF0F8"
             },
             "line": {
              "color": "white"
             }
            },
            "header": {
             "fill": {
              "color": "#C8D4E3"
             },
             "line": {
              "color": "white"
             }
            },
            "type": "table"
           }
          ]
         },
         "layout": {
          "annotationdefaults": {
           "arrowcolor": "#2a3f5f",
           "arrowhead": 0,
           "arrowwidth": 1
          },
          "autotypenumbers": "strict",
          "coloraxis": {
           "colorbar": {
            "outlinewidth": 0,
            "ticks": ""
           }
          },
          "colorscale": {
           "diverging": [
            [
             0,
             "#8e0152"
            ],
            [
             0.1,
             "#c51b7d"
            ],
            [
             0.2,
             "#de77ae"
            ],
            [
             0.3,
             "#f1b6da"
            ],
            [
             0.4,
             "#fde0ef"
            ],
            [
             0.5,
             "#f7f7f7"
            ],
            [
             0.6,
             "#e6f5d0"
            ],
            [
             0.7,
             "#b8e186"
            ],
            [
             0.8,
             "#7fbc41"
            ],
            [
             0.9,
             "#4d9221"
            ],
            [
             1,
             "#276419"
            ]
           ],
           "sequential": [
            [
             0,
             "#0d0887"
            ],
            [
             0.1111111111111111,
             "#46039f"
            ],
            [
             0.2222222222222222,
             "#7201a8"
            ],
            [
             0.3333333333333333,
             "#9c179e"
            ],
            [
             0.4444444444444444,
             "#bd3786"
            ],
            [
             0.5555555555555556,
             "#d8576b"
            ],
            [
             0.6666666666666666,
             "#ed7953"
            ],
            [
             0.7777777777777778,
             "#fb9f3a"
            ],
            [
             0.8888888888888888,
             "#fdca26"
            ],
            [
             1,
             "#f0f921"
            ]
           ],
           "sequentialminus": [
            [
             0,
             "#0d0887"
            ],
            [
             0.1111111111111111,
             "#46039f"
            ],
            [
             0.2222222222222222,
             "#7201a8"
            ],
            [
             0.3333333333333333,
             "#9c179e"
            ],
            [
             0.4444444444444444,
             "#bd3786"
            ],
            [
             0.5555555555555556,
             "#d8576b"
            ],
            [
             0.6666666666666666,
             "#ed7953"
            ],
            [
             0.7777777777777778,
             "#fb9f3a"
            ],
            [
             0.8888888888888888,
             "#fdca26"
            ],
            [
             1,
             "#f0f921"
            ]
           ]
          },
          "colorway": [
           "#636efa",
           "#EF553B",
           "#00cc96",
           "#ab63fa",
           "#FFA15A",
           "#19d3f3",
           "#FF6692",
           "#B6E880",
           "#FF97FF",
           "#FECB52"
          ],
          "font": {
           "color": "#2a3f5f"
          },
          "geo": {
           "bgcolor": "white",
           "lakecolor": "white",
           "landcolor": "#E5ECF6",
           "showlakes": true,
           "showland": true,
           "subunitcolor": "white"
          },
          "hoverlabel": {
           "align": "left"
          },
          "hovermode": "closest",
          "mapbox": {
           "style": "light"
          },
          "paper_bgcolor": "white",
          "plot_bgcolor": "#E5ECF6",
          "polar": {
           "angularaxis": {
            "gridcolor": "white",
            "linecolor": "white",
            "ticks": ""
           },
           "bgcolor": "#E5ECF6",
           "radialaxis": {
            "gridcolor": "white",
            "linecolor": "white",
            "ticks": ""
           }
          },
          "scene": {
           "xaxis": {
            "backgroundcolor": "#E5ECF6",
            "gridcolor": "white",
            "gridwidth": 2,
            "linecolor": "white",
            "showbackground": true,
            "ticks": "",
            "zerolinecolor": "white"
           },
           "yaxis": {
            "backgroundcolor": "#E5ECF6",
            "gridcolor": "white",
            "gridwidth": 2,
            "linecolor": "white",
            "showbackground": true,
            "ticks": "",
            "zerolinecolor": "white"
           },
           "zaxis": {
            "backgroundcolor": "#E5ECF6",
            "gridcolor": "white",
            "gridwidth": 2,
            "linecolor": "white",
            "showbackground": true,
            "ticks": "",
            "zerolinecolor": "white"
           }
          },
          "shapedefaults": {
           "line": {
            "color": "#2a3f5f"
           }
          },
          "ternary": {
           "aaxis": {
            "gridcolor": "white",
            "linecolor": "white",
            "ticks": ""
           },
           "baxis": {
            "gridcolor": "white",
            "linecolor": "white",
            "ticks": ""
           },
           "bgcolor": "#E5ECF6",
           "caxis": {
            "gridcolor": "white",
            "linecolor": "white",
            "ticks": ""
           }
          },
          "title": {
           "x": 0.05
          },
          "xaxis": {
           "automargin": true,
           "gridcolor": "white",
           "linecolor": "white",
           "ticks": "",
           "title": {
            "standoff": 15
           },
           "zerolinecolor": "white",
           "zerolinewidth": 2
          },
          "yaxis": {
           "automargin": true,
           "gridcolor": "white",
           "linecolor": "white",
           "ticks": "",
           "title": {
            "standoff": 15
           },
           "zerolinecolor": "white",
           "zerolinewidth": 2
          }
         }
        }
       }
      },
      "image/png": "[encoded data removed]",
      "text/html": [
       "<div>                            <div id=\"7497162c-fbab-4f3e-9c0b-54a3eea63ffd\" class=\"plotly-graph-div\" style=\"height:525px; width:100%;\"></div>            <script type=\"text/javascript\">                require([\"plotly\"], function(Plotly) {                    window.PLOTLYENV=window.PLOTLYENV || {};                                    if (document.getElementById(\"7497162c-fbab-4f3e-9c0b-54a3eea63ffd\")) {                    Plotly.newPlot(                        \"7497162c-fbab-4f3e-9c0b-54a3eea63ffd\",                        [{\"cells\":{\"align\":\"left\",\"fill\":{\"color\":\"lavender\"},\"values\":[[\"2021-06-19 05:54:00+02:00\",\"2021-06-19 06:53:00+02:00\",\"2021-06-19 20:58:00+02:00\",\"2021-06-20 06:09:00+02:00\",\"2021-06-22 01:23:00+02:00\",\"2021-06-22 22:18:00+02:00\",\"2021-06-23 00:33:00+02:00\",\"2021-06-26 05:48:00+02:00\",\"2021-06-28 23:58:00+02:00\",\"2021-06-29 22:48:00+02:00\",\"2021-06-30 04:08:00+02:00\",\"2021-06-30 05:55:00+02:00\",\"2021-07-02 00:58:00+02:00\",\"2021-07-04 03:13:00+02:00\",\"2021-07-04 04:39:00+02:00\",\"2021-07-04 06:48:00+02:00\",\"2021-07-08 04:54:00+02:00\",\"2021-07-09 02:23:00+02:00\",\"2021-07-11 04:28:00+02:00\",\"2021-07-11 06:57:00+02:00\",\"2021-07-11 07:37:00+02:00\",\"2021-07-13 22:28:00+02:00\",\"2021-07-14 01:23:00+02:00\",\"2021-07-14 02:58:00+02:00\",\"2021-07-15 03:38:00+02:00\",\"2021-07-15 05:55:00+02:00\",\"2021-07-25 05:54:00+02:00\"],[120.0,660.0,780.0,120.0,120.0,360.0,120.0,660.0,360.0,360.0,120.0,360.0,120.0,120.0,360.0,240.0,240.0,120.0,240.0,120.0,240.0,600.0,240.0,120.0,240.0,600.0,120.0],[84.5,84.5,84.5,84.5,84.5,84.5,84.5,84.5,84.5,84.5,84.5,84.5,84.5,84.5,84.5,84.5,84.5,84.5,84.5,84.5,84.5,84.5,84.5,84.5,84.5,84.5,84.5]]},\"header\":{\"align\":\"left\",\"fill\":{\"color\":\"paleturquoise\"},\"values\":[\"time\",\"vfr11\",\"s12\",\"vfr21\",\"s22\",\"vfr1\",\"s2\"]},\"type\":\"table\"}],                        {\"template\":{\"data\":{\"bar\":[{\"error_x\":{\"color\":\"#2a3f5f\"},\"error_y\":{\"color\":\"#2a3f5f\"},\"marker\":{\"line\":{\"color\":\"#E5ECF6\",\"width\":0.5},\"pattern\":{\"fillmode\":\"overlay\",\"size\":10,\"solidity\":0.2}},\"type\":\"bar\"}],\"barpolar\":[{\"marker\":{\"line\":{\"color\":\"#E5ECF6\",\"width\":0.5},\"pattern\":{\"fillmode\":\"overlay\",\"size\":10,\"solidity\":0.2}},\"type\":\"barpolar\"}],\"carpet\":[{\"aaxis\":{\"endlinecolor\":\"#2a3f5f\",\"gridcolor\":\"white\",\"linecolor\":\"white\",\"minorgridcolor\":\"white\",\"startlinecolor\":\"#2a3f5f\"},\"baxis\":{\"endlinecolor\":\"#2a3f5f\",\"gridcolor\":\"white\",\"linecolor\":\"white\",\"minorgridcolor\":\"white\",\"startlinecolor\":\"#2a3f5f\"},\"type\":\"carpet\"}],\"choropleth\":[{\"colorbar\":{\"outlinewidth\":0,\"ticks\":\"\"},\"type\":\"choropleth\"}],\"contour\":[{\"colorbar\":{\"outlinewidth\":0,\"ticks\":\"\"},\"colorscale\":[[0.0,\"#0d0887\"],[0.1111111111111111,\"#46039f\"],[0.2222222222222222,\"#7201a8\"],[0.3333333333333333,\"#9c179e\"],[0.4444444444444444,\"#bd3786\"],[0.5555555555555556,\"#d8576b\"],[0.6666666666666666,\"#ed7953\"],[0.7777777777777778,\"#fb9f3a\"],[0.8888888888888888,\"#fdca26\"],[1.0,\"#f0f921\"]],\"type\":\"contour\"}],\"contourcarpet\":[{\"colorbar\":{\"outlinewidth\":0,\"ticks\":\"\"},\"type\":\"contourcarpet\"}],\"heatmap\":[{\"colorbar\":{\"outlinewidth\":0,\"ticks\":\"\"},\"colorscale\":[[0.0,\"#0d0887\"],[0.1111111111111111,\"#46039f\"],[0.2222222222222222,\"#7201a8\"],[0.3333333333333333,\"#9c179e\"],[0.4444444444444444,\"#bd3786\"],[0.5555555555555556,\"#d8576b\"],[0.6666666666666666,\"#ed7953\"],[0.7777777777777778,\"#fb9f3a\"],[0.8888888888888888,\"#fdca26\"],[1.0,\"#f0f921\"]],\"type\":\"heatmap\"}],\"heatmapgl\":[{\"colorbar\":{\"outlinewidth\":0,\"ticks\":\"\"},\"colorscale\":[[0.0,\"#0d0887\"],[0.1111111111111111,\"#46039f\"],[0.2222222222222222,\"#7201a8\"],[0.3333333333333333,\"#9c179e\"],[0.4444444444444444,\"#bd3786\"],[0.5555555555555556,\"#d8576b\"],[0.6666666666666666,\"#ed7953\"],[0.7777777777777778,\"#fb9f3a\"],[0.8888888888888888,\"#fdca26\"],[1.0,\"#f0f921\"]],\"type\":\"heatmapgl\"}],\"histogram\":[{\"marker\":{\"pattern\":{\"fillmode\":\"overlay\",\"size\":10,\"solidity\":0.2}},\"type\":\"histogram\"}],\"histogram2d\":[{\"colorbar\":{\"outlinewidth\":0,\"ticks\":\"\"},\"colorscale\":[[0.0,\"#0d0887\"],[0.1111111111111111,\"#46039f\"],[0.2222222222222222,\"#7201a8\"],[0.3333333333333333,\"#9c179e\"],[0.4444444444444444,\"#bd3786\"],[0.5555555555555556,\"#d8576b\"],[0.6666666666666666,\"#ed7953\"],[0.7777777777777778,\"#fb9f3a\"],[0.8888888888888888,\"#fdca26\"],[1.0,\"#f0f921\"]],\"type\":\"histogram2d\"}],\"histogram2dcontour\":[{\"colorbar\":{\"outlinewidth\":0,\"ticks\":\"\"},\"colorscale\":[[0.0,\"#0d0887\"],[0.1111111111111111,\"#46039f\"],[0.2222222222222222,\"#7201a8\"],[0.3333333333333333,\"#9c179e\"],[0.4444444444444444,\"#bd3786\"],[0.5555555555555556,\"#d8576b\"],[0.6666666666666666,\"#ed7953\"],[0.7777777777777778,\"#fb9f3a\"],[0.8888888888888888,\"#fdca26\"],[1.0,\"#f0f921\"]],\"type\":\"histogram2dcontour\"}],\"mesh3d\":[{\"colorbar\":{\"outlinewidth\":0,\"ticks\":\"\"},\"type\":\"mesh3d\"}],\"parcoords\":[{\"line\":{\"colorbar\":{\"outlinewidth\":0,\"ticks\":\"\"}},\"type\":\"parcoords\"}],\"pie\":[{\"automargin\":true,\"type\":\"pie\"}],\"scatter\":[{\"marker\":{\"colorbar\":{\"outlinewidth\":0,\"ticks\":\"\"}},\"type\":\"scatter\"}],\"scatter3d\":[{\"line\":{\"colorbar\":{\"outlinewidth\":0,\"ticks\":\"\"}},\"marker\":{\"colorbar\":{\"outlinewidth\":0,\"ticks\":\"\"}},\"type\":\"scatter3d\"}],\"scattercarpet\":[{\"marker\":{\"colorbar\":{\"outlinewidth\":0,\"ticks\":\"\"}},\"type\":\"scattercarpet\"}],\"scattergeo\":[{\"marker\":{\"colorbar\":{\"outlinewidth\":0,\"ticks\":\"\"}},\"type\":\"scattergeo\"}],\"scattergl\":[{\"marker\":{\"colorbar\":{\"outlinewidth\":0,\"ticks\":\"\"}},\"type\":\"scattergl\"}],\"scattermapbox\":[{\"marker\":{\"colorbar\":{\"outlinewidth\":0,\"ticks\":\"\"}},\"type\":\"scattermapbox\"}],\"scatterpolar\":[{\"marker\":{\"colorbar\":{\"outlinewidth\":0,\"ticks\":\"\"}},\"type\":\"scatterpolar\"}],\"scatterpolargl\":[{\"marker\":{\"colorbar\":{\"outlinewidth\":0,\"ticks\":\"\"}},\"type\":\"scatterpolargl\"}],\"scatterternary\":[{\"marker\":{\"colorbar\":{\"outlinewidth\":0,\"ticks\":\"\"}},\"type\":\"scatterternary\"}],\"surface\":[{\"colorbar\":{\"outlinewidth\":0,\"ticks\":\"\"},\"colorscale\":[[0.0,\"#0d0887\"],[0.1111111111111111,\"#46039f\"],[0.2222222222222222,\"#7201a8\"],[0.3333333333333333,\"#9c179e\"],[0.4444444444444444,\"#bd3786\"],[0.5555555555555556,\"#d8576b\"],[0.6666666666666666,\"#ed7953\"],[0.7777777777777778,\"#fb9f3a\"],[0.8888888888888888,\"#fdca26\"],[1.0,\"#f0f921\"]],\"type\":\"surface\"}],\"table\":[{\"cells\":{\"fill\":{\"color\":\"#EBF0F8\"},\"line\":{\"color\":\"white\"}},\"header\":{\"fill\":{\"color\":\"#C8D4E3\"},\"line\":{\"color\":\"white\"}},\"type\":\"table\"}]},\"layout\":{\"annotationdefaults\":{\"arrowcolor\":\"#2a3f5f\",\"arrowhead\":0,\"arrowwidth\":1},\"autotypenumbers\":\"strict\",\"coloraxis\":{\"colorbar\":{\"outlinewidth\":0,\"ticks\":\"\"}},\"colorscale\":{\"diverging\":[[0,\"#8e0152\"],[0.1,\"#c51b7d\"],[0.2,\"#de77ae\"],[0.3,\"#f1b6da\"],[0.4,\"#fde0ef\"],[0.5,\"#f7f7f7\"],[0.6,\"#e6f5d0\"],[0.7,\"#b8e186\"],[0.8,\"#7fbc41\"],[0.9,\"#4d9221\"],[1,\"#276419\"]],\"sequential\":[[0.0,\"#0d0887\"],[0.1111111111111111,\"#46039f\"],[0.2222222222222222,\"#7201a8\"],[0.3333333333333333,\"#9c179e\"],[0.4444444444444444,\"#bd3786\"],[0.5555555555555556,\"#d8576b\"],[0.6666666666666666,\"#ed7953\"],[0.7777777777777778,\"#fb9f3a\"],[0.8888888888888888,\"#fdca26\"],[1.0,\"#f0f921\"]],\"sequentialminus\":[[0.0,\"#0d0887\"],[0.1111111111111111,\"#46039f\"],[0.2222222222222222,\"#7201a8\"],[0.3333333333333333,\"#9c179e\"],[0.4444444444444444,\"#bd3786\"],[0.5555555555555556,\"#d8576b\"],[0.6666666666666666,\"#ed7953\"],[0.7777777777777778,\"#fb9f3a\"],[0.8888888888888888,\"#fdca26\"],[1.0,\"#f0f921\"]]},\"colorway\":[\"#636efa\",\"#EF553B\",\"#00cc96\",\"#ab63fa\",\"#FFA15A\",\"#19d3f3\",\"#FF6692\",\"#B6E880\",\"#FF97FF\",\"#FECB52\"],\"font\":{\"color\":\"#2a3f5f\"},\"geo\":{\"bgcolor\":\"white\",\"lakecolor\":\"white\",\"landcolor\":\"#E5ECF6\",\"showlakes\":true,\"showland\":true,\"subunitcolor\":\"white\"},\"hoverlabel\":{\"align\":\"left\"},\"hovermode\":\"closest\",\"mapbox\":{\"style\":\"light\"},\"paper_bgcolor\":\"white\",\"plot_bgcolor\":\"#E5ECF6\",\"polar\":{\"angularaxis\":{\"gridcolor\":\"white\",\"linecolor\":\"white\",\"ticks\":\"\"},\"bgcolor\":\"#E5ECF6\",\"radialaxis\":{\"gridcolor\":\"white\",\"linecolor\":\"white\",\"ticks\":\"\"}},\"scene\":{\"xaxis\":{\"backgroundcolor\":\"#E5ECF6\",\"gridcolor\":\"white\",\"gridwidth\":2,\"linecolor\":\"white\",\"showbackground\":true,\"ticks\":\"\",\"zerolinecolor\":\"white\"},\"yaxis\":{\"backgroundcolor\":\"#E5ECF6\",\"gridcolor\":\"white\",\"gridwidth\":2,\"linecolor\":\"white\",\"showbackground\":true,\"ticks\":\"\",\"zerolinecolor\":\"white\"},\"zaxis\":{\"backgroundcolor\":\"#E5ECF6\",\"gridcolor\":\"white\",\"gridwidth\":2,\"linecolor\":\"white\",\"showbackground\":true,\"ticks\":\"\",\"zerolinecolor\":\"white\"}},\"shapedefaults\":{\"line\":{\"color\":\"#2a3f5f\"}},\"ternary\":{\"aaxis\":{\"gridcolor\":\"white\",\"linecolor\":\"white\",\"ticks\":\"\"},\"baxis\":{\"gridcolor\":\"white\",\"linecolor\":\"white\",\"ticks\":\"\"},\"bgcolor\":\"#E5ECF6\",\"caxis\":{\"gridcolor\":\"white\",\"linecolor\":\"white\",\"ticks\":\"\"}},\"title\":{\"x\":0.05},\"xaxis\":{\"automargin\":true,\"gridcolor\":\"white\",\"linecolor\":\"white\",\"ticks\":\"\",\"title\":{\"standoff\":15},\"zerolinecolor\":\"white\",\"zerolinewidth\":2},\"yaxis\":{\"automargin\":true,\"gridcolor\":\"white\",\"linecolor\":\"white\",\"ticks\":\"\",\"title\":{\"standoff\":15},\"zerolinecolor\":\"white\",\"zerolinewidth\":2}}}},                        {\"responsive\": true}                    ).then(function(){\n",
       "                            \n",
       "var gd = document.getElementById('7497162c-fbab-4f3e-9c0b-54a3eea63ffd');\n",
       "var x = new MutationObserver(function (mutations, observer) {{\n",
       "        var display = window.getComputedStyle(gd).display;\n",
       "        if (!display || display === 'none') {{\n",
       "            console.log([gd, 'removed!']);\n",
       "            Plotly.purge(gd);\n",
       "            observer.disconnect();\n",
       "        }}\n",
       "}});\n",
       "\n",
       "// Listen for the removal of the full notebook cells\n",
       "var notebookContainer = gd.closest('#notebook-container');\n",
       "if (notebookContainer) {{\n",
       "    x.observe(notebookContainer, {childList: true});\n",
       "}}\n",
       "\n",
       "// Listen for the clearing of the current output cell\n",
       "var outputEl = gd.closest('.output');\n",
       "if (outputEl) {{\n",
       "    x.observe(outputEl, {childList: true});\n",
       "}}\n",
       "\n",
       "                        })                };                });            </script>        </div>"
      ]
     },
     "metadata": {},
     "output_type": "display_data"
    }
   ],
   "source": [
    "fig = go.Figure(data=[go.Table(\n",
    "    header=dict(values=list(df.columns),\n",
    "                fill_color='paleturquoise',\n",
    "                align='left'),\n",
    "    cells=dict(values=[df.time, df.vfr11, df.s12],\n",
    "               fill_color='lavender',\n",
    "               align='left'))\n",
    "])\n",
    "\n",
    "fig.show()"
   ]
  },
  {
   "cell_type": "code",
   "execution_count": 24,
   "id": "225ba0aa",
   "metadata": {},
   "outputs": [],
   "source": [
    "query = db.select([db.func.count(tr.columns.time)]).where(tr.columns.s12 == 84.5)\n",
    "result_proxy = connection.execute(query)\n",
    "result_set = result_proxy.fetchmany(10)"
   ]
  },
  {
   "cell_type": "code",
   "execution_count": 25,
   "id": "8b84e290",
   "metadata": {},
   "outputs": [
    {
     "data": {
      "text/plain": [
       "[(27,)]"
      ]
     },
     "execution_count": 25,
     "metadata": {},
     "output_type": "execute_result"
    }
   ],
   "source": [
    "result_set"
   ]
  },
  {
   "cell_type": "markdown",
   "id": "1c6ac981",
   "metadata": {},
   "source": []
  }
 ],
 "metadata": {
  "kernelspec": {
   "display_name": "Python 3 (ipykernel)",
   "language": "python",
   "name": "python3"
  },
  "language_info": {
   "codemirror_mode": {
    "name": "ipython",
    "version": 3
   },
   "file_extension": ".py",
   "mimetype": "text/x-python",
   "name": "python",
   "nbconvert_exporter": "python",
   "pygments_lexer": "ipython3",
   "version": "3.8.5"
  }
 },
 "nbformat": 4,
 "nbformat_minor": 5
}
